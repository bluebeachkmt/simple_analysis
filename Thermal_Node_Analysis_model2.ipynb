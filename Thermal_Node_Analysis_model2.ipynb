{
 "cells": [
  {
   "cell_type": "markdown",
   "metadata": {},
   "source": [
    "# インポート"
   ]
  },
  {
   "cell_type": "code",
   "execution_count": 142,
   "metadata": {},
   "outputs": [],
   "source": [
    "import numpy as np\n",
    "import sympy as sp\n",
    "import pandas as pd\n",
    "import csv as csv\n",
    "import random\n",
    "import scipy.integrate as scp\n",
    "from scipy import optimize\n",
    "from matplotlib import pyplot"
   ]
  },
  {
   "cell_type": "markdown",
   "metadata": {},
   "source": [
    "# 熱情報の設定 "
   ]
  },
  {
   "cell_type": "markdown",
   "metadata": {},
   "source": [
    "## 熱節点の情報をインポート"
   ]
  },
  {
   "cell_type": "code",
   "execution_count": 143,
   "metadata": {},
   "outputs": [
    {
     "name": "stdout",
     "output_type": "stream",
     "text": [
      "[[0.00000000e+00 1.33200000e+02 0.00000000e+00 1.50000000e-03\n",
      "  0.00000000e+00 1.50000000e-03 0.00000000e+00]\n",
      " [1.33200000e+02 0.00000000e+00 3.00000000e-03 0.00000000e+00\n",
      "  0.00000000e+00 0.00000000e+00 0.00000000e+00]\n",
      " [0.00000000e+00 3.00000000e-03 0.00000000e+00 0.00000000e+00\n",
      "  0.00000000e+00 9.95000000e+00 0.00000000e+00]\n",
      " [1.50000000e-03 0.00000000e+00 0.00000000e+00 0.00000000e+00\n",
      "  0.00000000e+00 3.30000000e-03 3.30000000e-03]\n",
      " [0.00000000e+00 0.00000000e+00 0.00000000e+00 0.00000000e+00\n",
      "  0.00000000e+00 0.00000000e+00 2.60700000e+00]\n",
      " [1.50000000e-03 0.00000000e+00 9.95000000e+00 3.30000000e-03\n",
      "  0.00000000e+00 0.00000000e+00 4.30909091e-01]\n",
      " [0.00000000e+00 0.00000000e+00 0.00000000e+00 3.30000000e-03\n",
      "  2.60700000e+00 4.30909091e-01 0.00000000e+00]]\n"
     ]
    }
   ],
   "source": [
    "\n",
    "# 熱コンダクタンスが入っているファイルを開いて、csvで読み出す。そのあとリスト形式で文字列のまま読み出して二次元リストにする。\n",
    "with open('Simple_Analysis.csv') as csv_file:\n",
    "  f = csv.reader(csv_file, delimiter=\",\", doublequote=True, lineterminator=\"\\r\\n\", quotechar='\"', skipinitialspace=True)\n",
    "  l = [[row_ij for row_ij in row_i] for row_i in f]\n",
    "\n",
    "\n",
    "# ノード数の取得 列方向のサイズを取得し、最初の列はノード名なので1引く\n",
    "# print(l[3][0] == [] )  ← これだめ\n",
    "N_node = np.size(l, axis = 1) - 1\n",
    "\n",
    "# ノード間の熱コンダクタンスを文字列の形で取得。二次元リストはスライスで一気に取ることはできないので、行についてはfor文で取得\n",
    "# k_str = [l[2 + i][1:] for i in range(N_node)]\n",
    "# r_str = [l[4 + N_node + i ][1:] if l[4 + N_node + i ][1:]=='N/A' else 0 for i in range(N_node)]\n",
    "k_ij = np.arange(N_node * N_node, dtype = float).reshape(N_node, N_node)\n",
    "r_ij = np.arange(N_node * N_node, dtype = float).reshape(N_node, N_node)\n",
    "\n",
    "for i in range(N_node):\n",
    "  for j in range(N_node):\n",
    "    if (l[i + 2][j + 1] == 'N/A' or l[i + 2][j + 1] == '' or l[i + 2][j + 1] == '#N/A') == False :\n",
    "      k_ij[i][j] = float(l[i + 2][j + 1])\n",
    "    else:\n",
    "      k_ij[i][j] = 0.0\n",
    "    if (l[i + 4 + N_node][j + 1] == 'N/A' or l[i + 4 + N_node][j + 1] == '' or l[i + 2][j + 1] == '#N/A') == False :\n",
    "      r_ij[i][j] = float(l[i + 4 + N_node][j + 1])\n",
    "    else:\n",
    "      r_ij[i][j] = 0.0\n",
    "\n",
    "      \n",
    "# k_str = [[float(l[2 + i][1 + j]) if (l[2+ i][1 + j] != 'N/A' and l[2+ i][1 + j] != '') else 0.0 for j in range(N_node)] for i in range(N_node)]\n",
    "# r_str = [[l[4 + N_node + i][1+ j] if l[4 + N_node + i][1 + j] != 'N/A' else 0 for j in range(N_node)] for i in range(N_node)]\n",
    "\n",
    "\n",
    "# print(bool(l[2][3] == \"0\"))\n",
    "# print(type(l))\n",
    "# print(np.shape(l))\n",
    "#print(float(l[2][2]))\n",
    "print(k_ij)\n",
    "# print(r_str)\n",
    "\n",
    "\n",
    "# csv_file = open('/content/gdrive/My Drive/Research/LOTUS/ThermalAnalyze/Thermal_Node_Definition.csv', \"r\", encoding=\"ms932\", errors=\"\", newline=\"\" )\n",
    "# #リスト形式\n",
    "# f = csv.reader(csv_file, delimiter=\",\", doublequote=True, lineterminator=\"\\r\\n\", quotechar='\"', skipinitialspace=True)\n",
    "# print(f.reader())"
   ]
  },
  {
   "cell_type": "markdown",
   "metadata": {},
   "source": [
    "## 熱伝導係数を保持するクラス"
   ]
  },
  {
   "cell_type": "code",
   "execution_count": 144,
   "metadata": {},
   "outputs": [],
   "source": [
    "class Cond:\n",
    "  def __init__(self, K_ij=0, R_ij=0):\n",
    "    self.K_ij = K_ij\n",
    "    self.R_ij = R_ij"
   ]
  },
  {
   "cell_type": "markdown",
   "metadata": {},
   "source": [
    "## 各ノードの熱入出力や熱特性を保持するクラス"
   ]
  },
  {
   "cell_type": "code",
   "execution_count": 145,
   "metadata": {},
   "outputs": [],
   "source": [
    "# Initialize Cond class class matrix\n",
    "def init_cond(k_mat, r_mat):\n",
    "  Cond_N = [[Cond(0,0) for i in range(len(k_mat[0]))] for j in range(len(k_mat[0]))]\n",
    "  for Cond_N_i , k_i, r_i in zip(Cond_N, k_mat, r_mat):\n",
    "    for Cond_N_ij, k_ij, r_ij in zip(Cond_N_i, k_i, r_i):\n",
    "      Cond_N_ij.K_ij = k_ij\n",
    "      Cond_N_ij.R_ij = r_ij\n",
    "  return Cond_N"
   ]
  },
  {
   "cell_type": "code",
   "execution_count": 146,
   "metadata": {},
   "outputs": [
    {
     "name": "stdout",
     "output_type": "stream",
     "text": [
      "133.2\n"
     ]
    }
   ],
   "source": [
    "Cond_N = init_cond(k_ij, r_ij)\n",
    "# ちゃんと格納されているか\n",
    "print(Cond_N[0][1].K_ij)"
   ]
  },
  {
   "cell_type": "markdown",
   "metadata": {},
   "source": [
    "## 衛星座標系の設定"
   ]
  },
  {
   "cell_type": "code",
   "execution_count": 147,
   "metadata": {},
   "outputs": [],
   "source": [
    "# 座標変換行列\n",
    "# C_b_to_i = \n",
    "# C_lvlh_to_i ="
   ]
  },
  {
   "cell_type": "code",
   "execution_count": 148,
   "metadata": {},
   "outputs": [],
   "source": [
    "# 軌道情報\n"
   ]
  },
  {
   "cell_type": "code",
   "execution_count": 149,
   "metadata": {},
   "outputs": [],
   "source": [
    "# 方向余弦を返す関数\n",
    "def direction_cosine(a, b, c):\n",
    "    return (np.array([np.cos(a), np.cos(b), np.cos(c)]))"
   ]
  },
  {
   "cell_type": "code",
   "execution_count": 150,
   "metadata": {},
   "outputs": [
    {
     "name": "stdout",
     "output_type": "stream",
     "text": [
      "[7.07106781e-01 7.07106781e-01 6.12323400e-17]\n",
      "[ 6.123234e-17  6.123234e-17 -1.000000e+00]\n"
     ]
    }
   ],
   "source": [
    "# 機体固定座標からみた太陽方向(とりあえず今は固定させている)\n",
    "sun_vec_from_b = direction_cosine(np.pi/4, np.pi/4, np.pi/2)\n",
    "print(sun_vec_from_b)\n",
    "\n",
    "# 機体固定座標絡みた地球方向(とりあえず今は固定させている)\n",
    "earth_vec_from_b = direction_cosine(np.pi/2, np.pi/2, np.pi)\n",
    "print(earth_vec_from_b)\n",
    "\n",
    "# 衛星-地球-太陽の角度 80degくらいに設定\n",
    "sat_earth_sun_angle=np.pi/2.5"
   ]
  },
  {
   "cell_type": "code",
   "execution_count": 151,
   "metadata": {},
   "outputs": [],
   "source": [
    "# 衛星パネルクラス 熱計算をするときにこの情報からCondクラスに代入していく\n",
    "class Panel:\n",
    "    def __init__(self, width=0, height=0, thick=0, sp_cap=0, Q=0, angle_of_sun=0, angle_of_earth=0):\n",
    "        self.width=width\n",
    "        self.height=height\n",
    "        self.area = width*height\n",
    "        self.thick=thick\n",
    "        self.sp_cap=sp_cap\n",
    "        self.Q=Q\n",
    "        self.angle_of_sun=angle_of_sun\n",
    "        self.angle_of_earth=angle_of_earth\n",
    "        self.cap=sp_cap*width*height*thick\n",
    "        \n",
    "    # 比熱容量を設定\n",
    "    def update_capacity(self):\n",
    "        self.cap=self.sp_cap*self.width*self.height*self.thick\n",
    "    # パネル面積を設定\n",
    "    def update_area(self):\n",
    "        self.area=self.width*self.height\n",
    "        \n",
    "\n",
    "# 衛星外部パネルクラス Panelクラスを継承 太陽方向ベクトルとの内積計算のために法線ベクトルを追加する\n",
    "class Ex_Panel(Panel):\n",
    "    def __init__(self, width=0, height=0, thick=0, sp_cap=0, Q=0, angle_of_sun=0, angle_of_earth=0, F_pe=0, eps=0, alpha=0, n_vec=np.array([0.0, 0.0, 0.0]), sap_area_ratio=0, alm_area_ratio=0, osr_area_ratio=0):\n",
    "        self.width=width\n",
    "        self.height=height\n",
    "        self.area = width*height\n",
    "        self.thick=thick\n",
    "        self.sp_cap=sp_cap\n",
    "        self.Q=Q\n",
    "        self.angle_of_sun=angle_of_sun\n",
    "        self.angle_of_earth=angle_of_earth\n",
    "        self.F_pe = F_pe\n",
    "        self.eps = eps\n",
    "        self.alpha = alpha\n",
    "        self.n_vec=n_vec\n",
    "        self.cap=sp_cap*width*height*thick\n",
    "        self.sap_area_ratio = sap_area_ratio\n",
    "        self.alm_area_ratio = alm_area_ratio\n",
    "        self.osr_area_ratio = osr_area_ratio\n",
    "        \n",
    "    # 地球との形態係数\n",
    "    def view_factor_plate_sphere(self, h, beta=False):\n",
    "#         h = H/R\n",
    "        if beta == False:\n",
    "            beta=self.angle_of_earth\n",
    "        if beta>np.pi/2:\n",
    "            self.F_pe = 0\n",
    "            return 0\n",
    "\n",
    "        if beta-np.pi/2+np.arcsin(1/h)<0:\n",
    "            self.F_pe=np.cos(beta)/h**2\n",
    "        else:\n",
    "            x=np.sqrt(h**2-1)/np.tan(beta)\n",
    "            y=np.sqrt(1-x**2)\n",
    "            self.F_pe=np.cos(beta)/np.pi/h/h*(np.pi-np.arccos(x)-x*y*(np.tan(beta))**2)+1.0/np.pi*np.arctan(y/x*np.cos(beta))\n",
    "        return self.F_pe"
   ]
  },
  {
   "cell_type": "markdown",
   "metadata": {},
   "source": [
    "### パネル情報の設定\n",
    "SAP面: SAP8割, アルミ面2割 \n",
    "放熱面: アルミ面2割, OSR8割"
   ]
  },
  {
   "cell_type": "code",
   "execution_count": 152,
   "metadata": {},
   "outputs": [],
   "source": [
    "# LOTUSの情報をいれる\n",
    "PX_Panel = Ex_Panel(width=300E-3, height=400E-3, thick=4, n_vec=np.array([1.0, 0.0, 0.0]), sap_area_ratio=0.8, alm_area_ratio=0.2)\n",
    "MX_Panel = Ex_Panel(width=300E-3, height=400E-3, thick=4, n_vec=np.array([-1.0, 0.0, 0.0]), alm_area_ratio=0.2, osr_area_ratio=0.8)\n",
    "\n",
    "PY_Panel = Ex_Panel(width=300E-3, height=400E-3, thick=4, n_vec=np.array([0.0, 1.0, 0.0]), sap_area_ratio=0.8, alm_area_ratio=0.2)\n",
    "MY_Panel = Ex_Panel(width=300E-3, height=400E-3, thick=4, n_vec=np.array([0.0, -1.0, 0.0]), alm_area_ratio=0.2, osr_area_ratio=0.8)\n",
    "\n",
    "PZ_Panel = Ex_Panel(width=300E-3, height=300E-3, thick=4, sp_cap=3, n_vec=np.array([0.0, 0.0, 1.0]), sap_area_ratio=0.8, alm_area_ratio=0.2)\n",
    "MZ_Panel = Ex_Panel(width=300E-3, height=300E-3, thick=4, n_vec=np.array([0.0, 0.0, -1.0]), alm_area_ratio=0.2, osr_area_ratio=0.8)"
   ]
  },
  {
   "cell_type": "code",
   "execution_count": 153,
   "metadata": {},
   "outputs": [
    {
     "name": "stdout",
     "output_type": "stream",
     "text": [
      "0.3\n",
      "0.12\n",
      "0.2\n"
     ]
    }
   ],
   "source": [
    "print(PX_Panel.width)\n",
    "PX_Panel.update_capacity()\n",
    "PX_Panel.update_area()\n",
    "print(PX_Panel.area)\n",
    "print(PX_Panel.alm_area_ratio)"
   ]
  },
  {
   "cell_type": "code",
   "execution_count": 154,
   "metadata": {},
   "outputs": [
    {
     "name": "stdout",
     "output_type": "stream",
     "text": [
      "0.7071067811865476\n",
      "-0.7071067811865476\n",
      "0.7071067811865476\n",
      "-0.7071067811865476\n",
      "6.123233995736766e-17\n",
      "-6.123233995736766e-17\n"
     ]
    }
   ],
   "source": [
    "# 太陽方向ベクトルとの内積を考える\n",
    "print(np.dot(PX_Panel.n_vec, sun_vec_from_b))\n",
    "print(np.dot(MX_Panel.n_vec, sun_vec_from_b))\n",
    "\n",
    "print(np.dot(PY_Panel.n_vec, sun_vec_from_b))\n",
    "print(np.dot(MY_Panel.n_vec, sun_vec_from_b))\n",
    "\n",
    "print(np.dot(PZ_Panel.n_vec, sun_vec_from_b))\n",
    "print(np.dot(MZ_Panel.n_vec, sun_vec_from_b))"
   ]
  },
  {
   "cell_type": "code",
   "execution_count": 155,
   "metadata": {},
   "outputs": [],
   "source": [
    "# ベクトルのなす角を計算\n",
    "def angle_of_vector(vec1, vec2):\n",
    "    cos=np.dot(vec1, vec2)/np.linalg.norm(vec1, ord=2)/np.linalg.norm(vec2, ord=2)\n",
    "    if cos < -1.0:\n",
    "        cos = -1\n",
    "    elif cos > 1.0:\n",
    "        cos = 1\n",
    "    return np.arccos(cos)"
   ]
  },
  {
   "cell_type": "markdown",
   "metadata": {},
   "source": [
    "## 形態係数の式\n",
    "http://www1.accsnet.ne.jp/~aml00731/c/thermal/View_Factor.pdf (微小平板の式を用いた）"
   ]
  },
  {
   "cell_type": "code",
   "execution_count": 156,
   "metadata": {},
   "outputs": [],
   "source": [
    "# パネルへの各熱入力に対する形態係数を計算する\n",
    "def view_factor_plate_sphere(h, beta):\n",
    "#     h = H/R\n",
    "    if beta>np.pi/2:\n",
    "        return 0\n",
    "    \n",
    "    if beta-np.pi/2+np.arcsin(1/h)<0:\n",
    "        F_12=np.cos(beta)/h**2\n",
    "    else:\n",
    "        x=np.sqrt(h**2-1)/np.tan(beta)\n",
    "        y=np.sqrt(1-x**2)\n",
    "        F_12=np.cos(beta)/np.pi/h/h*(np.pi-np.arccos(x)-x*y*(np.tan(beta))**2)+1.0/np.pi*np.arctan(y/x*np.cos(beta))\n",
    "    return F_12"
   ]
  },
  {
   "cell_type": "code",
   "execution_count": 157,
   "metadata": {},
   "outputs": [
    {
     "data": {
      "text/plain": [
       "0.02883444281121869"
      ]
     },
     "execution_count": 157,
     "metadata": {},
     "output_type": "execute_result"
    }
   ],
   "source": [
    "view_factor_plate_sphere(2, np.pi/2)"
   ]
  },
  {
   "cell_type": "code",
   "execution_count": 158,
   "metadata": {},
   "outputs": [],
   "source": [
    "# F_12をプロットしてみる\n",
    "h=np.linspace(1.0000001,2,100)\n",
    "F_12=np.zeros_like(h)\n",
    "for i in range(len(h)):\n",
    "    F_12[i]=view_factor_plate_sphere(h[i], np.pi/2)"
   ]
  },
  {
   "cell_type": "code",
   "execution_count": 159,
   "metadata": {},
   "outputs": [
    {
     "data": {
      "text/plain": [
       "[<matplotlib.lines.Line2D at 0x20827941ee0>]"
      ]
     },
     "execution_count": 159,
     "metadata": {},
     "output_type": "execute_result"
    },
    {
     "data": {
      "image/png": "[encoded data removed]",
      "text/plain": [
       "<Figure size 432x288 with 1 Axes>"
      ]
     },
     "metadata": {
      "needs_background": "light"
     },
     "output_type": "display_data"
    }
   ],
   "source": [
    "pyplot.plot(h, F_12)"
   ]
  },
  {
   "cell_type": "code",
   "execution_count": 160,
   "metadata": {},
   "outputs": [],
   "source": [
    "# 太陽熱入力 1399[W/m]\n",
    "E_s = 1353\n",
    "# 地球赤外放射 264[W/m]\n",
    "E_e = 237\n",
    "# アルベド係数\n",
    "alb_co = 0.60"
   ]
  },
  {
   "cell_type": "code",
   "execution_count": 161,
   "metadata": {},
   "outputs": [
    {
     "data": {
      "text/plain": [
       "0.21852622510204706"
      ]
     },
     "execution_count": 161,
     "metadata": {},
     "output_type": "execute_result"
    }
   ],
   "source": [
    "# 地球半径 Re\n",
    "Re = 6378\n",
    "alt = 800\n",
    "h_for_vf=(Re+alt)/Re\n",
    "view_factor_plate_sphere(h_for_vf, np.pi/2)"
   ]
  },
  {
   "cell_type": "code",
   "execution_count": 162,
   "metadata": {},
   "outputs": [],
   "source": [
    "# 吸収率と放射率\n",
    "alpha_s_osr = 0.077\n",
    "eps_osr = 0.79\n",
    "alpha_s_sap = 0.9\n",
    "eps_sap = 0.8\n",
    "alpha_s_alm = 0.5\n",
    "eps_alm = 0.5"
   ]
  },
  {
   "cell_type": "code",
   "execution_count": 163,
   "metadata": {},
   "outputs": [],
   "source": [
    "# SAPの効率\n",
    "efficiency_sap = 0.3"
   ]
  },
  {
   "cell_type": "code",
   "execution_count": 164,
   "metadata": {},
   "outputs": [
    {
     "name": "stdout",
     "output_type": "stream",
     "text": [
      "0.39599999999999996\n"
     ]
    }
   ],
   "source": [
    "# 放熱面面積の割合\n",
    "radiator_rate = 0.6\n",
    "A_all = PX_Panel.area+MX_Panel.area+PY_Panel.area+MY_Panel.area+PZ_Panel.area+MZ_Panel.area\n",
    "A_rad = radiator_rate*A_all\n",
    "print(A_rad)"
   ]
  },
  {
   "cell_type": "code",
   "execution_count": 165,
   "metadata": {},
   "outputs": [],
   "source": [
    "# パネルと太陽、地球との角度を計算\n",
    "PX_Panel.angle_of_sun = angle_of_vector(PX_Panel.n_vec, sun_vec_from_b)\n",
    "MX_Panel.angle_of_sun = angle_of_vector(MX_Panel.n_vec, sun_vec_from_b)\n",
    "PY_Panel.angle_of_sun = angle_of_vector(PX_Panel.n_vec, sun_vec_from_b)\n",
    "MY_Panel.angle_of_sun = angle_of_vector(MY_Panel.n_vec, sun_vec_from_b)\n",
    "PZ_Panel.angle_of_sun = angle_of_vector(PZ_Panel.n_vec, sun_vec_from_b)\n",
    "MZ_Panel.angle_of_sun = angle_of_vector(MZ_Panel.n_vec, sun_vec_from_b)\n",
    "\n",
    "PX_Panel.angle_of_earth = angle_of_vector(PX_Panel.n_vec, earth_vec_from_b)\n",
    "MX_Panel.angle_of_earth = angle_of_vector(MX_Panel.n_vec, earth_vec_from_b)\n",
    "PY_Panel.angle_of_earth = angle_of_vector(PX_Panel.n_vec, earth_vec_from_b)\n",
    "MY_Panel.angle_of_earth = angle_of_vector(MY_Panel.n_vec, earth_vec_from_b)\n",
    "PZ_Panel.angle_of_earth = angle_of_vector(PZ_Panel.n_vec, earth_vec_from_b)\n",
    "MZ_Panel.angle_of_earth = angle_of_vector(MZ_Panel.n_vec, earth_vec_from_b)"
   ]
  },
  {
   "cell_type": "code",
   "execution_count": 166,
   "metadata": {},
   "outputs": [],
   "source": [
    "# 変更前\n",
    "# 衛星の入熱（太陽からの入熱）: SAP+ALM+OSR\n",
    "PX_Panel.Q=alpha_s_sap*PX_Panel.area*max(0,np.cos(PX_Panel.angle_of_sun))*E_s*(1-efficiency_sap)\n",
    "MX_Panel.Q=alpha_s_sap*MX_Panel.area*max(0,np.cos(MX_Panel.angle_of_sun))*E_s*(1-efficiency_sap)\n",
    "PY_Panel.Q=alpha_s_sap*PY_Panel.area*max(0,np.cos(PY_Panel.angle_of_sun))*E_s*(1-efficiency_sap)\n",
    "MY_Panel.Q=alpha_s_sap*MY_Panel.area*max(0,np.cos(MY_Panel.angle_of_sun))*E_s*(1-efficiency_sap)\n",
    "PZ_Panel.Q=alpha_s_sap*PZ_Panel.area*max(0,np.cos(PZ_Panel.angle_of_sun))*E_s*(1-efficiency_sap)\n",
    "MZ_Panel.Q=alpha_s_sap*MZ_Panel.area*max(0,np.cos(MZ_Panel.angle_of_sun))*E_s*(1-efficiency_sap)\n",
    "\n",
    "# 衛星の入熱（地球からの赤外入熱）\n",
    "PX_Panel.Q+=alpha_s_sap*PX_Panel.area*max(0,np.cos(PX_Panel.angle_of_earth))*E_e*view_factor_plate_sphere(h_for_vf, PX_Panel.angle_of_earth)\n",
    "MX_Panel.Q+=alpha_s_sap*MX_Panel.area*max(0,np.cos(MX_Panel.angle_of_earth))*E_e*view_factor_plate_sphere(h_for_vf, MX_Panel.angle_of_earth)\n",
    "PY_Panel.Q+=alpha_s_sap*PY_Panel.area*max(0,np.cos(PY_Panel.angle_of_earth))*E_e*view_factor_plate_sphere(h_for_vf, PY_Panel.angle_of_earth)\n",
    "MY_Panel.Q+=alpha_s_sap*MY_Panel.area*max(0,np.cos(MY_Panel.angle_of_earth))*E_e*view_factor_plate_sphere(h_for_vf, MY_Panel.angle_of_earth)\n",
    "PZ_Panel.Q+=alpha_s_sap*PZ_Panel.area*max(0,np.cos(PZ_Panel.angle_of_earth))*E_e*view_factor_plate_sphere(h_for_vf, PZ_Panel.angle_of_earth)\n",
    "MZ_Panel.Q+=alpha_s_sap*MZ_Panel.area*max(0,np.cos(MZ_Panel.angle_of_earth))*E_e*view_factor_plate_sphere(h_for_vf, MZ_Panel.angle_of_earth)\n",
    "\n",
    "# 衛星の入熱（地球からのアルベド）\n",
    "PX_Panel.Q+=alpha_s_sap*PX_Panel.area*max(0,np.cos(PX_Panel.angle_of_earth))*alb_co*E_s*np.cos(sat_earth_sun_angle)*view_factor_plate_sphere(h_for_vf, PX_Panel.angle_of_earth)\n",
    "MX_Panel.Q+=alpha_s_sap*MX_Panel.area*max(0,np.cos(MX_Panel.angle_of_earth))*alb_co*E_s*np.cos(sat_earth_sun_angle)*view_factor_plate_sphere(h_for_vf, MX_Panel.angle_of_earth)\n",
    "PY_Panel.Q+=alpha_s_sap*PY_Panel.area*max(0,np.cos(PY_Panel.angle_of_earth))*alb_co*E_s*np.cos(sat_earth_sun_angle)*view_factor_plate_sphere(h_for_vf, PY_Panel.angle_of_earth)\n",
    "MY_Panel.Q+=alpha_s_sap*MY_Panel.area*max(0,np.cos(MY_Panel.angle_of_earth))*alb_co*E_s*np.cos(sat_earth_sun_angle)*view_factor_plate_sphere(h_for_vf, MY_Panel.angle_of_earth)\n",
    "PZ_Panel.Q+=alpha_s_sap*PZ_Panel.area*max(0,np.cos(PZ_Panel.angle_of_earth))*alb_co*E_s*np.cos(sat_earth_sun_angle)*view_factor_plate_sphere(h_for_vf, PZ_Panel.angle_of_earth)\n",
    "MZ_Panel.Q+=alpha_s_sap*MZ_Panel.area*max(0,np.cos(MZ_Panel.angle_of_earth))*alb_co*E_s*np.cos(sat_earth_sun_angle)*view_factor_plate_sphere(h_for_vf, MZ_Panel.angle_of_earth)"
   ]
  },
  {
   "cell_type": "code",
   "execution_count": 167,
   "metadata": {},
   "outputs": [
    {
     "data": {
      "text/plain": [
       "175.85450010636714"
      ]
     },
     "execution_count": 167,
     "metadata": {},
     "output_type": "execute_result"
    }
   ],
   "source": [
    "Q_in = PX_Panel.Q + MX_Panel.Q + PY_Panel.Q + MY_Panel.Q + PZ_Panel.Q + MZ_Panel.Q\n",
    "Q_in"
   ]
  },
  {
   "cell_type": "code",
   "execution_count": 168,
   "metadata": {},
   "outputs": [],
   "source": [
    "# 変更後\n",
    "# 衛星の入熱（太陽からの入熱）: SAP+ALM+OSR\n",
    "PX_Panel.Q=alpha_s_sap*PX_Panel.area*max(0,np.cos(PX_Panel.angle_of_sun))*E_s*(1-efficiency_sap)*PX_Panel.sap_area_ratio + alpha_s_alm*PX_Panel.area*max(0,np.cos(PX_Panel.angle_of_sun))*E_s*PX_Panel.alm_area_ratio + alpha_s_osr*PX_Panel.area*max(0,np.cos(PX_Panel.angle_of_sun))*E_s*PX_Panel.osr_area_ratio\n",
    "MX_Panel.Q=alpha_s_sap*MX_Panel.area*max(0,np.cos(MX_Panel.angle_of_sun))*E_s*(1-efficiency_sap)*PX_Panel.sap_area_ratio + alpha_s_alm*MX_Panel.area*max(0,np.cos(MX_Panel.angle_of_sun))*E_s*MX_Panel.alm_area_ratio + alpha_s_osr*MX_Panel.area*max(0,np.cos(MX_Panel.angle_of_sun))*E_s*MX_Panel.osr_area_ratio\n",
    "PY_Panel.Q=alpha_s_sap*PY_Panel.area*max(0,np.cos(PY_Panel.angle_of_sun))*E_s*(1-efficiency_sap)*PY_Panel.sap_area_ratio + alpha_s_alm*PY_Panel.area*max(0,np.cos(PY_Panel.angle_of_sun))*E_s*PY_Panel.alm_area_ratio + alpha_s_osr*PY_Panel.area*max(0,np.cos(PY_Panel.angle_of_sun))*E_s*PY_Panel.osr_area_ratio\n",
    "MY_Panel.Q=alpha_s_sap*MY_Panel.area*max(0,np.cos(MY_Panel.angle_of_sun))*E_s*(1-efficiency_sap)*MY_Panel.sap_area_ratio + alpha_s_alm*MY_Panel.area*max(0,np.cos(MY_Panel.angle_of_sun))*E_s*MY_Panel.alm_area_ratio + alpha_s_osr*MY_Panel.area*max(0,np.cos(MY_Panel.angle_of_sun))*E_s*MY_Panel.osr_area_ratio\n",
    "PZ_Panel.Q=alpha_s_sap*PZ_Panel.area*max(0,np.cos(PZ_Panel.angle_of_sun))*E_s*(1-efficiency_sap)*PZ_Panel.sap_area_ratio + alpha_s_alm*PZ_Panel.area*max(0,np.cos(PZ_Panel.angle_of_sun))*E_s*PZ_Panel.alm_area_ratio + alpha_s_osr*PZ_Panel.area*max(0,np.cos(PZ_Panel.angle_of_sun))*E_s*PZ_Panel.osr_area_ratio\n",
    "MZ_Panel.Q=alpha_s_sap*MZ_Panel.area*max(0,np.cos(MZ_Panel.angle_of_sun))*E_s*(1-efficiency_sap)*MZ_Panel.sap_area_ratio + alpha_s_alm*MZ_Panel.area*max(0,np.cos(MZ_Panel.angle_of_sun))*E_s*MZ_Panel.alm_area_ratio + alpha_s_osr*MZ_Panel.area*max(0,np.cos(MZ_Panel.angle_of_sun))*E_s*MZ_Panel.osr_area_ratio\n",
    "\n",
    "# 衛星の入熱（地球からの赤外入熱）\n",
    "PX_Panel.Q+=alpha_s_sap*PX_Panel.area*max(0,np.cos(PX_Panel.angle_of_earth))*E_e*view_factor_plate_sphere(h_for_vf, PX_Panel.angle_of_earth)*PX_Panel.sap_area_ratio + alpha_s_alm*PX_Panel.area*max(0,np.cos(PX_Panel.angle_of_earth))*E_e*view_factor_plate_sphere(h_for_vf, PX_Panel.angle_of_earth)*PX_Panel.alm_area_ratio + alpha_s_osr*PX_Panel.area*max(0,np.cos(PX_Panel.angle_of_earth))*E_e*view_factor_plate_sphere(h_for_vf, PX_Panel.angle_of_earth)*PX_Panel.osr_area_ratio\n",
    "MX_Panel.Q+=alpha_s_sap*MX_Panel.area*max(0,np.cos(MX_Panel.angle_of_earth))*E_e*view_factor_plate_sphere(h_for_vf, MX_Panel.angle_of_earth)*MX_Panel.sap_area_ratio + alpha_s_alm*MX_Panel.area*max(0,np.cos(MX_Panel.angle_of_earth))*E_e*view_factor_plate_sphere(h_for_vf, MX_Panel.angle_of_earth)*MX_Panel.alm_area_ratio + alpha_s_osr*MX_Panel.area*max(0,np.cos(MX_Panel.angle_of_earth))*E_e*view_factor_plate_sphere(h_for_vf, MX_Panel.angle_of_earth)*MX_Panel.osr_area_ratio\n",
    "PY_Panel.Q+=alpha_s_sap*PY_Panel.area*max(0,np.cos(PY_Panel.angle_of_earth))*E_e*view_factor_plate_sphere(h_for_vf, PY_Panel.angle_of_earth)*PY_Panel.sap_area_ratio + alpha_s_alm*PY_Panel.area*max(0,np.cos(PY_Panel.angle_of_earth))*E_e*view_factor_plate_sphere(h_for_vf, PY_Panel.angle_of_earth)*PY_Panel.alm_area_ratio + alpha_s_osr*PY_Panel.area*max(0,np.cos(PY_Panel.angle_of_earth))*E_e*view_factor_plate_sphere(h_for_vf, PY_Panel.angle_of_earth)*PY_Panel.osr_area_ratio\n",
    "MY_Panel.Q+=alpha_s_sap*MY_Panel.area*max(0,np.cos(MY_Panel.angle_of_earth))*E_e*view_factor_plate_sphere(h_for_vf, MY_Panel.angle_of_earth)*MY_Panel.sap_area_ratio + alpha_s_alm*MY_Panel.area*max(0,np.cos(MY_Panel.angle_of_earth))*E_e*view_factor_plate_sphere(h_for_vf, MY_Panel.angle_of_earth)*MY_Panel.alm_area_ratio + alpha_s_osr*MY_Panel.area*max(0,np.cos(MY_Panel.angle_of_earth))*E_e*view_factor_plate_sphere(h_for_vf, MY_Panel.angle_of_earth)*MY_Panel.osr_area_ratio\n",
    "PZ_Panel.Q+=alpha_s_sap*PZ_Panel.area*max(0,np.cos(PZ_Panel.angle_of_earth))*E_e*view_factor_plate_sphere(h_for_vf, PZ_Panel.angle_of_earth)*PZ_Panel.sap_area_ratio + alpha_s_alm*PZ_Panel.area*max(0,np.cos(PZ_Panel.angle_of_earth))*E_e*view_factor_plate_sphere(h_for_vf, PZ_Panel.angle_of_earth)*PZ_Panel.alm_area_ratio + alpha_s_osr*PZ_Panel.area*max(0,np.cos(PZ_Panel.angle_of_earth))*E_e*view_factor_plate_sphere(h_for_vf, PZ_Panel.angle_of_earth)*PZ_Panel.osr_area_ratio\n",
    "MZ_Panel.Q+=alpha_s_sap*MZ_Panel.area*max(0,np.cos(MZ_Panel.angle_of_earth))*E_e*view_factor_plate_sphere(h_for_vf, MZ_Panel.angle_of_earth)*MZ_Panel.sap_area_ratio + alpha_s_alm*MZ_Panel.area*max(0,np.cos(MZ_Panel.angle_of_earth))*E_e*view_factor_plate_sphere(h_for_vf, MZ_Panel.angle_of_earth)*MZ_Panel.alm_area_ratio + alpha_s_osr*MZ_Panel.area*max(0,np.cos(MZ_Panel.angle_of_earth))*E_e*view_factor_plate_sphere(h_for_vf, MZ_Panel.angle_of_earth)*MZ_Panel.osr_area_ratio\n",
    "\n",
    "# 衛星の入熱（地球からのアルベド）\n",
    "PX_Panel.Q+=alpha_s_sap*PX_Panel.area*max(0,np.cos(PX_Panel.angle_of_earth))*alb_co*E_s*np.cos(sat_earth_sun_angle)*view_factor_plate_sphere(h_for_vf, PX_Panel.angle_of_earth)*PX_Panel.sap_area_ratio + alpha_s_alm*PX_Panel.area*max(0,np.cos(PX_Panel.angle_of_earth))*alb_co*E_s*np.cos(sat_earth_sun_angle)*view_factor_plate_sphere(h_for_vf, PX_Panel.angle_of_earth)*PX_Panel.alm_area_ratio + alpha_s_osr*PX_Panel.area*max(0,np.cos(PX_Panel.angle_of_earth))*alb_co*E_s*np.cos(sat_earth_sun_angle)*view_factor_plate_sphere(h_for_vf, PX_Panel.angle_of_earth)*PX_Panel.osr_area_ratio\n",
    "MX_Panel.Q+=alpha_s_sap*MX_Panel.area*max(0,np.cos(MX_Panel.angle_of_earth))*alb_co*E_s*np.cos(sat_earth_sun_angle)*view_factor_plate_sphere(h_for_vf, MX_Panel.angle_of_earth)*MX_Panel.sap_area_ratio + alpha_s_alm*MX_Panel.area*max(0,np.cos(MX_Panel.angle_of_earth))*alb_co*E_s*np.cos(sat_earth_sun_angle)*view_factor_plate_sphere(h_for_vf, MX_Panel.angle_of_earth)*MX_Panel.alm_area_ratio + alpha_s_osr*MX_Panel.area*max(0,np.cos(MX_Panel.angle_of_earth))*alb_co*E_s*np.cos(sat_earth_sun_angle)*view_factor_plate_sphere(h_for_vf, MX_Panel.angle_of_earth)*MX_Panel.osr_area_ratio\n",
    "PY_Panel.Q+=alpha_s_sap*PY_Panel.area*max(0,np.cos(PY_Panel.angle_of_earth))*alb_co*E_s*np.cos(sat_earth_sun_angle)*view_factor_plate_sphere(h_for_vf, PY_Panel.angle_of_earth)*PY_Panel.sap_area_ratio + alpha_s_alm*PY_Panel.area*max(0,np.cos(PY_Panel.angle_of_earth))*alb_co*E_s*np.cos(sat_earth_sun_angle)*view_factor_plate_sphere(h_for_vf, PY_Panel.angle_of_earth)*PY_Panel.alm_area_ratio + alpha_s_osr*PY_Panel.area*max(0,np.cos(PY_Panel.angle_of_earth))*alb_co*E_s*np.cos(sat_earth_sun_angle)*view_factor_plate_sphere(h_for_vf, PY_Panel.angle_of_earth)*PY_Panel.osr_area_ratio\n",
    "MY_Panel.Q+=alpha_s_sap*MY_Panel.area*max(0,np.cos(MY_Panel.angle_of_earth))*alb_co*E_s*np.cos(sat_earth_sun_angle)*view_factor_plate_sphere(h_for_vf, MY_Panel.angle_of_earth)*MY_Panel.sap_area_ratio + alpha_s_alm*MY_Panel.area*max(0,np.cos(MY_Panel.angle_of_earth))*alb_co*E_s*np.cos(sat_earth_sun_angle)*view_factor_plate_sphere(h_for_vf, MY_Panel.angle_of_earth)*MY_Panel.alm_area_ratio + alpha_s_osr*MY_Panel.area*max(0,np.cos(MY_Panel.angle_of_earth))*alb_co*E_s*np.cos(sat_earth_sun_angle)*view_factor_plate_sphere(h_for_vf, MY_Panel.angle_of_earth)*MY_Panel.osr_area_ratio\n",
    "PZ_Panel.Q+=alpha_s_sap*PZ_Panel.area*max(0,np.cos(PZ_Panel.angle_of_earth))*alb_co*E_s*np.cos(sat_earth_sun_angle)*view_factor_plate_sphere(h_for_vf, PZ_Panel.angle_of_earth)*PZ_Panel.sap_area_ratio + alpha_s_alm*PZ_Panel.area*max(0,np.cos(PZ_Panel.angle_of_earth))*alb_co*E_s*np.cos(sat_earth_sun_angle)*view_factor_plate_sphere(h_for_vf, PZ_Panel.angle_of_earth)*PZ_Panel.alm_area_ratio + alpha_s_osr*PZ_Panel.area*max(0,np.cos(PZ_Panel.angle_of_earth))*alb_co*E_s*np.cos(sat_earth_sun_angle)*view_factor_plate_sphere(h_for_vf, PZ_Panel.angle_of_earth)*PZ_Panel.osr_area_ratio\n",
    "MZ_Panel.Q+=alpha_s_sap*MZ_Panel.area*max(0,np.cos(MZ_Panel.angle_of_earth))*alb_co*E_s*np.cos(sat_earth_sun_angle)*view_factor_plate_sphere(h_for_vf, MZ_Panel.angle_of_earth)*MZ_Panel.sap_area_ratio + alpha_s_alm*MZ_Panel.area*max(0,np.cos(MZ_Panel.angle_of_earth))*alb_co*E_s*np.cos(sat_earth_sun_angle)*view_factor_plate_sphere(h_for_vf, MZ_Panel.angle_of_earth)*MZ_Panel.alm_area_ratio + alpha_s_osr*MZ_Panel.area*max(0,np.cos(MZ_Panel.angle_of_earth))*alb_co*E_s*np.cos(sat_earth_sun_angle)*view_factor_plate_sphere(h_for_vf, MZ_Panel.angle_of_earth)*MZ_Panel.osr_area_ratio"
   ]
  },
  {
   "cell_type": "code",
   "execution_count": 169,
   "metadata": {},
   "outputs": [
    {
     "name": "stdout",
     "output_type": "stream",
     "text": [
      "69.34273762404251\n",
      "0.0\n",
      "69.34273762404251\n",
      "0.0\n",
      "4.50358227011163e-15\n",
      "5.601975377345616\n"
     ]
    }
   ],
   "source": [
    "print(PX_Panel.Q)\n",
    "print(MX_Panel.Q)\n",
    "print(PY_Panel.Q)\n",
    "print(MY_Panel.Q)\n",
    "print(PZ_Panel.Q)\n",
    "print(MZ_Panel.Q)"
   ]
  },
  {
   "cell_type": "markdown",
   "metadata": {},
   "source": [
    "## TEC(Thermal Electric Cooler)のモデル化"
   ]
  },
  {
   "cell_type": "markdown",
   "metadata": {},
   "source": [
    "### 参考ホームページ\n",
    "https://fluffyandflakey.blog/2019/08/29/cooling-a-cpu-with-tecs/\n",
    "https://www.qats.com/DataSheet/TEC_Modules (このファイルはこっちの式を採用)\n",
    "https://www.meerstetter.ch/compendium/tec-peltier-element-design-guide (TECのスペック選びに使った)"
   ]
  },
  {
   "cell_type": "markdown",
   "metadata": {},
   "source": [
    "\\begin{align}\n",
    "Q_c &= 2N \\{S_{AB} I T_c - 2N \\frac{k \\rho}{R} (T_h - T_c) \\} - \\frac{1}{2} I^2 R \\\\\n",
    "Q_h &= 2N \\{S_{AB} I T_h - 2N \\frac{k \\rho}{R} (T_h - T_c) \\} + \\frac{1}{2} I^2 R \\\\\n",
    "V &= 2N\\{S_{AB} (T_h - T_c)\\} + IR \\\\\n",
    "COP &= \\frac{Q_c}{VI} = \\frac{2N\\{S_{AB} I T_c - 2N\\frac{k \\rho}{R}(T_h-T_c)\\}-\\frac{1}{2}I^2 R}{VI}\n",
    "\\end{align}"
   ]
  },
  {
   "cell_type": "markdown",
   "metadata": {},
   "source": [
    "\\begin{align}\n",
    "  & N : \\text{The number of couples} && [-] \\\\\n",
    "  & I : \\text{Electric current passing through the Peltier} && [A] \\\\\n",
    "  &V : \\text{The voltage across TEC module} &&[V]\\\\\n",
    "  &Q_c  : \\text{Absorbed power on the Peltier cold side} && [W] \\\\\n",
    "  &Q_h : \\text{Power rejected by the Peltier hot side} &&[W]\\\\\n",
    "  &S_{ab} : \\text{the Seebeck coefficient} &&[V/K]\\\\\n",
    "  &k : \\text{Thermal conductivity of the module} &&[W/m \\cdot K]\\\\\n",
    "  &R : \\text{Electric resistance of the module} &&[\\Omega]\\\\\n",
    "  &\\rho : \\text{Electrical resistivity} &&[\\Omega \\cdot m]\\\\\n",
    "  &T_c : \\text{Cold side temperature} &&[K] \\\\\n",
    "  &T_h : \\text{Hot side temperature} &&[K] \\\\\n",
    "  &\\Delta T = T_h - T_c : \\text{Temperature difference} &&[K]\\\\\n",
    "\\end{align}"
   ]
  },
  {
   "cell_type": "code",
   "execution_count": 170,
   "metadata": {},
   "outputs": [],
   "source": [
    "# ペルチェに関するクラス\n",
    "class Peltier: \n",
    "    def __init__(self, sm=200e-6, km=1.5, rm=3.02, n=127, rho=10e-6):\n",
    "        self.Sm_ab = sm\n",
    "        self.Km = km\n",
    "        self.Rm = rm\n",
    "        self.Nm = n\n",
    "        self.Rho = rho\n",
    "  \n",
    "    def cAlculate_Voltage(self, DT, I):\n",
    "        return 2 * self.Nm * self.Sm_ab * DT + self.Rm * I\n",
    "  \n",
    "    def cAlculate_QC(self, TC, DT, I):\n",
    "        return 2 * self.Nm * (self.Sm_ab*TC*I-2*self.Nm*self.Km*self.Rho/self.Rm*DT) - 0.5*self.Rm*I*I\n",
    "  \n",
    "    def cAlculate_QH(self, TH, DT, I):\n",
    "        return 2 * self.Nm * (self.Sm_ab*TH*I-2*self.Nm*self.Km*self.Rho/self.Rm*DT) + 0.5*self.Rm*I*I\n",
    "    \n",
    "    def cAlculate_COP(self, TC, DT, I):\n",
    "        V = self.cAlculate_Voltage(DT, I)\n",
    "        QC = self.cAlculate_QC(TC, DT, I)\n",
    "        return QC/(V*I)\n",
    "    # Qc = 0 とおいてDTについて解く\n",
    "    def cAlculate_DTmax(self, TH, I):\n",
    "        return (self.Sm_ab * I * TH - I * I * self.Rm / (4.0 * self.Nm))/(self.Sm_ab * I + 2.0 * self.Nm * self.Km * self.Rho / self.Rm)\n",
    "    def cAlculate_I_argmax_COP(self, TC, DT):\n",
    "        I_cop_max = (4.0*self.Rho*self.Km*self.Nm*DT/(self.Sm_ab*self.Rm*(TC+TC+DT))*(1.0+np.sqrt(1+self.Sm_ab**2/2.0/self.Rho/self.Km*(TC+TC+DT))))\n",
    "        return I_cop_max\n",
    "    def cAlculate_I_with_const_power(self, DT, P_tec):\n",
    "        I_const_power = (-self.Nm*self.Sm_ab*DT+np.sqrt((self.Nm*self.Sm_ab*DT)**2+P_tec*self.Rm))/self.Rm\n",
    "        return I_const_power"
   ]
  },
  {
   "cell_type": "code",
   "execution_count": 171,
   "metadata": {},
   "outputs": [],
   "source": [
    "# ペルチェクラスの初期化\n",
    "pel = Peltier()"
   ]
  },
  {
   "cell_type": "markdown",
   "metadata": {},
   "source": [
    "## TECの曲線のグラフ化"
   ]
  },
  {
   "cell_type": "markdown",
   "metadata": {},
   "source": [
    " ### $Q_C$ v.s. $\\Delta T$"
   ]
  },
  {
   "cell_type": "code",
   "execution_count": 172,
   "metadata": {},
   "outputs": [
    {
     "data": {
      "image/png": "[encoded data removed]",
      "text/plain": [
       "<Figure size 432x288 with 1 Axes>"
      ]
     },
     "metadata": {
      "needs_background": "light"
     },
     "output_type": "display_data"
    }
   ],
   "source": [
    "TH_graph = 300\n",
    "I_graph_list = np.linspace(1.0, 4.0, 5)\n",
    "\n",
    "for I_graph in I_graph_list:\n",
    "    DT_max = pel.cAlculate_DTmax(TH_graph, I_graph)\n",
    "    DT_graph = np.linspace(0.0, DT_max, 10)\n",
    "    QC_graph = pel.cAlculate_QC(TH_graph-DT_graph, DT_graph, I_graph)\n",
    "    pyplot.plot(DT_graph, QC_graph, '-o', label = 'I = {0}'.format(I_graph))\n",
    "\n",
    "pyplot.title('Q_c v.s. DT')\n",
    "pyplot.xlabel('DT [K]')\n",
    "pyplot.ylabel('Q_c [W]')\n",
    "pyplot.legend()\n",
    "pyplot.xlim(0,)\n",
    "pyplot.ylim(0,)\n",
    "pyplot.show()"
   ]
  },
  {
   "cell_type": "markdown",
   "metadata": {},
   "source": [
    " ### $V$ v.s. $\\Delta T$"
   ]
  },
  {
   "cell_type": "code",
   "execution_count": 173,
   "metadata": {},
   "outputs": [
    {
     "data": {
      "image/png": "[encoded data removed]",
      "text/plain": [
       "<Figure size 432x288 with 1 Axes>"
      ]
     },
     "metadata": {
      "needs_background": "light"
     },
     "output_type": "display_data"
    }
   ],
   "source": [
    "for I_graph in I_graph_list:\n",
    "    DT_max = pel.cAlculate_DTmax(TH_graph, I_graph)\n",
    "    DT_graph = np.linspace(0.0, DT_max, 10)\n",
    "    V_graph = pel.cAlculate_Voltage(DT_graph, I_graph)\n",
    "    pyplot.plot(DT_graph, V_graph, '-o', label = 'I = {0}'.format(I_graph))\n",
    "\n",
    "pyplot.title('V v.s. DT')\n",
    "pyplot.xlabel('DT [K]')\n",
    "pyplot.ylabel('Voltage [A]')\n",
    "pyplot.legend()\n",
    "pyplot.xlim(0,)\n",
    "pyplot.ylim(0,)\n",
    "pyplot.show()"
   ]
  },
  {
   "cell_type": "markdown",
   "metadata": {},
   "source": [
    "### $COP$ v.s. $I$"
   ]
  },
  {
   "cell_type": "code",
   "execution_count": 174,
   "metadata": {},
   "outputs": [
    {
     "data": {
      "image/png": "[encoded data removed]",
      "text/plain": [
       "<Figure size 432x288 with 1 Axes>"
      ]
     },
     "metadata": {
      "needs_background": "light"
     },
     "output_type": "display_data"
    }
   ],
   "source": [
    "I_max = 4.0\n",
    "DT_COP_list = np.linspace(0, 70, 8)\n",
    "I_COP_graph = np.linspace(1.0e-4, 1, 100) * I_max\n",
    "\n",
    "# DTによってCOPが最大になるIを格納\n",
    "COP_max_value_list = []\n",
    "I_max_by_COP_list = []\n",
    "\n",
    "# COPとIをそれぞれfor文で回してリストを作成\n",
    "for DT_COP_graph in DT_COP_list:\n",
    "    COP_graph = []\n",
    "    for I_COP in I_COP_graph:\n",
    "        COP_graph.append(pel.cAlculate_COP(TH_graph - DT_COP_graph, DT_COP_graph, I_COP))\n",
    "    COP_max_value = max(COP_graph)\n",
    "    I_max_by_COP = I_COP_graph[COP_graph.index(COP_max_value)]\n",
    "    COP_max_value_list.append(COP_max_value)\n",
    "    I_max_by_COP_list.append(I_max_by_COP)\n",
    "    pyplot.plot(I_COP_graph/I_max, COP_graph, '-', label = 'DT = {0}'.format(DT_COP_graph))\n",
    "\n",
    "pyplot.plot(np.array(I_max_by_COP_list)/I_max, COP_max_value_list, 'ok')\n",
    "for I_max_by_COP, COP_max_value in zip(I_max_by_COP_list, COP_max_value_list):\n",
    "    if COP_max_value < 4.0:\n",
    "        pyplot.text(I_max_by_COP/I_max, COP_max_value, 'I={0:.2f} A COP={1:.2f}'.format(I_max_by_COP,COP_max_value))\n",
    "pyplot.title('COP v.s. DT')\n",
    "pyplot.xlabel('I/I_max [-]')\n",
    "pyplot.ylabel('COP [-]')\n",
    "pyplot.legend()\n",
    "pyplot.xlim(0,1.0)\n",
    "pyplot.ylim(0,4)\n",
    "pyplot.show()"
   ]
  },
  {
   "cell_type": "markdown",
   "metadata": {},
   "source": [
    "### $COP$ v.s. $I$ 微分が正しいかどうかの確認"
   ]
  },
  {
   "cell_type": "markdown",
   "metadata": {},
   "source": [
    "\\begin{align}\n",
    "COP &= \\frac{Q_c}{VI} = \\frac{2N\\{S_{AB} I T_c - 2N\\frac{k \\rho}{R}(T_h-T_c)\\}-\\frac{1}{2}I^2 R}{\\{2N\\{S_{AB} (T_h - T_c)\\} + IR\\}I} \\\\\n",
    "&= \\frac{a_2I^2+a_1I+a_0}{b_2I^2+b_1I}\n",
    "\\end{align}"
   ]
  },
  {
   "cell_type": "code",
   "execution_count": 175,
   "metadata": {},
   "outputs": [
    {
     "name": "stdout",
     "output_type": "stream",
     "text": [
      "a2=-1.51\n",
      "a1=14.224000000000002\n",
      "a0=-6.40887417218543\n",
      "b2=3.02\n",
      "b1=1.016\n"
     ]
    }
   ],
   "source": [
    "# DT=20のとき\n",
    "a2 = -0.5*pel.Rm\n",
    "a1 = 2.0*pel.Nm*pel.Sm_ab*(TH_graph-20)\n",
    "a0 = -4*pel.Nm**2*pel.Km*pel.Rho/pel.Rm*20\n",
    "b2 = pel.Rm\n",
    "b1 = 2.0*pel.Sm_ab*pel.Nm*20\n",
    "print(\"a2={0}\\na1={1}\\na0={2}\\nb2={3}\\nb1={4}\".format(a2,a1,a0,b2,b1))"
   ]
  },
  {
   "cell_type": "code",
   "execution_count": 176,
   "metadata": {},
   "outputs": [
    {
     "data": {
      "image/png": "[encoded data removed]",
      "text/plain": [
       "<Figure size 432x288 with 1 Axes>"
      ]
     },
     "metadata": {
      "needs_background": "light"
     },
     "output_type": "display_data"
    }
   ],
   "source": [
    "COP_graph_confirm=(a2*I_COP_graph**2+a1*I_COP_graph+a0)/(b2*I_COP_graph**2+b1*I_COP_graph)\n",
    "pyplot.plot(I_COP_graph/I_max, COP_graph_confirm, '-')\n",
    "pyplot.xlim(0,1.0)\n",
    "pyplot.ylim(0,4)\n",
    "pyplot.show()"
   ]
  },
  {
   "cell_type": "markdown",
   "metadata": {},
   "source": [
    "$COP$が最大になる$I$は以下の式"
   ]
  },
  {
   "cell_type": "markdown",
   "metadata": {},
   "source": [
    "\\begin{align}\n",
    "    I_{@maxCOP}=\\frac{4\\rho k N (T_h-T_c)}{S_{AB} R (T_h-T_c)} \\{ 1+\\sqrt{1+\\frac{{S_{AB}}^2}{2 \\rho k}(T_h+T_c)} \\}\n",
    "\\end{align}"
   ]
  },
  {
   "cell_type": "code",
   "execution_count": 177,
   "metadata": {},
   "outputs": [
    {
     "name": "stdout",
     "output_type": "stream",
     "text": [
      "[0.         0.49964554 1.01434643 1.54488257 2.09208936 2.65686276\n",
      " 3.24016488 3.84303024]\n"
     ]
    }
   ],
   "source": [
    "# I_max_COP = 4.0*pel.Rho*pel.Km*pel.Nm*20/(pel.Sm_ab*pel.Rm*(TH_graph+TH_graph-20))*(1.0+np.sqrt(1+pel.Sm_ab**2/2.0/pel.Rho/pel.Km*(TH_graph+TH_graph-20)))\n",
    "I_max_COP = pel.cAlculate_I_argmax_COP(TH_graph-DT_COP_list, DT_COP_list)\n",
    "print(I_max_COP)"
   ]
  },
  {
   "cell_type": "markdown",
   "metadata": {},
   "source": [
    "# TEC制御"
   ]
  },
  {
   "cell_type": "markdown",
   "metadata": {},
   "source": [
    "\\begin{align}\n",
    "  &C_o = 29.48 : \\text{Capacity of the object} && [J/K] \\\\\n",
    "  &C_{s1} = 3.6 : \\text{Capacity of the cold side of the Peltier} && [J/K] \\\\\n",
    "  &C_{s2} = 3.6 : \\text{Capacity of the cold side of the Peltier} &&[J/K]\\\\\n",
    "  &K_{o,s1} = 1.8 : \\text{Conductivity between the object and the cold side of the Peltier} &&[W/K]\\\\\n",
    "  &R_{s2,a} = 1.53e-10 : \\text{Conductivity of the cold side of the Peltier} &&[W/K^4]\\\\\n",
    "\\end{align}"
   ]
  },
  {
   "cell_type": "code",
   "execution_count": 178,
   "metadata": {},
   "outputs": [],
   "source": [
    "# # 初期状態\n",
    "# T0 = [263, 263, 263, 3]\n",
    "# C = [29.48, 3.6, 3.6, 1e+10]\n",
    "# Qg = [1, 0, 0, 0]\n",
    "# I = 0\n",
    "# 消費電力\n",
    "P_gen = 50\n",
    "\n",
    "# TECに供給する電力\n",
    "P_tec_ratio = 0.08\n",
    "P_tec = P_tec_ratio * P_gen\n",
    "# COPはとりあえず2くらい\n",
    "COP_tec = 2\n",
    "# QcはCOP*供給電力\n",
    "Qc_tec = P_tec * COP_tec\n",
    "# ステファンボルツマン定数\n",
    "sigma = 5.669E-8\n",
    "\n",
    "T0 = [273, 273, 273, 273, 273, 273, 273]\n",
    "T_obj_list = np.linspace(200, 270, 100)\n",
    "P_gen_list = np.linspace(10, 50, 100)\n",
    "# C=[1000, 1000, 1000, 1000, 1000, 1000, 1000]\n",
    "C =  [18.3, 15.0, 15.0, 976.8, 29191.7, 2043.4, 2043.4]\n",
    "Qg = [1.0, 0, 0, 0, 0, 0, 0]"
   ]
  },
  {
   "cell_type": "code",
   "execution_count": 97,
   "metadata": {},
   "outputs": [],
   "source": [
    "# 制御パラメータ\n",
    "# Kp = 0.0001\n",
    "# Kd = 0.0001"
   ]
  },
  {
   "cell_type": "code",
   "execution_count": 98,
   "metadata": {},
   "outputs": [],
   "source": [
    "# 目標値\n",
    "# T_obj_d = 213"
   ]
  },
  {
   "cell_type": "code",
   "execution_count": 179,
   "metadata": {},
   "outputs": [],
   "source": [
    "# 熱伝導方程式\n",
    "def dT_dt(T, Cond_N, C, Qg):\n",
    "    dTdt=[]\n",
    "    for T_i, Cond_N_i, C_i, Qg_i in zip(T, Cond_N, C, Qg):\n",
    "        Q_cond_i = 0\n",
    "        for Cond_N_ij, T_j in zip(Cond_N_i,T):\n",
    "            Q_cond_i += Cond_N_ij.K_ij*(T_i - T_j) + Cond_N_ij.R_ij*(T_i**4 - T_j**4)\n",
    "        dTdt.append((Qg_i - Q_cond_i)/C_i)\n",
    "    return dTdt"
   ]
  },
  {
   "cell_type": "code",
   "execution_count": 180,
   "metadata": {},
   "outputs": [],
   "source": [
    "# dT_dt(T0, Cond_N, C, Qg)"
   ]
  },
  {
   "cell_type": "code",
   "execution_count": 181,
   "metadata": {},
   "outputs": [],
   "source": [
    "# def system(t, x):\n",
    "#     global I\n",
    "#     dI = - Kp * (T_obj_d - x[1]) - Kd * dT_dt(x, Cond_N, C, Qg)[1]\n",
    "#     I = I + dI\n",
    "#     if I>0:\n",
    "#         I = min(I_max, I)\n",
    "#     else:\n",
    "#         I = 0\n",
    "#     Qg[1] = pel.cAlculate_QC(x[1], x[2]-x[1], I)\n",
    "#     Qg[2] = pel.cAlculate_QH(x[2], x[2]-x[1], I)\n",
    "    \n",
    "#     y = dT_dt(x, Cond_N, C, Qg)\n",
    "#     return y"
   ]
  },
  {
   "cell_type": "code",
   "execution_count": 182,
   "metadata": {},
   "outputs": [],
   "source": [
    "# def simulation(x0, end, step):\n",
    "#     T_obj = []\n",
    "#     t = []\n",
    "#     I_rec = []\n",
    "#     ode =  scp.ode(system)\n",
    "#     ode.set_integrator('dopri5', method='bdf', atol=1.0e-2)\n",
    "#     ode.set_initial_value(x0, 0)\n",
    "#     t.append(0)\n",
    "#     T_obj.append(x0[0])\n",
    "#     I_rec.append(0)\n",
    "#     while ode.successful() and ode.t < end - step:\n",
    "#         ode.integrate(ode.t + step)\n",
    "#         t.append(ode.t)\n",
    "#         T_obj.append(ode.y[1])\n",
    "#         I_rec.append(I)\n",
    "#     return T_obj, I_rec, t"
   ]
  },
  {
   "cell_type": "code",
   "execution_count": 183,
   "metadata": {},
   "outputs": [],
   "source": [
    "# def Q_generated(T):\n",
    "#     Gg="
   ]
  },
  {
   "cell_type": "code",
   "execution_count": null,
   "metadata": {},
   "outputs": [],
   "source": []
  },
  {
   "cell_type": "code",
   "execution_count": 184,
   "metadata": {},
   "outputs": [],
   "source": [
    "def system(t, x):\n",
    "    Qg[1]= -Qc_tec\n",
    "    Qg[2]= P_tec+Qc_tec\n",
    "    Qg[4]= P_gen\n",
    "    Qg[5]= -eps_osr*1.0*sigma*A_rad*(x[5]**4 - 4**4)\n",
    "    Qg[6]= Q_in - eps_sap*1.0*sigma*(A_all-A_rad)*(x[6]**4 - 4**4)\n",
    "    \n",
    "    y = dT_dt(x, Cond_N, C, Qg)\n",
    "    return y"
   ]
  },
  {
   "cell_type": "code",
   "execution_count": 185,
   "metadata": {},
   "outputs": [],
   "source": [
    "# TEC制御なしバージョン\n",
    "def simulation(x0, end, step):\n",
    "    T_obj = []\n",
    "    T_tec_c = []\n",
    "    T_tec_h = []\n",
    "    T_ins = []\n",
    "    T_pgen = []\n",
    "    T_out = []\n",
    "    T_in = []\n",
    "    t = []\n",
    "    ode =  scp.ode(system)\n",
    "    ode.set_integrator('dopri5', method='bdf', atol=1.0e-2)\n",
    "    # 最小値は0(絶対零度)にクリッピングさせる\n",
    "    x0=np.clip(x0, 0.0, None)\n",
    "    ode.set_initial_value(x0, 0)\n",
    "    t.append(0)\n",
    "    T_obj.append(x0[0])\n",
    "    T_tec_c.append(x0[1])\n",
    "    T_tec_h.append(x0[2])\n",
    "    T_ins.append(x0[3])\n",
    "    T_pgen.append(x0[4])\n",
    "    T_out.append(x0[5])\n",
    "    T_in.append(x0[6])\n",
    "    while ode.successful() and ode.t < end - step:\n",
    "        # 最小値をゼロにクリッピングさせる\n",
    "        ode.y[0:6]=np.clip(ode.y[0:6], 0.0, None)\n",
    "        ode.integrate(ode.t + step)\n",
    "        t.append(ode.t)\n",
    "        T_obj.append(ode.y[0])\n",
    "        T_tec_c.append(ode.y[1])\n",
    "        T_tec_h.append(ode.y[2])\n",
    "        T_ins.append(ode.y[3])\n",
    "        T_pgen.append(ode.y[4])\n",
    "        T_out.append(ode.y[5])\n",
    "        T_in.append(ode.y[6])\n",
    "    return T_obj, T_tec_c, T_tec_h, T_ins, T_pgen, T_out, T_in, t"
   ]
  },
  {
   "cell_type": "markdown",
   "metadata": {},
   "source": [
    "### シミュレーション開始"
   ]
  },
  {
   "cell_type": "code",
   "execution_count": 125,
   "metadata": {},
   "outputs": [
    {
     "data": {
      "image/png": "[encoded data removed]",
      "text/plain": [
       "<Figure size 432x288 with 1 Axes>"
      ]
     },
     "metadata": {
      "needs_background": "light"
     },
     "output_type": "display_data"
    }
   ],
   "source": [
    "I = 0\n",
    "end = 10000\n",
    "step = 1\n",
    "\n",
    "T_obj, T_tec_c, T_tec_h, T_ins, T_pgen, T_out, T_in, t = simulation(T0, end, step)\n",
    "\n",
    "# \n",
    "pyplot.title('Tobj record')\n",
    "pyplot.xlabel('t [s]')\n",
    "pyplot.ylabel('T [K]')\n",
    "pyplot.plot(t, T_obj,'-', label = \"T_obj\")\n",
    "pyplot.plot(t, T_tec_c,'-', label = \"T_tec_c\")\n",
    "pyplot.plot(t, T_tec_h,'-', label = \"T_tec_h\")\n",
    "pyplot.plot(t, T_ins,'-', label = \"T_ins\")\n",
    "pyplot.plot(t, T_pgen,'-', label = \"T_pgen\")\n",
    "pyplot.plot(t, T_out,'-', label = \"T_out\")\n",
    "pyplot.plot(t, T_in,'-', label = \"T_in\")\n",
    "pyplot.legend()\n",
    "pyplot.show()\n",
    "\n",
    "# pyplot.title('I record')\n",
    "# pyplot.xlabel('t [s]')\n",
    "# pyplot.ylabel('I [A]')\n",
    "# pyplot.plot(t, I_record,'-')\n",
    "# pyplot.show()"
   ]
  },
  {
   "cell_type": "code",
   "execution_count": 126,
   "metadata": {},
   "outputs": [
    {
     "data": {
      "text/plain": [
       "-0.18041015788480919"
      ]
     },
     "execution_count": 126,
     "metadata": {},
     "output_type": "execute_result"
    }
   ],
   "source": [
    "T_tec_c[-1]"
   ]
  },
  {
   "cell_type": "code",
   "execution_count": 296,
   "metadata": {},
   "outputs": [],
   "source": [
    "# 定常状態を非線形連立方程式で解く\n",
    "# def func(x):\n",
    "#     y = []\n",
    "#     y.append(200 + 50*(x[0]-x[1])+100*(x[0]**4-x[1]**4))\n",
    "#     y.append(100 + 10*(x[1]-x[1])+50*(x[1]**4-x[0]**4))\n",
    "#     return y"
   ]
  },
  {
   "cell_type": "code",
   "execution_count": 297,
   "metadata": {},
   "outputs": [],
   "source": [
    "# def func(x):\n",
    "#     return [200 + 50*(x[0]-x[1])+100*(x[0]**4-x[1]**4),\n",
    "#             100 + 10*(x[1]-x[1])+50*(x[1]**4-x[0]**4)]"
   ]
  },
  {
   "cell_type": "code",
   "execution_count": 298,
   "metadata": {},
   "outputs": [],
   "source": [
    "# result = optimize.root(func, [0.0, 0.0], method=\"broyden1\")\n",
    "# print(result)"
   ]
  },
  {
   "cell_type": "code",
   "execution_count": 127,
   "metadata": {},
   "outputs": [],
   "source": [
    "# 定常状態を非線形連立方程式で解く（dT/dtを利用した場合）\n",
    "# TECを動かす前\n",
    "def func1(x):\n",
    "#     Qg[1]= -Qc_tec\n",
    "#     Qg[2]= P_tec+Qc_tec\n",
    "#     Qg[1] = (4.0*pel.Rho*pel.Km*pel.Nm*(x[2]-x[1])/(pel.Sm_ab*pel.Rm*(x[1]+x[2]))*(1.0+np.sqrt(1+pel.Sm_ab**2/2.0/pel.Rho/pel.Km*(x[1]+x[2]))))\n",
    "#     I_cpmax = pel.cAlculate_I_argmax_COP(x[1], x[2]-x[1])\n",
    "#     Qg[1]= - pel.cAlculate_QC(x[1], x[2]-x[1], I_cpmax)\n",
    "#     Qg[2]= pel.cAlculate_QH(x[1], x[2]-x[1], I_cpmax)\n",
    "    Qg[4]= P_gen\n",
    "    Qg[5]= -eps_osr*1.0*sigma*A_rad*(x[5]**4 - 4**4)\n",
    "    Qg[6]= Q_in - eps_sap*1.0*sigma*(A_all-A_rad)*(x[6]**4 - 4**4)\n",
    "    y = dT_dt(x, Cond_N, C, Qg)\n",
    "    return y"
   ]
  },
  {
   "cell_type": "code",
   "execution_count": 128,
   "metadata": {},
   "outputs": [
    {
     "name": "stdout",
     "output_type": "stream",
     "text": [
      "[273, 273, 273, 273, 273, 273, 273]\n",
      "     fun: array([ 1.22550313e-07, -1.49013195e-07,  7.75932914e-07,  2.12425740e-08,\n",
      "        6.79537545e-09,  1.17674113e-08,  4.64416668e-09])\n",
      " message: 'A solution was found at the specified tolerance.'\n",
      "     nit: 72\n",
      "  status: 1\n",
      " success: True\n",
      "       x: array([-1052.03327126, -1052.06616572,   154.08571176,    -2.94697248,\n",
      "         336.90546172,   153.24334666,   317.72640471])\n"
     ]
    }
   ],
   "source": [
    "# 非線形連立方程式を解く（引数は初期値を入れる）\n",
    "# TECを動かす前\n",
    "print(T0)\n",
    "result = optimize.root(func1, T0, method=\"broyden1\")\n",
    "T1 = result.x\n",
    "print(result)"
   ]
  },
  {
   "cell_type": "code",
   "execution_count": 188,
   "metadata": {},
   "outputs": [
    {
     "data": {
      "text/plain": [
       "800"
      ]
     },
     "execution_count": 188,
     "metadata": {},
     "output_type": "execute_result"
    }
   ],
   "source": [
    "# 非線形連立方程式のほかのステータスを見る\n",
    "result.nit"
   ]
  },
  {
   "cell_type": "code",
   "execution_count": 187,
   "metadata": {},
   "outputs": [],
   "source": [
    "# TECを動かす時にはTECの高熱・低熱ノード間のコンダクタンスを0にする\n",
    "Cond_N[1][2].K_ij=0.0\n",
    "Cond_N[2][1].K_ij=0.0\n",
    "pel.Nm = 500"
   ]
  },
  {
   "cell_type": "code",
   "execution_count": 230,
   "metadata": {},
   "outputs": [],
   "source": [
    "# 定常状態を非線形連立方程式で解く（dT/dtを利用した場合）\n",
    "# TECを動かす後\n",
    "def func2(x):\n",
    "#     Qg[1]= -Qc_tec\n",
    "#     Qg[2]= P_tec+Qc_tec\n",
    "    # 温度をクリッピングさせる\n",
    "    x = np.clip(x, 1.0e-2, None)\n",
    "    I_cpmax = min(I_max, (4.0*pel.Rho*pel.Km*pel.Nm*(x[2]-x[1])/(pel.Sm_ab*pel.Rm*(x[1]+x[2]))*(1.0+np.sqrt(1+pel.Sm_ab**2/2.0/pel.Rho/pel.Km*(x[1]+x[2])))))\n",
    "    Qg[1]= - (2 * pel.Nm * (pel.Sm_ab*x[1]*I_cpmax-2*pel.Nm*pel.Km*pel.Rho/pel.Rm*(x[2]-x[1])) - 0.5*pel.Rm*I_cpmax**2)\n",
    "    Qg[2]=  2 * pel.Nm * (pel.Sm_ab*x[2]*I_cpmax-2*pel.Nm*pel.Km*pel.Rho/pel.Rm*(x[2]-x[1])) + 0.5*pel.Rm*I_cpmax**2\n",
    "#     Qg[1]= - pel.cAlculate_QC(x[1], x[2]-x[1], I_cpmax)\n",
    "#     Qg[2]= pel.cAlculate_QH(x[1], x[2]-x[1], I_cpmax)\n",
    "    Qg[4]= P_gen\n",
    "    Qg[5]= -eps_osr*1.0*sigma*A_rad*(x[5]**4 - 4**4)\n",
    "    Qg[6]= Q_in - eps_sap*1.0*sigma*(A_all-A_rad)*(x[6]**4 - 4**4)\n",
    "    y = dT_dt(np.clip(x, 1.0e-2, None), Cond_N, C, Qg)\n",
    "    return y"
   ]
  },
  {
   "cell_type": "code",
   "execution_count": 186,
   "metadata": {},
   "outputs": [],
   "source": [
    "# 定常状態を非線形連立方程式で解く（dT/dtを利用した場合）\n",
    "# TECを動かす後\n",
    "# TEC電力が一定の場合\n",
    "def func_const_power_tec(x):\n",
    "    # 温度をクリッピングさせる\n",
    "    x = np.clip(x, 1.0e-2, None)\n",
    "    I_pconst = (-pel.Nm*pel.Sm_ab*(x[2]-x[1])+np.sqrt((pel.Nm*pel.Sm_ab*(x[2]-x[1]))**2+P_tec*pel.Rm))/pel.Rm\n",
    "    Qg[1]= - (2 * pel.Nm * (pel.Sm_ab*x[1]*I_pconst-2*pel.Nm*pel.Km*pel.Rho/pel.Rm*(x[2]-x[1])) - 0.5*pel.Rm*I_pconst**2)\n",
    "    Qg[2]=  2 * pel.Nm * (pel.Sm_ab*x[2]*I_pconst-2*pel.Nm*pel.Km*pel.Rho/pel.Rm*(x[2]-x[1])) + 0.5*pel.Rm*I_pconst**2\n",
    "#     Qg[4]= P_gen\n",
    "    Qg[5]= -eps_osr*1.0*sigma*A_rad*(x[5]**4 - 4**4)\n",
    "    Qg[6]= Q_in - eps_sap*1.0*sigma*(A_all-A_rad)*(x[6]**4 - 4**4)\n",
    "    y = dT_dt(np.clip(x, 1.0e-2, None), Cond_N, C, Qg)\n",
    "    return y"
   ]
  },
  {
   "cell_type": "code",
   "execution_count": 104,
   "metadata": {},
   "outputs": [
    {
     "name": "stdout",
     "output_type": "stream",
     "text": [
      "[278.56717457 299.79863763 161.61843092 234.04565887 321.16653267\n",
      " 133.06392002 258.5421811 ]\n",
      "     fun: array([ 8.35545399e-06,  2.89103855e-06,  1.98193868e-05,  1.36468561e-04,\n",
      "        3.60072233e-04,  1.36550603e-05, -6.45324876e-05])\n",
      " message: 'The maximum number of iterations allowed has been reached.'\n",
      "     nit: 800\n",
      "  status: 2\n",
      " success: False\n",
      "       x: array([209.94833896, 209.94002977, 234.01533566, 257.68617948,\n",
      "       359.11119573, 233.50212522, 343.96394626])\n"
     ]
    }
   ],
   "source": [
    "# 非線形連立方程式を解く（引数は初期値を入れる）\n",
    "T_max = 350\n",
    "T_min = 100\n",
    "T_random = (T_max - T_min)*np.random.rand(N_node)+T_min\n",
    "print(T_random)\n",
    "# TECを動かす後\n",
    "result = optimize.root(func_const_power_tec, T_random, method=\"broyden1\")\n",
    "T2 = result.x\n",
    "print(result)"
   ]
  },
  {
   "cell_type": "code",
   "execution_count": 114,
   "metadata": {},
   "outputs": [
    {
     "name": "stdout",
     "output_type": "stream",
     "text": [
      "[211.38457026 211.37605382 235.56476398 277.30613323 367.66815504\n",
      " 235.04874782 348.51887453]\n",
      "4.5893780349708185e-06\n",
      "[211.38457026 211.37605382 235.56476398 277.30613323 367.66815504\n",
      " 235.04874782 348.51887453]\n",
      "4.5893780349708185e-06\n"
     ]
    }
   ],
   "source": [
    "# 非線形連立方程式の初期解をfor文で探すパターン\n",
    "N_rand = 50\n",
    "T_max = 350\n",
    "T_min = 100\n",
    "T_rand_arr = (T_max - T_min)*np.random.rand(N_rand, N_node)+T_min\n",
    "# print(T_rand_arr[0])\n",
    "# ノルムで最小値をセットする（ありえないくらい大きな値でセット）\n",
    "min_norm=100\n",
    "# まずは候補となりそうな初期解をざっくり見つける\n",
    "for T_rand_arr_i in T_rand_arr:\n",
    "    result = optimize.root(func_const_power_tec, T_rand_arr_i, method=\"broyden1\")\n",
    "    T_rand_result = result.x\n",
    "    norm = np.linalg.norm(func_const_power_tec(T_rand_result), ord=2)\n",
    "#     print('Error: {}'.format(norm))\n",
    "    if norm < min_norm:\n",
    "        min_norm = norm\n",
    "        result_min_norm = result\n",
    "#     print(np.linalg.norm(func2(T_rand_result), ord=2))\n",
    "#     print(T_rand_result)\n",
    "print(result_min_norm.x)\n",
    "print(np.linalg.norm(func_const_power_tec(result_min_norm.x), ord=2))\n",
    "\n",
    "# そのあとでその候補回りでちゃんと探す\n",
    "result_det = optimize.root(func_const_power_tec, result_min_norm.x, method=\"broyden1\")\n",
    "print(result_det.x)\n",
    "print(np.linalg.norm(func_const_power_tec(result_det.x), ord=2))"
   ]
  },
  {
   "cell_type": "code",
   "execution_count": 113,
   "metadata": {},
   "outputs": [
    {
     "name": "stdout",
     "output_type": "stream",
     "text": [
      "[211.39081702 211.38230678 235.57396128 276.76699621 367.73220616\n",
      " 235.0580251  348.55222617]\n",
      "     fun: array([ 9.51408714e+01, -1.11421522e+02, -1.53025255e+02,  3.06339382e-04,\n",
      "        5.87975473e-02,  1.28520907e+00, -5.01710566e+00])\n",
      " message: 'The maximum number of iterations allowed has been reached.'\n",
      "     nit: 800\n",
      "  status: 2\n",
      " success: False\n",
      "       x: array([ -29.35605844,   13.06986972,  224.24387106,  335.54307756,\n",
      "        275.06536015, -724.63488869,  914.26764742])\n"
     ]
    }
   ],
   "source": [
    "print(result_min_norm.x)\n",
    "print(optimize.root(func_const_power_tec, result_min_norm.x, method=\"broyden1\"))\n",
    "T2=result_min_norm.x"
   ]
  },
  {
   "cell_type": "code",
   "execution_count": 109,
   "metadata": {},
   "outputs": [
    {
     "name": "stdout",
     "output_type": "stream",
     "text": [
      "1.5454857315165151\n"
     ]
    }
   ],
   "source": [
    "# TECの電流\n",
    "I_cpmax=(4.0*pel.Rho*pel.Km*pel.Nm*(T2[2]-T2[1])/(pel.Sm_ab*pel.Rm*(T2[1]+T2[2]))*(1.0+np.sqrt(1+pel.Sm_ab**2/2.0/pel.Rho/pel.Km*(T2[1]+T2[2]))))\n",
    "print(I_cpmax)"
   ]
  },
  {
   "cell_type": "code",
   "execution_count": 111,
   "metadata": {},
   "outputs": [
    {
     "name": "stdout",
     "output_type": "stream",
     "text": [
      "0.9652513262002033\n"
     ]
    }
   ],
   "source": [
    "I_const_power = pel.cAlculate_I_with_const_power(T2[2]-T2[1], P_tec)\n",
    "print(I_const_power)"
   ]
  },
  {
   "cell_type": "code",
   "execution_count": 160,
   "metadata": {},
   "outputs": [
    {
     "name": "stdout",
     "output_type": "stream",
     "text": [
      "[0.06720491912491981, 4.9328525077918774, -0.1830757144462795, 0.0015910464573215162, 6.795375448414445e-09, 0.0007770612516487541, 4.780023044756297e-06]\n",
      "4.936706413924073\n"
     ]
    }
   ],
   "source": [
    "# 本当に収束しているのかを検算する\n",
    "print(func2(T1))\n",
    "print(np.linalg.norm(func2(T1), ord=2))"
   ]
  },
  {
   "cell_type": "code",
   "execution_count": 121,
   "metadata": {},
   "outputs": [
    {
     "name": "stdout",
     "output_type": "stream",
     "text": [
      "===MAX COP===\n",
      "I_tec : 1.545\n",
      "Qc_tec : 5.237\n",
      "Qh_tec : 14.349\n",
      "\n",
      "\n",
      "===CONST TEC POWER===\n",
      "I_tec : 0.965\n",
      "Qc_tec : 1.206\n",
      "Qh_tec : 5.206\n"
     ]
    }
   ],
   "source": [
    "# 定常状態のTEC情報\n",
    "print(\"===MAX COP===\")\n",
    "I_tec = pel.cAlculate_I_argmax_COP(T2[1], T2[2]-T2[1])\n",
    "Qc_tec = pel.cAlculate_QC(T2[1], T2[2]-T2[1], I_tec)\n",
    "Qh_tec = pel.cAlculate_QH(T2[2], T2[2]-T2[1], I_tec)\n",
    "print(\"I_tec : %4.3f\" % I_tec)\n",
    "print(\"Qc_tec : %4.3f\" % Qc_tec)\n",
    "print(\"Qh_tec : %4.3f\" % Qh_tec)\n",
    "\n",
    "print(\"\\n\")\n",
    "print(\"===CONST TEC POWER===\")\n",
    "I_const_power = pel.cAlculate_I_with_const_power(T2[2]-T2[1], P_tec)\n",
    "Qc_tec = pel.cAlculate_QC(T2[1], T2[2]-T2[1], I_const_power)\n",
    "Qh_tec = pel.cAlculate_QH(T2[2], T2[2]-T2[1], I_const_power)\n",
    "print(\"I_tec : %4.3f\" % I_const_power)\n",
    "print(\"Qc_tec : %4.3f\" % Qc_tec)\n",
    "print(\"Qh_tec : %4.3f\" % Qh_tec)"
   ]
  },
  {
   "cell_type": "markdown",
   "metadata": {},
   "source": [
    "# 合計消費電力と光学機器発熱とTEC使用電力を振って、低温到達温度をプロットする"
   ]
  },
  {
   "cell_type": "code",
   "execution_count": 207,
   "metadata": {},
   "outputs": [],
   "source": [
    "# 合計電力の最大値\n",
    "P_total_max = 100\n",
    "\n",
    "# 衛星の合計消費電力\n",
    "P_total = np.linspace(0, P_total_max, 8)\n",
    "\n",
    "# 合計消費電力のうち、光学機器で消費される電力の比（最初はこの値のうち一つで計算する）\n",
    "optics_power_ratio = np.linspace(0.0, 1.0 , 8)\n",
    "\n",
    "# TEC使用電力の比 P_tec = ((1-optics_pow_ratio)*P_total)*tec_power_ratio（この値も固定する）\n",
    "tec_power_ratio = np.linspace(0.0, 1.0, 8)"
   ]
  },
  {
   "cell_type": "markdown",
   "metadata": {},
   "source": [
    "### TECの使用電力をゼロにしたときのグラフ描画"
   ]
  },
  {
   "cell_type": "code",
   "execution_count": 208,
   "metadata": {},
   "outputs": [
    {
     "name": "stdout",
     "output_type": "stream",
     "text": [
      "==== Optics Ratio: 0.000000 ====\n",
      "   === Total Power: 0.000000 ===\n",
      "    P_optics: 0.000000\n",
      "    P_tec: 0.000000\n",
      "    Temperatures : \n",
      "[222.9180599  222.91758905 222.90966861 264.74826246 324.01199243\n",
      " 222.90336345 324.04019335]\n",
      "    Error norm: 0.000006\n",
      "   === Total Power: 14.285714 ===\n",
      "    P_optics: 0.000000\n",
      "    P_tec: 0.000000\n"
     ]
    },
    {
     "name": "stderr",
     "output_type": "stream",
     "text": [
      "C:\\Users\\lotus\\anaconda3\\lib\\site-packages\\scipy\\optimize\\nonlin.py:1001: RuntimeWarning: invalid value encountered in true_divide\n",
      "  d = v / vdot(df, v)\n",
      "C:\\Users\\lotus\\anaconda3\\lib\\site-packages\\scipy\\optimize\\nonlin.py:1001: RuntimeWarning: divide by zero encountered in true_divide\n",
      "  d = v / vdot(df, v)\n",
      "C:\\Users\\lotus\\anaconda3\\lib\\site-packages\\scipy\\optimize\\nonlin.py:771: RuntimeWarning: invalid value encountered in multiply\n",
      "  self.collapsed += c[:,None] * d[None,:].conj()\n"
     ]
    },
    {
     "name": "stdout",
     "output_type": "stream",
     "text": [
      "    Temperatures : \n",
      "[225.48129029 225.48080415 225.47266182 268.66680113 336.82505905\n",
      " 225.46615397 331.34325332]\n",
      "    Error norm: 0.000001\n",
      "   === Total Power: 28.571429 ===\n",
      "    P_optics: 0.000000\n",
      "    P_tec: 0.000000\n",
      "    Temperatures : \n",
      "[227.85568011 227.85517252 227.84670566 272.94438425 349.23256268\n",
      " 227.83991042 338.24296846]\n",
      "    Error norm: 0.000003\n",
      "   === Total Power: 42.857143 ===\n",
      "    P_optics: 0.000000\n",
      "    P_tec: 0.000000\n",
      "    Temperatures : \n",
      "[230.03704054 230.03651088 230.02770709 277.08720839 361.1456665\n",
      " 230.02061653 344.71162337]\n",
      "    Error norm: 0.000003\n",
      "   === Total Power: 57.142857 ===\n",
      "    P_optics: 0.000000\n",
      "    P_tec: 0.000000\n",
      "    Temperatures : \n",
      "[232.09182417 232.09127319 232.08214588 281.03531313 372.83433625\n",
      " 232.07476999 350.91565514]\n",
      "    Error norm: 0.000004\n",
      "   === Total Power: 71.428571 ===\n",
      "    P_optics: 0.000000\n",
      "    P_tec: 0.000000\n",
      "    Temperatures : \n",
      "[234.00983904 234.00928344 234.00010693 283.36734473 384.21181307\n",
      " 233.99266754 356.82083944]\n",
      "    Error norm: 0.000006\n",
      "   === Total Power: 85.714286 ===\n",
      "    P_optics: 0.000000\n",
      "    P_tec: 0.000000\n",
      "    Temperatures : \n",
      "[235.83516599 235.83459004 235.82510668 286.99392209 395.40191181\n",
      " 235.81739417 362.50848745]\n",
      "    Error norm: 0.000005\n",
      "   === Total Power: 100.000000 ===\n",
      "    P_optics: 0.000000\n",
      "    P_tec: 0.000000\n",
      "    Temperatures : \n",
      "[237.53599397 237.53540103 237.52566558 290.20755085 406.26600531\n",
      " 237.51772754 367.91745283]\n",
      "    Error norm: 0.000004\n",
      "==== Optics Ratio: 0.142857 ====\n",
      "   === Total Power: 0.000000 ===\n",
      "    P_optics: 0.000000\n",
      "    P_tec: 0.000000\n"
     ]
    },
    {
     "name": "stderr",
     "output_type": "stream",
     "text": [
      "C:\\Users\\lotus\\anaconda3\\lib\\site-packages\\scipy\\optimize\\nonlin.py:1001: RuntimeWarning: invalid value encountered in true_divide\n",
      "  d = v / vdot(df, v)\n"
     ]
    },
    {
     "name": "stdout",
     "output_type": "stream",
     "text": [
      "    Temperatures : \n",
      "[222.90184727 222.90138325 222.89357841 264.12138844 323.94955215\n",
      " 222.88736695 324.00296741]\n",
      "    Error norm: 0.000005\n",
      "   === Total Power: 14.285714 ===\n",
      "    P_optics: 2.040816\n",
      "    P_tec: 0.000000\n",
      "    Temperatures : \n",
      "[227.35871163 227.34293004 227.07938485 268.71240456 335.40711478\n",
      " 226.86811797 330.69637533]\n",
      "    Error norm: 0.000005\n",
      "   === Total Power: 28.571429 ===\n",
      "    P_optics: 4.081633\n",
      "    P_tec: 0.000000\n",
      "    Temperatures : \n",
      "[231.51248801 231.48137902 230.96531376 273.86606716 346.21873721\n",
      " 230.54885953 336.87336439]\n",
      "    Error norm: 0.000005\n",
      "   === Total Power: 42.857143 ===\n",
      "    P_optics: 6.122449\n",
      "    P_tec: 0.000000\n",
      "    Temperatures : \n",
      "[235.4866739  235.44024767 234.67492549 277.93700815 356.95281167\n",
      " 234.05342057 342.8692927 ]\n",
      "    Error norm: 0.000006\n",
      "   === Total Power: 57.142857 ===\n",
      "    P_optics: 8.163265\n",
      "    P_tec: 0.000000\n",
      "    Temperatures : \n",
      "[239.25825757 239.19649712 238.18442222 283.30966387 367.32588823\n",
      " 237.35763956 348.5429671 ]\n",
      "    Error norm: 0.000003\n",
      "   === Total Power: 71.428571 ===\n",
      "    P_optics: 10.204082\n",
      "    P_tec: 0.000000\n",
      "    Temperatures : \n",
      "[242.85126438 242.77418981 241.51823424 286.71632459 377.43381136\n",
      " 240.48644216 353.95868456]\n",
      "    Error norm: 0.000004\n",
      "   === Total Power: 85.714286 ===\n",
      "    P_optics: 12.244898\n",
      "    P_tec: 0.000000\n",
      "    Temperatures : \n",
      "[246.29940067 246.20700535 244.70943006 290.56584137 387.34560932\n",
      " 243.47253985 359.16539812]\n",
      "    Error norm: 0.000005\n",
      "   === Total Power: 100.000000 ===\n",
      "    P_optics: 14.285714\n",
      "    P_tec: 0.000000\n",
      "    Temperatures : \n",
      "[249.60262739 249.49489581 247.75761594 295.64743307 396.96588507\n",
      " 246.31542127 364.12626046]\n",
      "    Error norm: 0.000007\n",
      "==== Optics Ratio: 0.285714 ====\n",
      "   === Total Power: 0.000000 ===\n",
      "    P_optics: 0.000000\n",
      "    P_tec: 0.000000\n"
     ]
    },
    {
     "name": "stderr",
     "output_type": "stream",
     "text": [
      "C:\\Users\\lotus\\anaconda3\\lib\\site-packages\\scipy\\optimize\\nonlin.py:1001: RuntimeWarning: invalid value encountered in true_divide\n",
      "  d = v / vdot(df, v)\n"
     ]
    },
    {
     "name": "stdout",
     "output_type": "stream",
     "text": [
      "    Temperatures : \n",
      "[222.9283673  222.92790287 222.92009153 264.1842692  324.07783961\n",
      " 222.91387423 324.07706125]\n",
      "    Error norm: 0.000000\n",
      "   === Total Power: 14.285714 ===\n",
      "    P_optics: 4.081633\n",
      "    P_tec: 0.000000\n"
     ]
    },
    {
     "name": "stderr",
     "output_type": "stream",
     "text": [
      "C:\\Users\\lotus\\anaconda3\\lib\\site-packages\\scipy\\optimize\\nonlin.py:1001: RuntimeWarning: divide by zero encountered in true_divide\n",
      "  d = v / vdot(df, v)\n",
      "C:\\Users\\lotus\\anaconda3\\lib\\site-packages\\scipy\\optimize\\nonlin.py:771: RuntimeWarning: invalid value encountered in multiply\n",
      "  self.collapsed += c[:,None] * d[None,:].conj()\n"
     ]
    },
    {
     "name": "stdout",
     "output_type": "stream",
     "text": [
      "    Temperatures : \n",
      "[229.21121423 229.18012492 228.6624201  269.81833896 333.93210234\n",
      " 228.24622947 330.01492245]\n",
      "    Error norm: 0.000001\n",
      "   === Total Power: 28.571429 ===\n",
      "    P_optics: 8.163265\n",
      "    P_tec: 0.000000\n",
      "    Temperatures : \n",
      "[235.14236675 235.08065814 234.06259792 274.61124578 343.4567226\n",
      " 233.23650491 335.63098815]\n",
      "    Error norm: 0.000006\n",
      "   === Total Power: 42.857143 ===\n",
      "    P_optics: 12.244898\n",
      "    P_tec: 0.000000\n",
      "    Temperatures : \n",
      "[240.78291825 240.69056969 239.18030957 280.90801208 352.73145555\n",
      " 237.94404551 340.98849738]\n",
      "    Error norm: 0.000004\n",
      "   === Total Power: 57.142857 ===\n",
      "    P_optics: 16.326531\n",
      "    P_tec: 0.000000\n",
      "    Temperatures : \n",
      "[246.17668545 246.05370668 244.0591325  286.10258804 361.89003999\n",
      " 242.41282391 346.17046979]\n",
      "    Error norm: 0.000009\n",
      "   === Total Power: 71.428571 ===\n",
      "    P_optics: 20.408163\n",
      "    P_tec: 0.000000\n",
      "    Temperatures : \n",
      "[251.2829865  251.12939268 248.6575608  289.65355598 370.55078967\n",
      " 246.60141038 350.98115515]\n",
      "    Error norm: 0.000003\n",
      "   === Total Power: 85.714286 ===\n",
      "    P_optics: 24.489796\n",
      "    P_tec: 0.000000\n",
      "    Temperatures : \n",
      "[256.21594804 256.0317279  253.08899502 294.02662066 379.21877801\n",
      " 250.62285264 355.70484605]\n",
      "    Error norm: 0.000005\n",
      "   === Total Power: 100.000000 ===\n",
      "    P_optics: 28.571429\n",
      "    P_tec: 0.000000\n",
      "    Temperatures : \n",
      "[260.94891664 260.73405671 257.32607842 299.39056271 387.59387972\n",
      " 254.44976265 360.19138701]\n",
      "    Error norm: 0.000005\n",
      "==== Optics Ratio: 0.428571 ====\n",
      "   === Total Power: 0.000000 ===\n",
      "    P_optics: 0.000000\n",
      "    P_tec: 0.000000\n"
     ]
    },
    {
     "name": "stderr",
     "output_type": "stream",
     "text": [
      "C:\\Users\\lotus\\anaconda3\\lib\\site-packages\\scipy\\optimize\\nonlin.py:1001: RuntimeWarning: divide by zero encountered in true_divide\n",
      "  d = v / vdot(df, v)\n",
      "C:\\Users\\lotus\\anaconda3\\lib\\site-packages\\scipy\\optimize\\nonlin.py:771: RuntimeWarning: invalid value encountered in multiply\n",
      "  self.collapsed += c[:,None] * d[None,:].conj()\n",
      "C:\\Users\\lotus\\anaconda3\\lib\\site-packages\\scipy\\optimize\\nonlin.py:1001: RuntimeWarning: invalid value encountered in true_divide\n",
      "  d = v / vdot(df, v)\n"
     ]
    },
    {
     "name": "stdout",
     "output_type": "stream",
     "text": [
      "    Temperatures : \n",
      "[222.92416899 222.92370997 222.91598967 263.69859224 324.07034832\n",
      " 222.90984494 324.07153642]\n",
      "    Error norm: 0.000004\n",
      "   === Total Power: 14.285714 ===\n",
      "    P_optics: 6.122449\n",
      "    P_tec: 0.000000\n",
      "    Temperatures : \n",
      "[231.05651835 231.01011785 230.23962211 271.22568628 332.51556407\n",
      " 229.61846224 329.36404592]\n",
      "    Error norm: 0.000006\n",
      "   === Total Power: 28.571429 ===\n",
      "    P_optics: 12.244898\n",
      "    P_tec: 0.000000\n",
      "    Temperatures : \n",
      "[238.6902704  238.59794005 237.08281517 277.20287907 340.57438654\n",
      " 235.84679402 334.31332137]\n",
      "    Error norm: 0.000006\n",
      "   === Total Power: 42.857143 ===\n",
      "    P_optics: 18.367347\n",
      "    P_tec: 0.000000\n",
      "    Temperatures : \n",
      "[245.90675733 245.76851184 243.52484682 281.44250086 348.39956156\n",
      " 241.67416418 339.02294148]\n",
      "    Error norm: 0.000007\n",
      "   === Total Power: 57.142857 ===\n",
      "    P_optics: 24.489796\n",
      "    P_tec: 0.000000\n",
      "    Temperatures : \n",
      "[252.78615333 252.60197627 249.64377904 286.7858089  356.08471381\n",
      " 247.17821282 343.55633951]\n",
      "    Error norm: 0.000006\n",
      "   === Total Power: 71.428571 ===\n",
      "    P_optics: 30.612245\n",
      "    P_tec: 0.000000\n",
      "    Temperatures : \n",
      "[259.32674633 259.09663047 255.43649189 292.42363763 363.40684805\n",
      " 252.3559455  347.8072657 ]\n",
      "    Error norm: 0.000005\n",
      "   === Total Power: 85.714286 ===\n",
      "    P_optics: 36.734694\n",
      "    P_tec: 0.000000\n",
      "    Temperatures : \n",
      "[265.62151203 265.34545942 260.99528768 297.61950769 370.80408484\n",
      " 257.29978934 352.01546262]\n",
      "    Error norm: 0.000002\n",
      "   === Total Power: 100.000000 ===\n",
      "    P_optics: 42.857143\n",
      "    P_tec: 0.000000\n",
      "    Temperatures : \n",
      "[271.63345011 271.31146384 266.28178983 302.24678246 377.81126561\n",
      " 261.97138026 355.94451547]\n",
      "    Error norm: 0.000005\n",
      "==== Optics Ratio: 0.571429 ====\n",
      "   === Total Power: 0.000000 ===\n",
      "    P_optics: 0.000000\n",
      "    P_tec: 0.000000\n"
     ]
    },
    {
     "name": "stderr",
     "output_type": "stream",
     "text": [
      "C:\\Users\\lotus\\anaconda3\\lib\\site-packages\\scipy\\optimize\\nonlin.py:1001: RuntimeWarning: divide by zero encountered in true_divide\n",
      "  d = v / vdot(df, v)\n",
      "C:\\Users\\lotus\\anaconda3\\lib\\site-packages\\scipy\\optimize\\nonlin.py:1001: RuntimeWarning: invalid value encountered in true_divide\n",
      "  d = v / vdot(df, v)\n",
      "C:\\Users\\lotus\\anaconda3\\lib\\site-packages\\scipy\\optimize\\nonlin.py:771: RuntimeWarning: invalid value encountered in multiply\n",
      "  self.collapsed += c[:,None] * d[None,:].conj()\n"
     ]
    },
    {
     "name": "stdout",
     "output_type": "stream",
     "text": [
      "    Temperatures : \n",
      "[222.93291016 222.93243899 222.92451421 264.78774543 324.08569457\n",
      " 222.91820641 324.0822973 ]\n",
      "    Error norm: 0.000005\n",
      "   === Total Power: 14.285714 ===\n",
      "    P_optics: 8.163265\n",
      "    P_tec: 0.000000\n",
      "    Temperatures : \n",
      "[232.83801462 232.77631781 231.75459339 271.2330983  330.86090784\n",
      " 230.92866065 328.57514931]\n",
      "    Error norm: 0.000008\n",
      "   === Total Power: 28.571429 ===\n",
      "    P_optics: 16.326531\n",
      "    P_tec: 0.000000\n",
      "    Temperatures : \n",
      "[242.15993958 242.03700384 240.03010772 278.27572783 337.6779061\n",
      " 238.38437506 332.97396247]\n",
      "    Error norm: 0.000005\n",
      "   === Total Power: 42.857143 ===\n",
      "    P_optics: 24.489796\n",
      "    P_tec: 0.000000\n",
      "    Temperatures : \n",
      "[250.90753839 250.72336703 247.75633797 284.41077726 344.07177993\n",
      " 245.29084792 337.0355199 ]\n",
      "    Error norm: 0.000006\n",
      "   === Total Power: 57.142857 ===\n",
      "    P_optics: 32.653061\n",
      "    P_tec: 0.000000\n",
      "    Temperatures : \n",
      "[259.20229132 258.95689292 255.05205658 289.30798009 350.38008707\n",
      " 251.76692425 340.95925058]\n",
      "    Error norm: 0.000003\n",
      "   === Total Power: 71.428571 ===\n",
      "    P_optics: 40.816327\n",
      "    P_tec: 0.000000\n",
      "    Temperatures : \n",
      "[267.07273833 266.7660946  261.94280236 295.38628655 356.36562864\n",
      " 257.83778278 344.62877842]\n",
      "    Error norm: 0.000004\n",
      "   === Total Power: 85.714286 ===\n",
      "    P_optics: 48.979592\n",
      "    P_tec: 0.000000\n",
      "    Temperatures : \n",
      "[274.59480921 274.22692453 268.50311794 300.70580895 362.26304659\n",
      " 263.57826932 348.18055397]\n",
      "    Error norm: 0.000006\n",
      "   === Total Power: 100.000000 ===\n",
      "    P_optics: 57.142857\n",
      "    P_tec: 0.000000\n",
      "    Temperatures : \n",
      "[281.79233107 281.36320838 274.75505442 305.43129848 367.99174373\n",
      " 269.01041688 351.57477575]\n",
      "    Error norm: 0.000004\n",
      "==== Optics Ratio: 0.714286 ====\n",
      "   === Total Power: 0.000000 ===\n",
      "    P_optics: 0.000000\n",
      "    P_tec: 0.000000\n"
     ]
    },
    {
     "name": "stderr",
     "output_type": "stream",
     "text": [
      "C:\\Users\\lotus\\anaconda3\\lib\\site-packages\\scipy\\optimize\\nonlin.py:1001: RuntimeWarning: divide by zero encountered in true_divide\n",
      "  d = v / vdot(df, v)\n",
      "C:\\Users\\lotus\\anaconda3\\lib\\site-packages\\scipy\\optimize\\nonlin.py:1001: RuntimeWarning: invalid value encountered in true_divide\n",
      "  d = v / vdot(df, v)\n",
      "C:\\Users\\lotus\\anaconda3\\lib\\site-packages\\scipy\\optimize\\nonlin.py:771: RuntimeWarning: invalid value encountered in multiply\n",
      "  self.collapsed += c[:,None] * d[None,:].conj()\n"
     ]
    },
    {
     "name": "stdout",
     "output_type": "stream",
     "text": [
      "    Temperatures : \n",
      "[222.92714335 222.926687   222.91901178 263.46566322 324.09169568\n",
      " 222.91290323 324.08425293]\n",
      "    Error norm: 0.000006\n",
      "   === Total Power: 14.285714 ===\n",
      "    P_optics: 10.204082\n",
      "    P_tec: 0.000000\n",
      "    Temperatures : \n",
      "[234.64875515 234.57176386 233.30025009 271.13310621 329.50994365\n",
      " 232.26957279 327.9522647 ]\n",
      "    Error norm: 0.000005\n",
      "   === Total Power: 28.571429 ===\n",
      "    P_optics: 20.408163\n",
      "    P_tec: 0.000000\n",
      "    Temperatures : \n",
      "[245.55557116 245.40204416 242.9083866  278.02396292 334.7203613\n",
      " 240.85312675 331.58858259]\n",
      "    Error norm: 0.000006\n",
      "   === Total Power: 42.857143 ===\n",
      "    P_optics: 30.612245\n",
      "    P_tec: 0.000000\n",
      "    Temperatures : \n",
      "[255.74305013 255.51297369 251.83254243 285.35937719 339.54066415\n",
      " 248.75252369 334.9113445 ]\n",
      "    Error norm: 0.000006\n",
      "   === Total Power: 57.142857 ===\n",
      "    P_optics: 40.816327\n",
      "    P_tec: 0.000000\n",
      "    Temperatures : \n",
      "[265.39011775 265.08349412 260.24774453 291.93171335 344.48408609\n",
      " 256.14299394 338.21805269]\n",
      "    Error norm: 0.000005\n",
      "   === Total Power: 71.428571 ===\n",
      "    P_optics: 51.020408\n",
      "    P_tec: 0.000000\n",
      "    Temperatures : \n",
      "[274.4856884  274.10252224 268.13869979 297.51178247 348.9682545\n",
      " 263.00927974 341.20032716]\n",
      "    Error norm: 0.000007\n",
      "   === Total Power: 85.714286 ===\n",
      "    P_optics: 61.224490\n",
      "    P_tec: 0.000000\n",
      "    Temperatures : \n",
      "[283.18479125 282.72509189 275.65833672 301.8418319  353.66708245\n",
      " 269.50437101 344.2314465 ]\n",
      "    Error norm: 0.000007\n",
      "   === Total Power: 100.000000 ===\n",
      "    P_optics: 71.428571\n",
      "    P_tec: 0.000000\n",
      "    Temperatures : \n",
      "[291.46905971 290.93279763 282.78457039 308.35766697 357.97216272\n",
      " 275.60566507 346.99611331]\n",
      "    Error norm: 0.000007\n",
      "==== Optics Ratio: 0.857143 ====\n",
      "   === Total Power: 0.000000 ===\n",
      "    P_optics: 0.000000\n",
      "    P_tec: 0.000000\n",
      "    Temperatures : \n",
      "[222.93452685 222.93406282 222.92625828 264.15493488 324.10836729\n",
      " 222.92004633 324.09475456]\n",
      "    Error norm: 0.000001\n",
      "   === Total Power: 14.285714 ===\n",
      "    P_optics: 12.244898\n",
      "    P_tec: 0.000000\n",
      "    Temperatures : \n",
      "[236.4292191  236.3369107  234.81652575 272.99848672 328.01996564\n",
      " 233.58079945 327.25083137]\n",
      "    Error norm: 0.000007\n",
      "   === Total Power: 28.571429 ===\n",
      "    P_optics: 24.489796\n",
      "    P_tec: 0.000000\n",
      "    Temperatures : \n",
      "[248.89357936 248.70943412 245.73320188 280.08610181 331.7452781\n",
      " 243.26806147 330.18409254]\n",
      "    Error norm: 0.000003\n",
      "   === Total Power: 42.857143 ===\n",
      "    P_optics: 36.734694\n",
      "    P_tec: 0.000000\n"
     ]
    },
    {
     "name": "stderr",
     "output_type": "stream",
     "text": [
      "C:\\Users\\lotus\\anaconda3\\lib\\site-packages\\scipy\\optimize\\nonlin.py:1001: RuntimeWarning: invalid value encountered in true_divide\n",
      "  d = v / vdot(df, v)\n",
      "C:\\Users\\lotus\\anaconda3\\lib\\site-packages\\scipy\\optimize\\nonlin.py:1001: RuntimeWarning: divide by zero encountered in true_divide\n",
      "  d = v / vdot(df, v)\n",
      "C:\\Users\\lotus\\anaconda3\\lib\\site-packages\\scipy\\optimize\\nonlin.py:771: RuntimeWarning: invalid value encountered in multiply\n",
      "  self.collapsed += c[:,None] * d[None,:].conj()\n"
     ]
    },
    {
     "name": "stdout",
     "output_type": "stream",
     "text": [
      "    Temperatures : \n",
      "[260.47671922 260.20072992 255.81608986 286.88606072 335.09399595\n",
      " 252.12143899 332.80986357]\n",
      "    Error norm: 0.000006\n",
      "   === Total Power: 57.142857 ===\n",
      "    P_optics: 48.979592\n",
      "    P_tec: 0.000000\n",
      "    Temperatures : \n",
      "[271.40139557 271.03356075 265.28199079 293.11501607 338.68352211\n",
      " 260.35781205 335.48886397]\n",
      "    Error norm: 0.000007\n",
      "   === Total Power: 71.428571 ===\n",
      "    P_optics: 61.224490\n",
      "    P_tec: 0.000000\n",
      "    Temperatures : \n",
      "[281.63841313 281.17872948 274.09538443 298.90973089 341.55463994\n",
      " 267.94163532 337.70034909]\n",
      "    Error norm: 0.000006\n",
      "   === Total Power: 85.714286 ===\n",
      "    P_optics: 73.469388\n",
      "    P_tec: 0.000000\n",
      "    Temperatures : \n",
      "[291.41006388 290.8585202  282.47567313 305.21427919 344.71469422\n",
      " 275.09219402 340.01282899]\n",
      "    Error norm: 0.000005\n",
      "   === Total Power: 100.000000 ===\n",
      "    P_optics: 85.714286\n",
      "    P_tec: 0.000000\n",
      "    Temperatures : \n",
      "[300.69335121 300.0499654  290.3960539  309.40678801 347.57356508\n",
      " 281.7830908  342.10826758]\n",
      "    Error norm: 0.000005\n",
      "==== Optics Ratio: 1.000000 ====\n",
      "   === Total Power: 0.000000 ===\n",
      "    P_optics: 0.000000\n",
      "    P_tec: 0.000000\n"
     ]
    },
    {
     "name": "stderr",
     "output_type": "stream",
     "text": [
      "C:\\Users\\lotus\\anaconda3\\lib\\site-packages\\scipy\\optimize\\nonlin.py:1001: RuntimeWarning: divide by zero encountered in true_divide\n",
      "  d = v / vdot(df, v)\n",
      "C:\\Users\\lotus\\anaconda3\\lib\\site-packages\\scipy\\optimize\\nonlin.py:1001: RuntimeWarning: invalid value encountered in true_divide\n",
      "  d = v / vdot(df, v)\n"
     ]
    },
    {
     "name": "stdout",
     "output_type": "stream",
     "text": [
      "    Temperatures : \n",
      "[222.9221143  222.92165107 222.91385973 264.07182089 324.04988309\n",
      " 222.90765846 324.06079652]\n",
      "    Error norm: 0.000001\n",
      "   === Total Power: 14.285714 ===\n",
      "    P_optics: 14.285714\n",
      "    P_tec: 0.000000\n",
      "    Temperatures : \n",
      "[238.19018067 238.08258145 236.31504719 272.50761629 326.56538078\n",
      " 234.87462343 326.56473525]\n",
      "    Error norm: 0.000003\n",
      "   === Total Power: 28.571429 ===\n",
      "    P_optics: 28.571429\n",
      "    P_tec: 0.000000\n",
      "    Temperatures : \n",
      "[252.16566995 251.95091957 248.49670181 280.92396337 328.74425611\n",
      " 245.62185253 328.75265397]\n",
      "    Error norm: 0.000003\n",
      "   === Total Power: 42.857143 ===\n",
      "    P_optics: 42.857143\n",
      "    P_tec: 0.000000\n",
      "    Temperatures : \n",
      "[264.78414187 264.46228544 259.38042947 283.92774575 328.64577766\n",
      " 255.0717808  329.60455484]\n",
      "    Error norm: 0.000147\n",
      "   === Total Power: 57.142857 ===\n",
      "    P_optics: 57.142857\n",
      "    P_tec: 0.000000\n",
      "    Temperatures : \n",
      "[277.18240016 276.75334814 270.09907606 294.58965845 332.40451743\n",
      " 264.35538494 332.45311374]\n",
      "    Error norm: 0.000004\n",
      "   === Total Power: 71.428571 ===\n",
      "    P_optics: 71.428571\n",
      "    P_tec: 0.000000\n",
      "    Temperatures : \n",
      "[288.54243672 288.00633296 279.82412343 291.14559558 334.26864661\n",
      " 272.64737946 334.21439362]\n",
      "    Error norm: 0.000092\n",
      "   === Total Power: 85.714286 ===\n",
      "    P_optics: 85.714286\n",
      "    P_tec: 0.000000\n",
      "    Temperatures : \n",
      "[299.32484133 298.68147399 289.00794645 306.41710734 335.67691437\n",
      " 280.39522999 335.66145948]\n",
      "    Error norm: 0.000002\n",
      "   === Total Power: 100.000000 ===\n",
      "    P_optics: 100.000000\n",
      "    P_tec: 0.000000\n",
      "    Temperatures : \n",
      "[309.55068355 308.80015184 297.67157908 312.02621514 337.03745306\n",
      " 287.62426022 337.0343427 ]\n",
      "    Error norm: 0.000002\n"
     ]
    },
    {
     "data": {
      "image/png": "[encoded data removed]",
      "text/plain": [
       "<Figure size 432x288 with 1 Axes>"
      ]
     },
     "metadata": {
      "needs_background": "light"
     },
     "output_type": "display_data"
    }
   ],
   "source": [
    "# 光学機器電力の比をとりあえず固定\n",
    "optics_power_ratio_4 = optics_power_ratio[4]\n",
    "# TECの比をとりあえず固定\n",
    "tec_power_ratio_4 = tec_power_ratio[0]\n",
    "\n",
    "# 光学機器の温度を格納するための配列\n",
    "T_opt_zero = np.zeros((len(optics_power_ratio), len(P_total)))\n",
    "\n",
    "# グラフの準備\n",
    "pyplot.title('Total Power vs Reachable Temperature')\n",
    "pyplot.xlabel('Total Power [W]')\n",
    "pyplot.ylabel('T [K]')\n",
    "\n",
    "# 光学機器の電力割合を振る\n",
    "for i in range(len(optics_power_ratio)):\n",
    "    print(\"==== Optics Ratio: %f ====\" % optics_power_ratio[i])\n",
    "    # 合計消費電力を振る\n",
    "    for j in range(len(P_total)):\n",
    "\n",
    "        # 光学機器電力\n",
    "        P_optics = optics_power_ratio[i] * P_total[j]\n",
    "        # TEC使用電力\n",
    "        P_tec = tec_power_ratio_4 * (P_total[j]-P_optics)\n",
    "        # 計算で使うためにQgの0要素目にセットする\n",
    "        Qg[0] = P_optics\n",
    "        Qg[4] = P_total[j]-P_optics-P_tec\n",
    "\n",
    "        # 条件をアウトプット\n",
    "        print(\"   === Total Power: %f ===\" % P_total[j])\n",
    "        print(\"    P_optics: %f\" % P_optics)\n",
    "        print(\"    P_tec: %f\" % P_tec)\n",
    "\n",
    "        # 非線形連立方程式の初期解をfor文で探すパターン\n",
    "        N_rand = 20\n",
    "        T_max = 350\n",
    "        T_min = 100\n",
    "        T_rand_arr = (T_max - T_min)*np.random.rand(N_rand, N_node)+T_min\n",
    "        # print(T_rand_arr[0])\n",
    "        # ノルムで最小値をセットする（ありえないくらい大きな値でセット）\n",
    "        min_norm=100\n",
    "        # まずは候補となりそうな初期解をざっくり見つける\n",
    "        for T_rand_arr_i in T_rand_arr:\n",
    "            result = optimize.root(func_const_power_tec, T_rand_arr_i, method=\"broyden1\")\n",
    "            T_rand_result = result.x\n",
    "            norm = np.linalg.norm(func_const_power_tec(T_rand_result), ord=2)\n",
    "        #     print('Error: {}'.format(norm))\n",
    "            if norm < min_norm:\n",
    "                min_norm = norm\n",
    "                result_min_norm = result\n",
    "            # もしちゃんと収束していたら、ループを抜ける\n",
    "            if result.success == True:\n",
    "                result_min_norm = result\n",
    "                break\n",
    "        #     print(np.linalg.norm(func2(T_rand_result), ord=2))\n",
    "        #     print(T_rand_result)\n",
    "    #     print(result_min_norm.x)\n",
    "        T_opt_zero[i][j]=result_min_norm.x[0]\n",
    "        print(\"    Temperatures : \")\n",
    "        print(result_min_norm.x)\n",
    "        print(\"    Error norm: %f\" % np.linalg.norm(func_const_power_tec(result_min_norm.x), ord=2))\n",
    "\n",
    "    \n",
    "    # P vs Tのグラフを出力する\n",
    "    pyplot.plot(P_total, T_opt_zero[i],'o-', label = 'optics power ratio = {0}'.format(optics_power_ratio[i]))\n",
    "\n",
    "# グラフ範囲指定\n",
    "pyplot.ylim(200, 500)\n",
    "# 最後にグラフに出力する\n",
    "pyplot.legend()\n",
    "pyplot.show()"
   ]
  },
  {
   "cell_type": "markdown",
   "metadata": {},
   "source": [
    "### TECの電力をちゃんと振ったとき"
   ]
  },
  {
   "cell_type": "code",
   "execution_count": 204,
   "metadata": {},
   "outputs": [
    {
     "name": "stdout",
     "output_type": "stream",
     "text": [
      "==== Optics Ratio: 0.000000 ====\n",
      "   === Total Power: 0.000000 ===\n",
      "    P_optics: 0.000000\n",
      "    P_tec: 0.000000\n",
      "    Temperatures : \n",
      "[222.95872156 222.95825898 222.95047508 264.04647338 324.22966335\n",
      " 222.94428678 324.16481417]\n",
      "    Error norm: 0.000008\n",
      "   === Total Power: 14.285714 ===\n",
      "    P_optics: 0.000000\n",
      "    P_tec: 8.163265\n",
      "    Temperatures : \n",
      "[220.63973507 220.63907277 231.78602482 269.13557273 331.00322016\n",
      " 230.95672989 328.65324974]\n",
      "    Error norm: 0.000002\n",
      "   === Total Power: 28.571429 ===\n",
      "    P_optics: 0.000000\n",
      "    P_tec: 16.326531\n",
      "    Temperatures : \n",
      "[224.29325067 224.29253028 240.03278053 274.17471599 337.63605546\n",
      " 238.38227928 332.94833893]\n",
      "    Error norm: 0.000001\n",
      "   === Total Power: 42.857143 ===\n",
      "    P_optics: 0.000000\n",
      "    P_tec: 24.489796\n",
      "    Temperatures : \n",
      "[228.41332358 228.41256136 247.7664481  279.21711741 344.06644666\n",
      " 245.29495832 337.02946429]\n",
      "    Error norm: 0.000003\n",
      "   === Total Power: 57.142857 ===\n",
      "    P_optics: 0.000000\n",
      "    P_tec: 32.653061\n",
      "    Temperatures : \n",
      "[232.56980586 232.56901301 255.05086543 283.7981993  350.26445449\n",
      " 251.75853156 340.89379077]\n",
      "    Error norm: 0.000007\n",
      "   === Total Power: 71.428571 ===\n",
      "    P_optics: 0.000000\n",
      "    P_tec: 40.816327\n",
      "    Temperatures : \n",
      "[236.66517459 236.6643351  261.97380138 290.0238273  356.43348342\n",
      " 257.8604158  344.66249997]\n",
      "    Error norm: 0.000007\n",
      "   === Total Power: 85.714286 ===\n",
      "    P_optics: 0.000000\n",
      "    P_tec: 48.979592\n",
      "    Temperatures : \n",
      "[240.59487709 240.5940265  268.5166715  293.13900521 362.24840925\n",
      " 263.58271275 348.16742951]\n",
      "    Error norm: 0.000006\n",
      "   === Total Power: 100.000000 ===\n",
      "    P_optics: 0.000000\n",
      "    P_tec: 57.142857\n",
      "    Temperatures : \n",
      "[244.39989836 244.39902242 274.77689997 297.56181806 368.01358278\n",
      " 269.02217303 351.5816685 ]\n",
      "    Error norm: 0.000004\n",
      "==== Optics Ratio: 0.142857 ====\n",
      "   === Total Power: 0.000000 ===\n",
      "    P_optics: 0.000000\n",
      "    P_tec: 0.000000\n",
      "    Temperatures : \n",
      "[222.93644748 222.93598119 222.92813797 264.35729116 324.11252672\n",
      " 222.92189571 324.09720696]\n",
      "    Error norm: 0.000002\n",
      "   === Total Power: 14.285714 ===\n",
      "    P_optics: 2.040816\n",
      "    P_tec: 6.997085\n",
      "    Temperatures : \n",
      "[222.37343561 222.35749088 232.43790694 268.57081099 330.36546668\n",
      " 231.5212316  328.35345758]\n",
      "    Error norm: 0.000006\n",
      "   === Total Power: 28.571429 ===\n",
      "    P_optics: 4.081633\n",
      "    P_tec: 13.994169\n"
     ]
    },
    {
     "name": "stderr",
     "output_type": "stream",
     "text": [
      "C:\\Users\\lotus\\anaconda3\\lib\\site-packages\\scipy\\optimize\\nonlin.py:1001: RuntimeWarning: divide by zero encountered in true_divide\n",
      "  d = v / vdot(df, v)\n",
      "C:\\Users\\lotus\\anaconda3\\lib\\site-packages\\scipy\\optimize\\nonlin.py:771: RuntimeWarning: invalid value encountered in multiply\n",
      "  self.collapsed += c[:,None] * d[None,:].conj()\n",
      "C:\\Users\\lotus\\anaconda3\\lib\\site-packages\\scipy\\optimize\\nonlin.py:1001: RuntimeWarning: invalid value encountered in true_divide\n",
      "  d = v / vdot(df, v)\n"
     ]
    },
    {
     "name": "stdout",
     "output_type": "stream",
     "text": [
      "    Temperatures : \n",
      "[227.1983557  227.1670288  241.2849262  275.67774464 336.42069414\n",
      " 239.45910588 332.3867928 ]\n",
      "    Error norm: 0.000005\n",
      "   === Total Power: 42.857143 ===\n",
      "    P_optics: 6.122449\n",
      "    P_tec: 20.991254\n",
      "    Temperatures : \n",
      "[232.32565935 232.27899158 249.53915519 280.31156978 342.20186249\n",
      " 246.80474303 336.16523281]\n",
      "    Error norm: 0.000002\n",
      "   === Total Power: 57.142857 ===\n",
      "    P_optics: 8.163265\n",
      "    P_tec: 27.988338\n",
      "    Temperatures : \n",
      "[237.39628704 237.33428231 257.29482025 284.98174835 347.72621069\n",
      " 253.65186892 339.7182557 ]\n",
      "    Error norm: 0.000008\n",
      "   === Total Power: 71.428571 ===\n",
      "    P_optics: 10.204082\n",
      "    P_tec: 34.985423\n",
      "    Temperatures : \n",
      "[242.34294651 242.26559665 264.65478496 290.53061284 353.28106452\n",
      " 260.10318449 343.20968991]\n",
      "    Error norm: 0.000001\n",
      "   === Total Power: 85.714286 ===\n",
      "    P_optics: 12.244898\n",
      "    P_tec: 41.982507\n",
      "    Temperatures : \n",
      "[247.09193003 246.99923596 271.62444019 295.98856061 358.54985147\n",
      " 266.16420314 346.47919665]\n",
      "    Error norm: 0.000005\n",
      "   === Total Power: 100.000000 ===\n",
      "    P_optics: 14.285714\n",
      "    P_tec: 48.979592\n",
      "    Temperatures : \n",
      "[251.65619224 251.5481672  278.26589163 300.22903389 363.71270217\n",
      " 271.89719535 349.62986057]\n",
      "    Error norm: 0.000003\n",
      "==== Optics Ratio: 0.285714 ====\n",
      "   === Total Power: 0.000000 ===\n",
      "    P_optics: 0.000000\n",
      "    P_tec: 0.000000\n"
     ]
    },
    {
     "name": "stderr",
     "output_type": "stream",
     "text": [
      "C:\\Users\\lotus\\anaconda3\\lib\\site-packages\\scipy\\optimize\\nonlin.py:1001: RuntimeWarning: invalid value encountered in true_divide\n",
      "  d = v / vdot(df, v)\n"
     ]
    },
    {
     "name": "stdout",
     "output_type": "stream",
     "text": [
      "    Temperatures : \n",
      "[222.93168237 222.93121401 222.92333648 264.53684379 324.08590998\n",
      " 222.91706654 324.08213968]\n",
      "    Error norm: 0.000003\n",
      "   === Total Power: 14.285714 ===\n",
      "    P_optics: 4.081633\n",
      "    P_tec: 5.830904\n",
      "    Temperatures : \n",
      "[224.17229322 224.14104894 233.07138478 269.67651833 329.61349729\n",
      " 232.06710213 327.99048911]\n",
      "    Error norm: 0.000005\n",
      "   === Total Power: 28.571429 ===\n",
      "    P_optics: 8.163265\n",
      "    P_tec: 11.661808\n",
      "    Temperatures : \n",
      "[230.20327779 230.14135709 242.51086355 276.27687753 335.13397898\n",
      " 240.50989471 331.78171582]\n",
      "    Error norm: 0.000004\n",
      "   === Total Power: 42.857143 ===\n",
      "    P_optics: 12.244898\n",
      "    P_tec: 17.492711\n",
      "    Temperatures : \n",
      "[236.37808536 236.28551332 251.2888238  281.59678082 340.3196411\n",
      " 248.29150646 335.28701688]\n",
      "    Error norm: 0.000001\n",
      "   === Total Power: 57.142857 ===\n",
      "    P_optics: 16.326531\n",
      "    P_tec: 23.323615\n",
      "    Temperatures : \n",
      "[242.39055696 242.26734389 259.50889666 286.23272389 345.21336761\n",
      " 255.51537048 338.54725145]\n",
      "    Error norm: 0.000007\n",
      "   === Total Power: 71.428571 ===\n",
      "    P_optics: 20.408163\n",
      "    P_tec: 29.154519\n",
      "    Temperatures : \n",
      "[248.19839441 248.0445237  267.28129198 292.38264645 350.01504416\n",
      " 262.29133244 341.68534684]\n",
      "    Error norm: 0.000006\n",
      "   === Total Power: 85.714286 ===\n",
      "    P_optics: 24.489796\n",
      "    P_tec: 34.985423\n",
      "    Temperatures : \n",
      "[253.78149696 253.59699205 274.66075345 296.39421954 354.81200593\n",
      " 268.67467532 344.75323863]\n",
      "    Error norm: 0.000004\n",
      "   === Total Power: 100.000000 ===\n",
      "    P_optics: 28.571429\n",
      "    P_tec: 40.816327\n",
      "    Temperatures : \n",
      "[259.13180685 258.91664586 281.67945137 302.24423535 359.40795105\n",
      " 274.69696177 347.65591146]\n",
      "    Error norm: 0.000006\n",
      "==== Optics Ratio: 0.428571 ====\n",
      "   === Total Power: 0.000000 ===\n",
      "    P_optics: 0.000000\n",
      "    P_tec: 0.000000\n",
      "    Temperatures : \n",
      "[222.92693894 222.92647621 222.91868839 264.03173786 324.06235382\n",
      " 222.91249359 324.0706445 ]\n",
      "    Error norm: 0.000007\n",
      "   === Total Power: 14.285714 ===\n",
      "    P_optics: 6.122449\n",
      "    P_tec: 4.664723\n"
     ]
    },
    {
     "name": "stderr",
     "output_type": "stream",
     "text": [
      "C:\\Users\\lotus\\anaconda3\\lib\\site-packages\\scipy\\optimize\\nonlin.py:1001: RuntimeWarning: invalid value encountered in true_divide\n",
      "  d = v / vdot(df, v)\n",
      "C:\\Users\\lotus\\anaconda3\\lib\\site-packages\\scipy\\optimize\\nonlin.py:1001: RuntimeWarning: divide by zero encountered in true_divide\n",
      "  d = v / vdot(df, v)\n"
     ]
    },
    {
     "name": "stdout",
     "output_type": "stream",
     "text": [
      "    Temperatures : \n",
      "[226.11382919 226.06730298 233.74109873 269.47230068 329.09492371\n",
      " 232.64943917 327.75649846]\n",
      "    Error norm: 0.000006\n",
      "   === Total Power: 28.571429 ===\n",
      "    P_optics: 12.244898\n",
      "    P_tec: 9.329446\n",
      "    Temperatures : \n",
      "[233.36231272 233.26981196 243.72815907 275.97414824 333.87983051\n",
      " 241.55222351 331.19057882]\n",
      "    Error norm: 0.000006\n",
      "   === Total Power: 42.857143 ===\n",
      "    P_optics: 18.367347\n",
      "    P_tec: 13.994169\n",
      "    Temperatures : \n",
      "[240.61717908 240.47870325 253.01409063 283.23518983 338.39719783\n",
      " 249.75387378 334.38288265]\n",
      "    Error norm: 0.000006\n",
      "   === Total Power: 57.142857 ===\n",
      "    P_optics: 24.489796\n",
      "    P_tec: 18.658892\n",
      "    Temperatures : \n",
      "[247.62542642 247.44100611 261.70995732 287.92670879 342.80213062\n",
      " 257.36586014 337.4259984 ]\n",
      "    Error norm: 0.000007\n",
      "   === Total Power: 71.428571 ===\n",
      "    P_optics: 30.612245\n",
      "    P_tec: 23.323615\n",
      "    Temperatures : \n",
      "[254.33503766 254.10465901 269.89525318 293.66338174 346.98818163\n",
      " 264.46710737 340.27882572]\n",
      "    Error norm: 0.000002\n",
      "   === Total Power: 85.714286 ===\n",
      "    P_optics: 36.734694\n",
      "    P_tec: 27.988338\n",
      "    Temperatures : \n",
      "[260.75854831 260.48222818 277.64884277 297.81190948 351.11230784\n",
      " 271.13686477 343.03369678]\n",
      "    Error norm: 0.000006\n",
      "   === Total Power: 100.000000 ===\n",
      "    P_optics: 42.857143\n",
      "    P_tec: 32.653061\n",
      "    Temperatures : \n",
      "[266.90163041 266.57934754 285.01174963 303.67757565 355.00983105\n",
      " 277.41565523 345.61337674]\n",
      "    Error norm: 0.000004\n",
      "==== Optics Ratio: 0.571429 ====\n",
      "   === Total Power: 0.000000 ===\n",
      "    P_optics: 0.000000\n",
      "    P_tec: 0.000000\n",
      "    Temperatures : \n",
      "[222.89895252 222.89849485 222.89079092 263.5515769  323.93885011\n",
      " 222.88466271 323.99778978]\n",
      "    Error norm: 0.000009\n",
      "   === Total Power: 14.285714 ===\n",
      "    P_optics: 8.163265\n",
      "    P_tec: 3.498542\n"
     ]
    },
    {
     "name": "stderr",
     "output_type": "stream",
     "text": [
      "C:\\Users\\lotus\\anaconda3\\lib\\site-packages\\scipy\\optimize\\nonlin.py:1001: RuntimeWarning: invalid value encountered in true_divide\n",
      "  d = v / vdot(df, v)\n",
      "C:\\Users\\lotus\\anaconda3\\lib\\site-packages\\scipy\\optimize\\nonlin.py:1001: RuntimeWarning: divide by zero encountered in true_divide\n",
      "  d = v / vdot(df, v)\n"
     ]
    },
    {
     "name": "stdout",
     "output_type": "stream",
     "text": [
      "    Temperatures : \n",
      "[228.19236359 228.13053463 234.39572303 271.40199325 328.47205986\n",
      " 233.21641147 327.46629003]\n",
      "    Error norm: 0.000006\n",
      "   === Total Power: 28.571429 ===\n",
      "    P_optics: 16.326531\n",
      "    P_tec: 6.997085\n",
      "    Temperatures : \n",
      "[236.72985953 236.60676022 244.92694853 277.72302926 332.52353332\n",
      " 242.57580932 330.54524879]\n",
      "    Error norm: 0.000006\n",
      "   === Total Power: 42.857143 ===\n",
      "    P_optics: 24.489796\n",
      "    P_tec: 10.495627\n",
      "    Temperatures : \n",
      "[245.11919002 244.93482967 254.71158182 283.7190383  336.46391985\n",
      " 251.18872588 333.46641027]\n",
      "    Error norm: 0.000002\n",
      "   === Total Power: 57.142857 ===\n",
      "    P_optics: 32.653061\n",
      "    P_tec: 13.994169\n",
      "    Temperatures : \n",
      "[253.13907176 252.89344933 263.8376532  289.69917298 340.10532905\n",
      " 259.14307308 336.14029045]\n",
      "    Error norm: 0.000006\n",
      "   === Total Power: 71.428571 ===\n",
      "    P_optics: 40.816327\n",
      "    P_tec: 17.492711\n",
      "    Temperatures : \n",
      "[260.82208162 260.51519536 272.45362391 295.67136567 343.8681555\n",
      " 266.58730143 338.81184211]\n",
      "    Error norm: 0.000008\n",
      "   === Total Power: 85.714286 ===\n",
      "    P_optics: 48.979592\n",
      "    P_tec: 20.991254\n",
      "    Temperatures : \n",
      "[268.13670041 267.76856001 280.58011042 300.53808526 347.36865271\n",
      " 273.54216595 341.27609229]\n",
      "    Error norm: 0.000006\n",
      "   === Total Power: 100.000000 ===\n",
      "    P_optics: 57.142857\n",
      "    P_tec: 24.489796\n",
      "    Temperatures : \n",
      "[275.11117502 274.68177399 288.27584512 305.72963716 350.5764841\n",
      " 280.06619555 343.53288271]\n",
      "    Error norm: 0.000007\n",
      "==== Optics Ratio: 0.714286 ====\n",
      "   === Total Power: 0.000000 ===\n",
      "    P_optics: 0.000000\n",
      "    P_tec: 0.000000\n"
     ]
    },
    {
     "name": "stderr",
     "output_type": "stream",
     "text": [
      "C:\\Users\\lotus\\anaconda3\\lib\\site-packages\\scipy\\optimize\\nonlin.py:1001: RuntimeWarning: divide by zero encountered in true_divide\n",
      "  d = v / vdot(df, v)\n",
      "C:\\Users\\lotus\\anaconda3\\lib\\site-packages\\scipy\\optimize\\nonlin.py:1001: RuntimeWarning: invalid value encountered in true_divide\n",
      "  d = v / vdot(df, v)\n"
     ]
    },
    {
     "name": "stdout",
     "output_type": "stream",
     "text": [
      "    Temperatures : \n",
      "[222.92711265 222.92664944 222.91885862 264.0745179  324.07421651\n",
      " 222.91265767 324.07484455]\n",
      "    Error norm: 0.000000\n",
      "   === Total Power: 14.285714 ===\n",
      "    P_optics: 10.204082\n",
      "    P_tec: 2.332362\n",
      "    Temperatures : \n",
      "[230.51777028 230.44067291 235.06392071 270.77423656 327.98608995\n",
      " 233.7974114  327.25055891]\n",
      "    Error norm: 0.000007\n",
      "   === Total Power: 28.571429 ===\n",
      "    P_optics: 20.408163\n",
      "    P_tec: 4.664723\n",
      "    Temperatures : \n",
      "[240.45613858 240.30246324 246.13743037 278.22844888 331.32495713\n",
      " 243.61137232 329.98378639]\n",
      "    Error norm: 0.000000\n",
      "   === Total Power: 42.857143 ===\n",
      "    P_optics: 30.612245\n",
      "    P_tec: 6.997085\n",
      "    Temperatures : \n",
      "[250.04832849 249.81808045 256.39162484 285.3531104  334.49618693\n",
      " 252.60608482 332.53045699]\n",
      "    Error norm: 0.000009\n",
      "   === Total Power: 57.142857 ===\n",
      "    P_optics: 40.816327\n",
      "    P_tec: 9.329446\n"
     ]
    },
    {
     "name": "stderr",
     "output_type": "stream",
     "text": [
      "C:\\Users\\lotus\\anaconda3\\lib\\site-packages\\scipy\\optimize\\nonlin.py:771: RuntimeWarning: invalid value encountered in multiply\n",
      "  self.collapsed += c[:,None] * d[None,:].conj()\n"
     ]
    },
    {
     "name": "stdout",
     "output_type": "stream",
     "text": [
      "    Temperatures : \n",
      "[259.18834012 258.8815293  265.97142858 291.36669365 337.65252616\n",
      " 260.9265394  334.98203897]\n",
      "    Error norm: 0.000005\n",
      "   === Total Power: 71.428571 ===\n",
      "    P_optics: 51.020408\n",
      "    P_tec: 11.661808\n",
      "    Temperatures : \n",
      "[267.85829578 267.47493236 274.94750692 296.13955873 340.5820651\n",
      " 268.64340743 337.24154764]\n",
      "    Error norm: 0.000004\n",
      "   === Total Power: 85.714286 ===\n",
      "    P_optics: 61.224490\n",
      "    P_tec: 13.994169\n",
      "    Temperatures : \n",
      "[276.14605256 275.68612066 283.45315054 301.99561636 343.54308391\n",
      " 275.88962361 339.46208769]\n",
      "    Error norm: 0.000012\n",
      "   === Total Power: 100.000000 ===\n",
      "    P_optics: 71.428571\n",
      "    P_tec: 16.326531\n",
      "    Temperatures : \n",
      "[284.01491597 283.47842692 291.47210804 306.55940006 346.13309657\n",
      " 282.6493081  341.42261306]\n",
      "    Error norm: 0.000003\n",
      "==== Optics Ratio: 0.857143 ====\n",
      "   === Total Power: 0.000000 ===\n",
      "    P_optics: 0.000000\n",
      "    P_tec: 0.000000\n",
      "    Temperatures : \n",
      "[222.92614556 222.92568247 222.91789377 264.0625885  324.07048237\n",
      " 222.91169458 324.072679  ]\n",
      "    Error norm: 0.000001\n",
      "   === Total Power: 14.285714 ===\n",
      "    P_optics: 12.244898\n",
      "    P_tec: 1.166181\n"
     ]
    },
    {
     "name": "stderr",
     "output_type": "stream",
     "text": [
      "C:\\Users\\lotus\\anaconda3\\lib\\site-packages\\scipy\\optimize\\nonlin.py:1001: RuntimeWarning: invalid value encountered in true_divide\n",
      "  d = v / vdot(df, v)\n"
     ]
    },
    {
     "name": "stdout",
     "output_type": "stream",
     "text": [
      "    Temperatures : \n",
      "[233.23001967 233.13769653 235.67113099 267.17134212 327.28913308\n",
      " 234.31800523 326.91213415]\n",
      "    Error norm: 0.000039\n",
      "   === Total Power: 28.571429 ===\n",
      "    P_optics: 24.489796\n",
      "    P_tec: 2.332362\n",
      "    Temperatures : \n",
      "[244.79424419 244.61000336 247.30022567 279.0426953  329.89813428\n",
      " 244.59939971 329.29272276]\n",
      "    Error norm: 0.000006\n",
      "   === Total Power: 42.857143 ===\n",
      "    P_optics: 36.734694\n",
      "    P_tec: 3.498542\n",
      "    Temperatures : \n",
      "[255.8047387  255.52862819 258.06631373 286.40824138 332.65219946\n",
      " 254.0184277  331.6532192 ]\n",
      "    Error norm: 0.000004\n",
      "   === Total Power: 57.142857 ===\n",
      "    P_optics: 48.979592\n",
      "    P_tec: 4.664723\n",
      "    Temperatures : \n",
      "[266.17979001 265.81182201 268.05743805 292.19384142 335.09219296\n",
      " 262.6626582  333.75614341]\n",
      "    Error norm: 0.000001\n",
      "   === Total Power: 71.428571 ===\n",
      "    P_optics: 61.224490\n",
      "    P_tec: 5.830904\n",
      "    Temperatures : \n",
      "[276.00755253 275.54771157 277.42280058 298.88524901 337.38331741\n",
      " 270.68091909 335.71044293]\n",
      "    Error norm: 0.000006\n",
      "   === Total Power: 85.714286 ===\n",
      "    P_optics: 73.469388\n",
      "    P_tec: 6.997085\n",
      "    Temperatures : \n",
      "[285.33585523 284.78416594 286.23914732 302.93844254 339.51754267\n",
      " 278.15049419 337.51739998]\n",
      "    Error norm: 0.000006\n",
      "   === Total Power: 100.000000 ===\n",
      "    P_optics: 85.714286\n",
      "    P_tec: 8.163265\n",
      "    Temperatures : \n",
      "[294.24664927 293.60308193 294.60416096 309.24374886 341.59635381\n",
      " 285.16833705 339.24533934]\n",
      "    Error norm: 0.000003\n",
      "==== Optics Ratio: 1.000000 ====\n",
      "   === Total Power: 0.000000 ===\n",
      "    P_optics: 0.000000\n",
      "    P_tec: 0.000000\n"
     ]
    },
    {
     "name": "stderr",
     "output_type": "stream",
     "text": [
      "C:\\Users\\lotus\\anaconda3\\lib\\site-packages\\scipy\\optimize\\nonlin.py:1001: RuntimeWarning: divide by zero encountered in true_divide\n",
      "  d = v / vdot(df, v)\n",
      "C:\\Users\\lotus\\anaconda3\\lib\\site-packages\\scipy\\optimize\\nonlin.py:771: RuntimeWarning: invalid value encountered in multiply\n",
      "  self.collapsed += c[:,None] * d[None,:].conj()\n",
      "C:\\Users\\lotus\\anaconda3\\lib\\site-packages\\scipy\\optimize\\nonlin.py:1001: RuntimeWarning: invalid value encountered in true_divide\n",
      "  d = v / vdot(df, v)\n"
     ]
    },
    {
     "name": "stdout",
     "output_type": "stream",
     "text": [
      "    Temperatures : \n",
      "[222.89428153 222.89381185 222.88592009 264.61131851 323.93758897\n",
      " 222.87964443 323.99417273]\n",
      "    Error norm: 0.000010\n",
      "   === Total Power: 14.285714 ===\n",
      "    P_optics: 14.285714\n",
      "    P_tec: 0.000000\n",
      "    Temperatures : \n",
      "[238.16934707 238.06173706 236.29396396 273.44171985 326.43631963\n",
      " 234.8533971  326.49180883]\n",
      "    Error norm: 0.000007\n",
      "   === Total Power: 28.571429 ===\n",
      "    P_optics: 28.571429\n",
      "    P_tec: 0.000000\n",
      "    Temperatures : \n",
      "[252.16252162 251.947769   248.49349859 281.11943938 328.70863344\n",
      " 245.61861928 328.73247703]\n",
      "    Error norm: 0.000004\n",
      "   === Total Power: 42.857143 ===\n",
      "    P_optics: 42.857143\n",
      "    P_tec: 0.000000\n",
      "    Temperatures : \n",
      "[265.10898536 264.78708777 259.70711864 287.8976664  330.71797517\n",
      " 255.39789665 330.72373288]\n",
      "    Error norm: 0.000001\n",
      "   === Total Power: 57.142857 ===\n",
      "    P_optics: 57.142857\n",
      "    P_tec: 0.000000\n",
      "    Temperatures : \n",
      "[276.81200891 276.38291301 269.72413312 298.12109661 329.60396875\n",
      " 263.97985438 330.89477601]\n",
      "    Error norm: 0.000121\n",
      "   === Total Power: 71.428571 ===\n",
      "    P_optics: 71.428571\n",
      "    P_tec: 0.000000\n",
      "    Temperatures : \n",
      "[288.56618473 288.02996954 279.84634544 301.32520919 334.13879785\n",
      " 272.6680677  334.14091675]\n",
      "    Error norm: 0.000006\n",
      "   === Total Power: 85.714286 ===\n",
      "    P_optics: 85.714286\n",
      "    P_tec: 0.000000\n",
      "    Temperatures : \n",
      "[299.30650282 298.66312862 288.98922918 307.00727665 335.49542066\n",
      " 280.37642023 335.56235684]\n",
      "    Error norm: 0.000008\n",
      "   === Total Power: 100.000000 ===\n",
      "    P_optics: 100.000000\n",
      "    P_tec: 0.000000\n",
      "    Temperatures : \n",
      "[309.54623652 308.79571277 297.66718548 311.31470185 337.01294693\n",
      " 287.6199728  337.02052077]\n",
      "    Error norm: 0.000004\n"
     ]
    },
    {
     "data": {
      "image/png": "[encoded data removed]",
      "text/plain": [
       "<Figure size 432x288 with 1 Axes>"
      ]
     },
     "metadata": {
      "needs_background": "light"
     },
     "output_type": "display_data"
    }
   ],
   "source": [
    "# 光学機器電力の比をとりあえず固定\n",
    "optics_power_ratio_4 = optics_power_ratio[4]\n",
    "# TECの比をとりあえず固定\n",
    "tec_power_ratio_4 = tec_power_ratio[4]\n",
    "\n",
    "# 光学機器の温度を格納するための配列\n",
    "T_opt = np.zeros((len(optics_power_ratio), len(P_total)))\n",
    "\n",
    "# グラフの準備\n",
    "pyplot.title('Total Power vs Reachable Temperature')\n",
    "pyplot.xlabel('Total Power [W]')\n",
    "pyplot.ylabel('T [K]')\n",
    "\n",
    "# 光学機器の電力割合を振る\n",
    "for i in range(len(optics_power_ratio)):\n",
    "    print(\"==== Optics Ratio: %f ====\" % optics_power_ratio[i])\n",
    "    # 合計消費電力を振る\n",
    "    for j in range(len(P_total)):\n",
    "\n",
    "        # 光学機器電力\n",
    "        P_optics = optics_power_ratio[i] * P_total[j]\n",
    "        # TEC使用電力\n",
    "        P_tec = tec_power_ratio_4 * (P_total[j]-P_optics)\n",
    "        # 計算で使うためにQgの0要素目にセットする\n",
    "        Qg[0] = P_optics\n",
    "        Qg[4] = P_total[j]-P_optics-P_tec\n",
    "\n",
    "        # 条件をアウトプット\n",
    "        print(\"   === Total Power: %f ===\" % P_total[j])\n",
    "        print(\"    P_optics: %f\" % P_optics)\n",
    "        print(\"    P_tec: %f\" % P_tec)\n",
    "\n",
    "        # 非線形連立方程式の初期解をfor文で探すパターン\n",
    "        N_rand = 20\n",
    "        T_max = 350\n",
    "        T_min = 100\n",
    "        T_rand_arr = (T_max - T_min)*np.random.rand(N_rand, N_node)+T_min\n",
    "        # print(T_rand_arr[0])\n",
    "        # ノルムで最小値をセットする（ありえないくらい大きな値でセット）\n",
    "        min_norm=100\n",
    "        # まずは候補となりそうな初期解をざっくり見つける\n",
    "        for T_rand_arr_i in T_rand_arr:\n",
    "            result = optimize.root(func_const_power_tec, T_rand_arr_i, method=\"broyden1\")\n",
    "            T_rand_result = result.x\n",
    "            norm = np.linalg.norm(func_const_power_tec(T_rand_result), ord=2)\n",
    "        #     print('Error: {}'.format(norm))\n",
    "            if norm < min_norm:\n",
    "                min_norm = norm\n",
    "                result_min_norm = result\n",
    "            # もしちゃんと収束していたら、ループを抜ける\n",
    "            if result.success == True:\n",
    "                result_min_norm = result\n",
    "                break\n",
    "        #     print(np.linalg.norm(func2(T_rand_result), ord=2))\n",
    "        #     print(T_rand_result)\n",
    "    #     print(result_min_norm.x)\n",
    "        T_opt[i][j]=result_min_norm.x[0]\n",
    "        print(\"    Temperatures : \")\n",
    "        print(result_min_norm.x)\n",
    "        print(\"    Error norm: %f\" % np.linalg.norm(func_const_power_tec(result_min_norm.x), ord=2))\n",
    "\n",
    "    \n",
    "    # P vs Tのグラフを出力する\n",
    "    pyplot.plot(P_total, T_opt[i],'o-', label = 'optics power ratio = {0}'.format(optics_power_ratio[i]))\n",
    "\n",
    "# グラフ範囲指定\n",
    "# pyplot.ylim(200, 500)\n",
    "# 最後にグラフに出力する\n",
    "pyplot.legend()\n",
    "pyplot.show()"
   ]
  },
  {
   "cell_type": "code",
   "execution_count": 212,
   "metadata": {},
   "outputs": [
    {
     "data": {
      "image/png": "[encoded data removed]",
      "text/plain": [
       "<Figure size 432x288 with 1 Axes>"
      ]
     },
     "metadata": {
      "needs_background": "light"
     },
     "output_type": "display_data"
    }
   ],
   "source": [
    "# 光学機器の電力割合を振る\n",
    "for i in range(len(optics_power_ratio)):\n",
    "     # P vs Tのグラフを出力する\n",
    "    pyplot.plot(P_total, T_opt[i],'o-', label = 'optics power ratio = {0:.2f}'.format(optics_power_ratio[i]))\n",
    "\n",
    "# グラフ範囲指定\n",
    "# pyplot.ylim(200, 500)\n",
    "# 最後にグラフに出力する\n",
    "pyplot.legend()\n",
    "pyplot.show()"
   ]
  },
  {
   "cell_type": "code",
   "execution_count": 211,
   "metadata": {},
   "outputs": [
    {
     "data": {
      "image/png": "[encoded data removed]",
      "text/plain": [
       "<Figure size 432x288 with 1 Axes>"
      ]
     },
     "metadata": {
      "needs_background": "light"
     },
     "output_type": "display_data"
    }
   ],
   "source": [
    "# 光学機器の電力割合を振る\n",
    "for i in range(len(optics_power_ratio)):\n",
    "     # P vs Tのグラフを出力する\n",
    "    pyplot.plot(P_total, T_opt_zero[i],'o-', label = 'optics power ratio = {0:.2f}'.format(optics_power_ratio[i]))\n",
    "\n",
    "# グラフ範囲指定\n",
    "# pyplot.ylim(200, 500)\n",
    "# 最後にグラフに出力する\n",
    "pyplot.legend()\n",
    "pyplot.show()"
   ]
  },
  {
   "cell_type": "code",
   "execution_count": 225,
   "metadata": {},
   "outputs": [
    {
     "data": {
      "image/png": "[encoded data removed]",
      "text/plain": [
       "<Figure size 432x288 with 1 Axes>"
      ]
     },
     "metadata": {
      "needs_background": "light"
     },
     "output_type": "display_data"
    }
   ],
   "source": [
    "# 光学機器の電力割合を振る\n",
    "for i in range(len(optics_power_ratio)):\n",
    "     # P vs Tのグラフを出力する\n",
    "    pyplot.plot(P_total, T_opt_zero[i],'o-',label=\"Without TEC\", color=\"gray\")\n",
    "    pyplot.plot(P_total, T_opt[i],'o--', label=\"With TEC\", color=\"skyblue\")\n",
    "    \n",
    "# TECありのほうが良い場合の点の描写\n",
    "for i in range(len(optics_power_ratio)):\n",
    "    for j in range(len(P_total)):\n",
    "        # P vs Tのグラフを出力する\n",
    "        if T_opt_zero[i][j] >= T_opt[i][j]:\n",
    "            pyplot.plot(P_total[j], T_opt[i][j], marker=\".\", color=\"red\")\n",
    "    \n",
    "\n",
    "# グラフ範囲指定\n",
    "# pyplot.ylim(200, 500)\n",
    "# 最後にグラフに出力する\n",
    "# pyplot.legend()\n",
    "pyplot.show()"
   ]
  },
  {
   "cell_type": "code",
   "execution_count": null,
   "metadata": {},
   "outputs": [],
   "source": []
  }
 ],
 "metadata": {
  "kernelspec": {
   "display_name": "Python 3",
   "language": "python",
   "name": "python3"
  },
  "language_info": {
   "codemirror_mode": {
    "name": "ipython",
    "version": 3
   },
   "file_extension": ".py",
   "mimetype": "text/x-python",
   "name": "python",
   "nbconvert_exporter": "python",
   "pygments_lexer": "ipython3",
   "version": "3.8.3"
  }
 },
 "nbformat": 4,
 "nbformat_minor": 4
}
