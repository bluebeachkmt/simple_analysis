{
 "cells": [
  {
   "cell_type": "markdown",
   "metadata": {},
   "source": [
    "# インポート"
   ]
  },
  {
   "cell_type": "code",
   "execution_count": 129,
   "metadata": {},
   "outputs": [],
   "source": [
    "import numpy as np\n",
    "import sympy as sp\n",
    "import pandas as pd\n",
    "import csv as csv\n",
    "import random\n",
    "import scipy.integrate as scp\n",
    "from scipy import optimize\n",
    "from matplotlib import pyplot"
   ]
  },
  {
   "cell_type": "markdown",
   "metadata": {},
   "source": [
    "# 熱情報の設定 "
   ]
  },
  {
   "cell_type": "markdown",
   "metadata": {},
   "source": [
    "## 熱節点の情報をインポート"
   ]
  },
  {
   "cell_type": "code",
   "execution_count": 61,
   "metadata": {},
   "outputs": [
    {
     "name": "stdout",
     "output_type": "stream",
     "text": [
      "[[0.00000000e+00 1.33200000e+02 0.00000000e+00 1.50000000e-03\n",
      "  0.00000000e+00 1.50000000e-03 0.00000000e+00]\n",
      " [1.33200000e+02 0.00000000e+00 3.00000000e-03 0.00000000e+00\n",
      "  0.00000000e+00 0.00000000e+00 0.00000000e+00]\n",
      " [0.00000000e+00 3.00000000e-03 0.00000000e+00 0.00000000e+00\n",
      "  0.00000000e+00 9.95000000e+00 0.00000000e+00]\n",
      " [1.50000000e-03 0.00000000e+00 0.00000000e+00 0.00000000e+00\n",
      "  0.00000000e+00 3.30000000e-03 3.30000000e-03]\n",
      " [0.00000000e+00 0.00000000e+00 0.00000000e+00 0.00000000e+00\n",
      "  0.00000000e+00 0.00000000e+00 2.60700000e+00]\n",
      " [1.50000000e-03 0.00000000e+00 9.95000000e+00 3.30000000e-03\n",
      "  0.00000000e+00 0.00000000e+00 4.30909091e-01]\n",
      " [0.00000000e+00 0.00000000e+00 0.00000000e+00 3.30000000e-03\n",
      "  2.60700000e+00 4.30909091e-01 0.00000000e+00]]\n"
     ]
    }
   ],
   "source": [
    "\n",
    "# 熱コンダクタンスが入っているファイルを開いて、csvで読み出す。そのあとリスト形式で文字列のまま読み出して二次元リストにする。\n",
    "with open('Simple_Analysis.csv') as csv_file:\n",
    "  f = csv.reader(csv_file, delimiter=\",\", doublequote=True, lineterminator=\"\\r\\n\", quotechar='\"', skipinitialspace=True)\n",
    "  l = [[row_ij for row_ij in row_i] for row_i in f]\n",
    "\n",
    "\n",
    "# ノード数の取得 列方向のサイズを取得し、最初の列はノード名なので1引く\n",
    "# print(l[3][0] == [] )  ← これだめ\n",
    "N_node = np.size(l, axis = 1) - 1\n",
    "\n",
    "# ノード間の熱コンダクタンスを文字列の形で取得。二次元リストはスライスで一気に取ることはできないので、行についてはfor文で取得\n",
    "# k_str = [l[2 + i][1:] for i in range(N_node)]\n",
    "# r_str = [l[4 + N_node + i ][1:] if l[4 + N_node + i ][1:]=='N/A' else 0 for i in range(N_node)]\n",
    "k_ij = np.arange(N_node * N_node, dtype = float).reshape(N_node, N_node)\n",
    "r_ij = np.arange(N_node * N_node, dtype = float).reshape(N_node, N_node)\n",
    "\n",
    "for i in range(N_node):\n",
    "  for j in range(N_node):\n",
    "    if (l[i + 2][j + 1] == 'N/A' or l[i + 2][j + 1] == '' or l[i + 2][j + 1] == '#N/A') == False :\n",
    "      k_ij[i][j] = float(l[i + 2][j + 1])\n",
    "    else:\n",
    "      k_ij[i][j] = 0.0\n",
    "    if (l[i + 4 + N_node][j + 1] == 'N/A' or l[i + 4 + N_node][j + 1] == '' or l[i + 2][j + 1] == '#N/A') == False :\n",
    "      r_ij[i][j] = float(l[i + 4 + N_node][j + 1])\n",
    "    else:\n",
    "      r_ij[i][j] = 0.0\n",
    "\n",
    "      \n",
    "# k_str = [[float(l[2 + i][1 + j]) if (l[2+ i][1 + j] != 'N/A' and l[2+ i][1 + j] != '') else 0.0 for j in range(N_node)] for i in range(N_node)]\n",
    "# r_str = [[l[4 + N_node + i][1+ j] if l[4 + N_node + i][1 + j] != 'N/A' else 0 for j in range(N_node)] for i in range(N_node)]\n",
    "\n",
    "\n",
    "# print(bool(l[2][3] == \"0\"))\n",
    "# print(type(l))\n",
    "# print(np.shape(l))\n",
    "#print(float(l[2][2]))\n",
    "print(k_ij)\n",
    "# print(r_str)\n",
    "\n",
    "\n",
    "# csv_file = open('/content/gdrive/My Drive/Research/LOTUS/ThermalAnalyze/Thermal_Node_Definition.csv', \"r\", encoding=\"ms932\", errors=\"\", newline=\"\" )\n",
    "# #リスト形式\n",
    "# f = csv.reader(csv_file, delimiter=\",\", doublequote=True, lineterminator=\"\\r\\n\", quotechar='\"', skipinitialspace=True)\n",
    "# print(f.reader())"
   ]
  },
  {
   "cell_type": "markdown",
   "metadata": {},
   "source": [
    "## 熱伝導係数を保持するクラス"
   ]
  },
  {
   "cell_type": "code",
   "execution_count": 62,
   "metadata": {},
   "outputs": [],
   "source": [
    "class Cond:\n",
    "  def __init__(self, K_ij=0, R_ij=0):\n",
    "    self.K_ij = K_ij\n",
    "    self.R_ij = R_ij"
   ]
  },
  {
   "cell_type": "markdown",
   "metadata": {},
   "source": [
    "## 各ノードの熱入出力や熱特性を保持するクラス"
   ]
  },
  {
   "cell_type": "code",
   "execution_count": 63,
   "metadata": {},
   "outputs": [],
   "source": [
    "# Initialize Cond class class matrix\n",
    "def init_cond(k_mat, r_mat):\n",
    "  Cond_N = [[Cond(0,0) for i in range(len(k_mat[0]))] for j in range(len(k_mat[0]))]\n",
    "  for Cond_N_i , k_i, r_i in zip(Cond_N, k_mat, r_mat):\n",
    "    for Cond_N_ij, k_ij, r_ij in zip(Cond_N_i, k_i, r_i):\n",
    "      Cond_N_ij.K_ij = k_ij\n",
    "      Cond_N_ij.R_ij = r_ij\n",
    "  return Cond_N"
   ]
  },
  {
   "cell_type": "code",
   "execution_count": 64,
   "metadata": {},
   "outputs": [
    {
     "name": "stdout",
     "output_type": "stream",
     "text": [
      "133.2\n"
     ]
    }
   ],
   "source": [
    "Cond_N = init_cond(k_ij, r_ij)\n",
    "# ちゃんと格納されているか\n",
    "print(Cond_N[0][1].K_ij)"
   ]
  },
  {
   "cell_type": "markdown",
   "metadata": {},
   "source": [
    "## 衛星座標系の設定"
   ]
  },
  {
   "cell_type": "code",
   "execution_count": 65,
   "metadata": {},
   "outputs": [],
   "source": [
    "# 座標変換行列\n",
    "# C_b_to_i = \n",
    "# C_lvlh_to_i ="
   ]
  },
  {
   "cell_type": "code",
   "execution_count": 66,
   "metadata": {},
   "outputs": [],
   "source": [
    "# 軌道情報\n"
   ]
  },
  {
   "cell_type": "code",
   "execution_count": 67,
   "metadata": {},
   "outputs": [],
   "source": [
    "# 方向余弦を返す関数\n",
    "def direction_cosine(a, b, c):\n",
    "    return (np.array([np.cos(a), np.cos(b), np.cos(c)]))"
   ]
  },
  {
   "cell_type": "code",
   "execution_count": 68,
   "metadata": {},
   "outputs": [
    {
     "name": "stdout",
     "output_type": "stream",
     "text": [
      "[7.07106781e-01 7.07106781e-01 6.12323400e-17]\n",
      "[ 6.123234e-17  6.123234e-17 -1.000000e+00]\n"
     ]
    }
   ],
   "source": [
    "# 機体固定座標からみた太陽方向(とりあえず今は固定させている)\n",
    "sun_vec_from_b = direction_cosine(np.pi/4, np.pi/4, np.pi/2)\n",
    "print(sun_vec_from_b)\n",
    "\n",
    "# 機体固定座標絡みた地球方向(とりあえず今は固定させている)\n",
    "earth_vec_from_b = direction_cosine(np.pi/2, np.pi/2, np.pi)\n",
    "print(earth_vec_from_b)\n",
    "\n",
    "# 衛星-地球-太陽の角度 80degくらいに設定\n",
    "sat_earth_sun_angle=np.pi/2.5"
   ]
  },
  {
   "cell_type": "code",
   "execution_count": 69,
   "metadata": {},
   "outputs": [],
   "source": [
    "# 衛星パネルクラス 熱計算をするときにこの情報からCondクラスに代入していく\n",
    "class Panel:\n",
    "    def __init__(self, width=0, height=0, thick=0, sp_cap=0, Q=0, angle_of_sun=0, angle_of_earth=0):\n",
    "        self.width=width\n",
    "        self.height=height\n",
    "        self.area = width*height\n",
    "        self.thick=thick\n",
    "        self.sp_cap=sp_cap\n",
    "        self.Q=Q\n",
    "        self.angle_of_sun=angle_of_sun\n",
    "        self.angle_of_earth=angle_of_earth\n",
    "        self.cap=sp_cap*width*height*thick\n",
    "        \n",
    "    # 比熱容量を設定\n",
    "    def update_capacity(self):\n",
    "        self.cap=self.sp_cap*self.width*self.height*self.thick\n",
    "    # パネル面積を設定\n",
    "    def update_area(self):\n",
    "        self.area=self.width*self.height\n",
    "        \n",
    "\n",
    "# 衛星外部パネルクラス Panelクラスを継承 太陽方向ベクトルとの内積計算のために法線ベクトルを追加する\n",
    "class Ex_Panel(Panel):\n",
    "    def __init__(self, width=0, height=0, thick=0, sp_cap=0, Q=0, angle_of_sun=0, angle_of_earth=0, F_pe=0, eps=0, alpha=0, n_vec=np.array([0.0, 0.0, 0.0]), sap_area_ratio=0, alm_area_ratio=0, osr_area_ratio=0):\n",
    "        self.width=width\n",
    "        self.height=height\n",
    "        self.area = width*height\n",
    "        self.thick=thick\n",
    "        self.sp_cap=sp_cap\n",
    "        self.Q=Q\n",
    "        self.angle_of_sun=angle_of_sun\n",
    "        self.angle_of_earth=angle_of_earth\n",
    "        self.F_pe = F_pe\n",
    "        self.eps = eps\n",
    "        self.alpha = alpha\n",
    "        self.n_vec=n_vec\n",
    "        self.cap=sp_cap*width*height*thick\n",
    "        self.sap_area_ratio = sap_area_ratio\n",
    "        self.alm_area_ratio = alm_area_ratio\n",
    "        self.osr_area_ratio = osr_area_ratio\n",
    "        \n",
    "    # 地球との形態係数\n",
    "    def view_factor_plate_sphere(self, h, beta=False):\n",
    "#         h = H/R\n",
    "        if beta == False:\n",
    "            beta=self.angle_of_earth\n",
    "        if beta>np.pi/2:\n",
    "            self.F_pe = 0\n",
    "            return 0\n",
    "\n",
    "        if beta-np.pi/2+np.arcsin(1/h)<0:\n",
    "            self.F_pe=np.cos(beta)/h**2\n",
    "        else:\n",
    "            x=np.sqrt(h**2-1)/np.tan(beta)\n",
    "            y=np.sqrt(1-x**2)\n",
    "            self.F_pe=np.cos(beta)/np.pi/h/h*(np.pi-np.arccos(x)-x*y*(np.tan(beta))**2)+1.0/np.pi*np.arctan(y/x*np.cos(beta))\n",
    "        return self.F_pe"
   ]
  },
  {
   "cell_type": "markdown",
   "metadata": {},
   "source": [
    "### パネル情報の設定\n",
    "SAP面: SAP8割, アルミ面2割 \n",
    "放熱面: アルミ面2割, OSR8割"
   ]
  },
  {
   "cell_type": "code",
   "execution_count": 70,
   "metadata": {},
   "outputs": [],
   "source": [
    "# LOTUSの情報をいれる\n",
    "PX_Panel = Ex_Panel(width=300E-3, height=400E-3, thick=4, n_vec=np.array([1.0, 0.0, 0.0]), sap_area_ratio=0.8, alm_area_ratio=0.2)\n",
    "MX_Panel = Ex_Panel(width=300E-3, height=400E-3, thick=4, n_vec=np.array([-1.0, 0.0, 0.0]), alm_area_ratio=0.2, osr_area_ratio=0.8)\n",
    "\n",
    "PY_Panel = Ex_Panel(width=300E-3, height=400E-3, thick=4, n_vec=np.array([0.0, 1.0, 0.0]), sap_area_ratio=0.8, alm_area_ratio=0.2)\n",
    "MY_Panel = Ex_Panel(width=300E-3, height=400E-3, thick=4, n_vec=np.array([0.0, -1.0, 0.0]), alm_area_ratio=0.2, osr_area_ratio=0.8)\n",
    "\n",
    "PZ_Panel = Ex_Panel(width=300E-3, height=300E-3, thick=4, sp_cap=3, n_vec=np.array([0.0, 0.0, 1.0]), sap_area_ratio=0.8, alm_area_ratio=0.2)\n",
    "MZ_Panel = Ex_Panel(width=300E-3, height=300E-3, thick=4, n_vec=np.array([0.0, 0.0, -1.0]), alm_area_ratio=0.2, osr_area_ratio=0.8)"
   ]
  },
  {
   "cell_type": "code",
   "execution_count": 71,
   "metadata": {},
   "outputs": [
    {
     "name": "stdout",
     "output_type": "stream",
     "text": [
      "0.3\n",
      "0.12\n",
      "0.2\n"
     ]
    }
   ],
   "source": [
    "print(PX_Panel.width)\n",
    "PX_Panel.update_capacity()\n",
    "PX_Panel.update_area()\n",
    "print(PX_Panel.area)\n",
    "print(PX_Panel.alm_area_ratio)"
   ]
  },
  {
   "cell_type": "code",
   "execution_count": 72,
   "metadata": {},
   "outputs": [
    {
     "name": "stdout",
     "output_type": "stream",
     "text": [
      "0.7071067811865476\n",
      "-0.7071067811865476\n",
      "0.7071067811865476\n",
      "-0.7071067811865476\n",
      "6.123233995736766e-17\n",
      "-6.123233995736766e-17\n"
     ]
    }
   ],
   "source": [
    "# 太陽方向ベクトルとの内積を考える\n",
    "print(np.dot(PX_Panel.n_vec, sun_vec_from_b))\n",
    "print(np.dot(MX_Panel.n_vec, sun_vec_from_b))\n",
    "\n",
    "print(np.dot(PY_Panel.n_vec, sun_vec_from_b))\n",
    "print(np.dot(MY_Panel.n_vec, sun_vec_from_b))\n",
    "\n",
    "print(np.dot(PZ_Panel.n_vec, sun_vec_from_b))\n",
    "print(np.dot(MZ_Panel.n_vec, sun_vec_from_b))"
   ]
  },
  {
   "cell_type": "code",
   "execution_count": 73,
   "metadata": {},
   "outputs": [],
   "source": [
    "# ベクトルのなす角を計算\n",
    "def angle_of_vector(vec1, vec2):\n",
    "    cos=np.dot(vec1, vec2)/np.linalg.norm(vec1, ord=2)/np.linalg.norm(vec2, ord=2)\n",
    "    if cos < -1.0:\n",
    "        cos = -1\n",
    "    elif cos > 1.0:\n",
    "        cos = 1\n",
    "    return np.arccos(cos)"
   ]
  },
  {
   "cell_type": "markdown",
   "metadata": {},
   "source": [
    "## 形態係数の式\n",
    "http://www1.accsnet.ne.jp/~aml00731/c/thermal/View_Factor.pdf (微小平板の式を用いた）"
   ]
  },
  {
   "cell_type": "code",
   "execution_count": 74,
   "metadata": {},
   "outputs": [],
   "source": [
    "# パネルへの各熱入力に対する形態係数を計算する\n",
    "def view_factor_plate_sphere(h, beta):\n",
    "#     h = H/R\n",
    "    if beta>np.pi/2:\n",
    "        return 0\n",
    "    \n",
    "    if beta-np.pi/2+np.arcsin(1/h)<0:\n",
    "        F_12=np.cos(beta)/h**2\n",
    "    else:\n",
    "        x=np.sqrt(h**2-1)/np.tan(beta)\n",
    "        y=np.sqrt(1-x**2)\n",
    "        F_12=np.cos(beta)/np.pi/h/h*(np.pi-np.arccos(x)-x*y*(np.tan(beta))**2)+1.0/np.pi*np.arctan(y/x*np.cos(beta))\n",
    "    return F_12"
   ]
  },
  {
   "cell_type": "code",
   "execution_count": 75,
   "metadata": {},
   "outputs": [
    {
     "data": {
      "text/plain": [
       "0.02883444281121869"
      ]
     },
     "execution_count": 75,
     "metadata": {},
     "output_type": "execute_result"
    }
   ],
   "source": [
    "view_factor_plate_sphere(2, np.pi/2)"
   ]
  },
  {
   "cell_type": "code",
   "execution_count": 76,
   "metadata": {},
   "outputs": [],
   "source": [
    "# F_12をプロットしてみる\n",
    "h=np.linspace(1.0000001,2,100)\n",
    "F_12=np.zeros_like(h)\n",
    "for i in range(len(h)):\n",
    "    F_12[i]=view_factor_plate_sphere(h[i], np.pi/2)"
   ]
  },
  {
   "cell_type": "code",
   "execution_count": 77,
   "metadata": {},
   "outputs": [
    {
     "data": {
      "text/plain": [
       "[<matplotlib.lines.Line2D at 0x20826d18ee0>]"
      ]
     },
     "execution_count": 77,
     "metadata": {},
     "output_type": "execute_result"
    },
    {
     "data": {
      "image/png": "[encoded data removed]",
      "text/plain": [
       "<Figure size 432x288 with 1 Axes>"
      ]
     },
     "metadata": {
      "needs_background": "light"
     },
     "output_type": "display_data"
    }
   ],
   "source": [
    "pyplot.plot(h, F_12)"
   ]
  },
  {
   "cell_type": "code",
   "execution_count": 78,
   "metadata": {},
   "outputs": [],
   "source": [
    "# 太陽熱入力 1399[W/m]\n",
    "E_s = 1353\n",
    "# 地球赤外放射 264[W/m]\n",
    "E_e = 237\n",
    "# アルベド係数\n",
    "alb_co = 0.60"
   ]
  },
  {
   "cell_type": "code",
   "execution_count": 79,
   "metadata": {},
   "outputs": [
    {
     "data": {
      "text/plain": [
       "0.21852622510204706"
      ]
     },
     "execution_count": 79,
     "metadata": {},
     "output_type": "execute_result"
    }
   ],
   "source": [
    "# 地球半径 Re\n",
    "Re = 6378\n",
    "alt = 800\n",
    "h_for_vf=(Re+alt)/Re\n",
    "view_factor_plate_sphere(h_for_vf, np.pi/2)"
   ]
  },
  {
   "cell_type": "code",
   "execution_count": 80,
   "metadata": {},
   "outputs": [],
   "source": [
    "# 吸収率と放射率\n",
    "alpha_s_osr = 0.077\n",
    "eps_osr = 0.79\n",
    "alpha_s_sap = 0.9\n",
    "eps_sap = 0.8\n",
    "alpha_s_alm = 0.5\n",
    "eps_alm = 0.5"
   ]
  },
  {
   "cell_type": "code",
   "execution_count": 81,
   "metadata": {},
   "outputs": [],
   "source": [
    "# SAPの効率\n",
    "efficiency_sap = 0.3"
   ]
  },
  {
   "cell_type": "code",
   "execution_count": 82,
   "metadata": {},
   "outputs": [
    {
     "name": "stdout",
     "output_type": "stream",
     "text": [
      "0.39599999999999996\n"
     ]
    }
   ],
   "source": [
    "# 放熱面面積の割合\n",
    "radiator_rate = 0.6\n",
    "A_all = PX_Panel.area+MX_Panel.area+PY_Panel.area+MY_Panel.area+PZ_Panel.area+MZ_Panel.area\n",
    "A_rad = radiator_rate*A_all\n",
    "print(A_rad)"
   ]
  },
  {
   "cell_type": "code",
   "execution_count": 83,
   "metadata": {},
   "outputs": [],
   "source": [
    "# パネルと太陽、地球との角度を計算\n",
    "PX_Panel.angle_of_sun = angle_of_vector(PX_Panel.n_vec, sun_vec_from_b)\n",
    "MX_Panel.angle_of_sun = angle_of_vector(MX_Panel.n_vec, sun_vec_from_b)\n",
    "PY_Panel.angle_of_sun = angle_of_vector(PX_Panel.n_vec, sun_vec_from_b)\n",
    "MY_Panel.angle_of_sun = angle_of_vector(MY_Panel.n_vec, sun_vec_from_b)\n",
    "PZ_Panel.angle_of_sun = angle_of_vector(PZ_Panel.n_vec, sun_vec_from_b)\n",
    "MZ_Panel.angle_of_sun = angle_of_vector(MZ_Panel.n_vec, sun_vec_from_b)\n",
    "\n",
    "PX_Panel.angle_of_earth = angle_of_vector(PX_Panel.n_vec, earth_vec_from_b)\n",
    "MX_Panel.angle_of_earth = angle_of_vector(MX_Panel.n_vec, earth_vec_from_b)\n",
    "PY_Panel.angle_of_earth = angle_of_vector(PX_Panel.n_vec, earth_vec_from_b)\n",
    "MY_Panel.angle_of_earth = angle_of_vector(MY_Panel.n_vec, earth_vec_from_b)\n",
    "PZ_Panel.angle_of_earth = angle_of_vector(PZ_Panel.n_vec, earth_vec_from_b)\n",
    "MZ_Panel.angle_of_earth = angle_of_vector(MZ_Panel.n_vec, earth_vec_from_b)"
   ]
  },
  {
   "cell_type": "code",
   "execution_count": 84,
   "metadata": {},
   "outputs": [],
   "source": [
    "# 変更前\n",
    "# 衛星の入熱（太陽からの入熱）: SAP+ALM+OSR\n",
    "PX_Panel.Q=alpha_s_sap*PX_Panel.area*max(0,np.cos(PX_Panel.angle_of_sun))*E_s*(1-efficiency_sap)\n",
    "MX_Panel.Q=alpha_s_sap*MX_Panel.area*max(0,np.cos(MX_Panel.angle_of_sun))*E_s*(1-efficiency_sap)\n",
    "PY_Panel.Q=alpha_s_sap*PY_Panel.area*max(0,np.cos(PY_Panel.angle_of_sun))*E_s*(1-efficiency_sap)\n",
    "MY_Panel.Q=alpha_s_sap*MY_Panel.area*max(0,np.cos(MY_Panel.angle_of_sun))*E_s*(1-efficiency_sap)\n",
    "PZ_Panel.Q=alpha_s_sap*PZ_Panel.area*max(0,np.cos(PZ_Panel.angle_of_sun))*E_s*(1-efficiency_sap)\n",
    "MZ_Panel.Q=alpha_s_sap*MZ_Panel.area*max(0,np.cos(MZ_Panel.angle_of_sun))*E_s*(1-efficiency_sap)\n",
    "\n",
    "# 衛星の入熱（地球からの赤外入熱）\n",
    "PX_Panel.Q+=alpha_s_sap*PX_Panel.area*max(0,np.cos(PX_Panel.angle_of_earth))*E_e*view_factor_plate_sphere(h_for_vf, PX_Panel.angle_of_earth)\n",
    "MX_Panel.Q+=alpha_s_sap*MX_Panel.area*max(0,np.cos(MX_Panel.angle_of_earth))*E_e*view_factor_plate_sphere(h_for_vf, MX_Panel.angle_of_earth)\n",
    "PY_Panel.Q+=alpha_s_sap*PY_Panel.area*max(0,np.cos(PY_Panel.angle_of_earth))*E_e*view_factor_plate_sphere(h_for_vf, PY_Panel.angle_of_earth)\n",
    "MY_Panel.Q+=alpha_s_sap*MY_Panel.area*max(0,np.cos(MY_Panel.angle_of_earth))*E_e*view_factor_plate_sphere(h_for_vf, MY_Panel.angle_of_earth)\n",
    "PZ_Panel.Q+=alpha_s_sap*PZ_Panel.area*max(0,np.cos(PZ_Panel.angle_of_earth))*E_e*view_factor_plate_sphere(h_for_vf, PZ_Panel.angle_of_earth)\n",
    "MZ_Panel.Q+=alpha_s_sap*MZ_Panel.area*max(0,np.cos(MZ_Panel.angle_of_earth))*E_e*view_factor_plate_sphere(h_for_vf, MZ_Panel.angle_of_earth)\n",
    "\n",
    "# 衛星の入熱（地球からのアルベド）\n",
    "PX_Panel.Q+=alpha_s_sap*PX_Panel.area*max(0,np.cos(PX_Panel.angle_of_earth))*alb_co*E_s*np.cos(sat_earth_sun_angle)*view_factor_plate_sphere(h_for_vf, PX_Panel.angle_of_earth)\n",
    "MX_Panel.Q+=alpha_s_sap*MX_Panel.area*max(0,np.cos(MX_Panel.angle_of_earth))*alb_co*E_s*np.cos(sat_earth_sun_angle)*view_factor_plate_sphere(h_for_vf, MX_Panel.angle_of_earth)\n",
    "PY_Panel.Q+=alpha_s_sap*PY_Panel.area*max(0,np.cos(PY_Panel.angle_of_earth))*alb_co*E_s*np.cos(sat_earth_sun_angle)*view_factor_plate_sphere(h_for_vf, PY_Panel.angle_of_earth)\n",
    "MY_Panel.Q+=alpha_s_sap*MY_Panel.area*max(0,np.cos(MY_Panel.angle_of_earth))*alb_co*E_s*np.cos(sat_earth_sun_angle)*view_factor_plate_sphere(h_for_vf, MY_Panel.angle_of_earth)\n",
    "PZ_Panel.Q+=alpha_s_sap*PZ_Panel.area*max(0,np.cos(PZ_Panel.angle_of_earth))*alb_co*E_s*np.cos(sat_earth_sun_angle)*view_factor_plate_sphere(h_for_vf, PZ_Panel.angle_of_earth)\n",
    "MZ_Panel.Q+=alpha_s_sap*MZ_Panel.area*max(0,np.cos(MZ_Panel.angle_of_earth))*alb_co*E_s*np.cos(sat_earth_sun_angle)*view_factor_plate_sphere(h_for_vf, MZ_Panel.angle_of_earth)"
   ]
  },
  {
   "cell_type": "code",
   "execution_count": 85,
   "metadata": {},
   "outputs": [
    {
     "data": {
      "text/plain": [
       "175.85450010636714"
      ]
     },
     "execution_count": 85,
     "metadata": {},
     "output_type": "execute_result"
    }
   ],
   "source": [
    "Q_in = PX_Panel.Q + MX_Panel.Q + PY_Panel.Q + MY_Panel.Q + PZ_Panel.Q + MZ_Panel.Q\n",
    "Q_in"
   ]
  },
  {
   "cell_type": "code",
   "execution_count": 86,
   "metadata": {},
   "outputs": [],
   "source": [
    "# 変更後\n",
    "# 衛星の入熱（太陽からの入熱）: SAP+ALM+OSR\n",
    "PX_Panel.Q=alpha_s_sap*PX_Panel.area*max(0,np.cos(PX_Panel.angle_of_sun))*E_s*(1-efficiency_sap)*PX_Panel.sap_area_ratio + alpha_s_alm*PX_Panel.area*max(0,np.cos(PX_Panel.angle_of_sun))*E_s*PX_Panel.alm_area_ratio + alpha_s_osr*PX_Panel.area*max(0,np.cos(PX_Panel.angle_of_sun))*E_s*PX_Panel.osr_area_ratio\n",
    "MX_Panel.Q=alpha_s_sap*MX_Panel.area*max(0,np.cos(MX_Panel.angle_of_sun))*E_s*(1-efficiency_sap)*PX_Panel.sap_area_ratio + alpha_s_alm*MX_Panel.area*max(0,np.cos(MX_Panel.angle_of_sun))*E_s*MX_Panel.alm_area_ratio + alpha_s_osr*MX_Panel.area*max(0,np.cos(MX_Panel.angle_of_sun))*E_s*MX_Panel.osr_area_ratio\n",
    "PY_Panel.Q=alpha_s_sap*PY_Panel.area*max(0,np.cos(PY_Panel.angle_of_sun))*E_s*(1-efficiency_sap)*PY_Panel.sap_area_ratio + alpha_s_alm*PY_Panel.area*max(0,np.cos(PY_Panel.angle_of_sun))*E_s*PY_Panel.alm_area_ratio + alpha_s_osr*PY_Panel.area*max(0,np.cos(PY_Panel.angle_of_sun))*E_s*PY_Panel.osr_area_ratio\n",
    "MY_Panel.Q=alpha_s_sap*MY_Panel.area*max(0,np.cos(MY_Panel.angle_of_sun))*E_s*(1-efficiency_sap)*MY_Panel.sap_area_ratio + alpha_s_alm*MY_Panel.area*max(0,np.cos(MY_Panel.angle_of_sun))*E_s*MY_Panel.alm_area_ratio + alpha_s_osr*MY_Panel.area*max(0,np.cos(MY_Panel.angle_of_sun))*E_s*MY_Panel.osr_area_ratio\n",
    "PZ_Panel.Q=alpha_s_sap*PZ_Panel.area*max(0,np.cos(PZ_Panel.angle_of_sun))*E_s*(1-efficiency_sap)*PZ_Panel.sap_area_ratio + alpha_s_alm*PZ_Panel.area*max(0,np.cos(PZ_Panel.angle_of_sun))*E_s*PZ_Panel.alm_area_ratio + alpha_s_osr*PZ_Panel.area*max(0,np.cos(PZ_Panel.angle_of_sun))*E_s*PZ_Panel.osr_area_ratio\n",
    "MZ_Panel.Q=alpha_s_sap*MZ_Panel.area*max(0,np.cos(MZ_Panel.angle_of_sun))*E_s*(1-efficiency_sap)*MZ_Panel.sap_area_ratio + alpha_s_alm*MZ_Panel.area*max(0,np.cos(MZ_Panel.angle_of_sun))*E_s*MZ_Panel.alm_area_ratio + alpha_s_osr*MZ_Panel.area*max(0,np.cos(MZ_Panel.angle_of_sun))*E_s*MZ_Panel.osr_area_ratio\n",
    "\n",
    "# 衛星の入熱（地球からの赤外入熱）\n",
    "PX_Panel.Q+=alpha_s_sap*PX_Panel.area*max(0,np.cos(PX_Panel.angle_of_earth))*E_e*view_factor_plate_sphere(h_for_vf, PX_Panel.angle_of_earth)*PX_Panel.sap_area_ratio + alpha_s_alm*PX_Panel.area*max(0,np.cos(PX_Panel.angle_of_earth))*E_e*view_factor_plate_sphere(h_for_vf, PX_Panel.angle_of_earth)*PX_Panel.alm_area_ratio + alpha_s_osr*PX_Panel.area*max(0,np.cos(PX_Panel.angle_of_earth))*E_e*view_factor_plate_sphere(h_for_vf, PX_Panel.angle_of_earth)*PX_Panel.osr_area_ratio\n",
    "MX_Panel.Q+=alpha_s_sap*MX_Panel.area*max(0,np.cos(MX_Panel.angle_of_earth))*E_e*view_factor_plate_sphere(h_for_vf, MX_Panel.angle_of_earth)*MX_Panel.sap_area_ratio + alpha_s_alm*MX_Panel.area*max(0,np.cos(MX_Panel.angle_of_earth))*E_e*view_factor_plate_sphere(h_for_vf, MX_Panel.angle_of_earth)*MX_Panel.alm_area_ratio + alpha_s_osr*MX_Panel.area*max(0,np.cos(MX_Panel.angle_of_earth))*E_e*view_factor_plate_sphere(h_for_vf, MX_Panel.angle_of_earth)*MX_Panel.osr_area_ratio\n",
    "PY_Panel.Q+=alpha_s_sap*PY_Panel.area*max(0,np.cos(PY_Panel.angle_of_earth))*E_e*view_factor_plate_sphere(h_for_vf, PY_Panel.angle_of_earth)*PY_Panel.sap_area_ratio + alpha_s_alm*PY_Panel.area*max(0,np.cos(PY_Panel.angle_of_earth))*E_e*view_factor_plate_sphere(h_for_vf, PY_Panel.angle_of_earth)*PY_Panel.alm_area_ratio + alpha_s_osr*PY_Panel.area*max(0,np.cos(PY_Panel.angle_of_earth))*E_e*view_factor_plate_sphere(h_for_vf, PY_Panel.angle_of_earth)*PY_Panel.osr_area_ratio\n",
    "MY_Panel.Q+=alpha_s_sap*MY_Panel.area*max(0,np.cos(MY_Panel.angle_of_earth))*E_e*view_factor_plate_sphere(h_for_vf, MY_Panel.angle_of_earth)*MY_Panel.sap_area_ratio + alpha_s_alm*MY_Panel.area*max(0,np.cos(MY_Panel.angle_of_earth))*E_e*view_factor_plate_sphere(h_for_vf, MY_Panel.angle_of_earth)*MY_Panel.alm_area_ratio + alpha_s_osr*MY_Panel.area*max(0,np.cos(MY_Panel.angle_of_earth))*E_e*view_factor_plate_sphere(h_for_vf, MY_Panel.angle_of_earth)*MY_Panel.osr_area_ratio\n",
    "PZ_Panel.Q+=alpha_s_sap*PZ_Panel.area*max(0,np.cos(PZ_Panel.angle_of_earth))*E_e*view_factor_plate_sphere(h_for_vf, PZ_Panel.angle_of_earth)*PZ_Panel.sap_area_ratio + alpha_s_alm*PZ_Panel.area*max(0,np.cos(PZ_Panel.angle_of_earth))*E_e*view_factor_plate_sphere(h_for_vf, PZ_Panel.angle_of_earth)*PZ_Panel.alm_area_ratio + alpha_s_osr*PZ_Panel.area*max(0,np.cos(PZ_Panel.angle_of_earth))*E_e*view_factor_plate_sphere(h_for_vf, PZ_Panel.angle_of_earth)*PZ_Panel.osr_area_ratio\n",
    "MZ_Panel.Q+=alpha_s_sap*MZ_Panel.area*max(0,np.cos(MZ_Panel.angle_of_earth))*E_e*view_factor_plate_sphere(h_for_vf, MZ_Panel.angle_of_earth)*MZ_Panel.sap_area_ratio + alpha_s_alm*MZ_Panel.area*max(0,np.cos(MZ_Panel.angle_of_earth))*E_e*view_factor_plate_sphere(h_for_vf, MZ_Panel.angle_of_earth)*MZ_Panel.alm_area_ratio + alpha_s_osr*MZ_Panel.area*max(0,np.cos(MZ_Panel.angle_of_earth))*E_e*view_factor_plate_sphere(h_for_vf, MZ_Panel.angle_of_earth)*MZ_Panel.osr_area_ratio\n",
    "\n",
    "# 衛星の入熱（地球からのアルベド）\n",
    "PX_Panel.Q+=alpha_s_sap*PX_Panel.area*max(0,np.cos(PX_Panel.angle_of_earth))*alb_co*E_s*np.cos(sat_earth_sun_angle)*view_factor_plate_sphere(h_for_vf, PX_Panel.angle_of_earth)*PX_Panel.sap_area_ratio + alpha_s_alm*PX_Panel.area*max(0,np.cos(PX_Panel.angle_of_earth))*alb_co*E_s*np.cos(sat_earth_sun_angle)*view_factor_plate_sphere(h_for_vf, PX_Panel.angle_of_earth)*PX_Panel.alm_area_ratio + alpha_s_osr*PX_Panel.area*max(0,np.cos(PX_Panel.angle_of_earth))*alb_co*E_s*np.cos(sat_earth_sun_angle)*view_factor_plate_sphere(h_for_vf, PX_Panel.angle_of_earth)*PX_Panel.osr_area_ratio\n",
    "MX_Panel.Q+=alpha_s_sap*MX_Panel.area*max(0,np.cos(MX_Panel.angle_of_earth))*alb_co*E_s*np.cos(sat_earth_sun_angle)*view_factor_plate_sphere(h_for_vf, MX_Panel.angle_of_earth)*MX_Panel.sap_area_ratio + alpha_s_alm*MX_Panel.area*max(0,np.cos(MX_Panel.angle_of_earth))*alb_co*E_s*np.cos(sat_earth_sun_angle)*view_factor_plate_sphere(h_for_vf, MX_Panel.angle_of_earth)*MX_Panel.alm_area_ratio + alpha_s_osr*MX_Panel.area*max(0,np.cos(MX_Panel.angle_of_earth))*alb_co*E_s*np.cos(sat_earth_sun_angle)*view_factor_plate_sphere(h_for_vf, MX_Panel.angle_of_earth)*MX_Panel.osr_area_ratio\n",
    "PY_Panel.Q+=alpha_s_sap*PY_Panel.area*max(0,np.cos(PY_Panel.angle_of_earth))*alb_co*E_s*np.cos(sat_earth_sun_angle)*view_factor_plate_sphere(h_for_vf, PY_Panel.angle_of_earth)*PY_Panel.sap_area_ratio + alpha_s_alm*PY_Panel.area*max(0,np.cos(PY_Panel.angle_of_earth))*alb_co*E_s*np.cos(sat_earth_sun_angle)*view_factor_plate_sphere(h_for_vf, PY_Panel.angle_of_earth)*PY_Panel.alm_area_ratio + alpha_s_osr*PY_Panel.area*max(0,np.cos(PY_Panel.angle_of_earth))*alb_co*E_s*np.cos(sat_earth_sun_angle)*view_factor_plate_sphere(h_for_vf, PY_Panel.angle_of_earth)*PY_Panel.osr_area_ratio\n",
    "MY_Panel.Q+=alpha_s_sap*MY_Panel.area*max(0,np.cos(MY_Panel.angle_of_earth))*alb_co*E_s*np.cos(sat_earth_sun_angle)*view_factor_plate_sphere(h_for_vf, MY_Panel.angle_of_earth)*MY_Panel.sap_area_ratio + alpha_s_alm*MY_Panel.area*max(0,np.cos(MY_Panel.angle_of_earth))*alb_co*E_s*np.cos(sat_earth_sun_angle)*view_factor_plate_sphere(h_for_vf, MY_Panel.angle_of_earth)*MY_Panel.alm_area_ratio + alpha_s_osr*MY_Panel.area*max(0,np.cos(MY_Panel.angle_of_earth))*alb_co*E_s*np.cos(sat_earth_sun_angle)*view_factor_plate_sphere(h_for_vf, MY_Panel.angle_of_earth)*MY_Panel.osr_area_ratio\n",
    "PZ_Panel.Q+=alpha_s_sap*PZ_Panel.area*max(0,np.cos(PZ_Panel.angle_of_earth))*alb_co*E_s*np.cos(sat_earth_sun_angle)*view_factor_plate_sphere(h_for_vf, PZ_Panel.angle_of_earth)*PZ_Panel.sap_area_ratio + alpha_s_alm*PZ_Panel.area*max(0,np.cos(PZ_Panel.angle_of_earth))*alb_co*E_s*np.cos(sat_earth_sun_angle)*view_factor_plate_sphere(h_for_vf, PZ_Panel.angle_of_earth)*PZ_Panel.alm_area_ratio + alpha_s_osr*PZ_Panel.area*max(0,np.cos(PZ_Panel.angle_of_earth))*alb_co*E_s*np.cos(sat_earth_sun_angle)*view_factor_plate_sphere(h_for_vf, PZ_Panel.angle_of_earth)*PZ_Panel.osr_area_ratio\n",
    "MZ_Panel.Q+=alpha_s_sap*MZ_Panel.area*max(0,np.cos(MZ_Panel.angle_of_earth))*alb_co*E_s*np.cos(sat_earth_sun_angle)*view_factor_plate_sphere(h_for_vf, MZ_Panel.angle_of_earth)*MZ_Panel.sap_area_ratio + alpha_s_alm*MZ_Panel.area*max(0,np.cos(MZ_Panel.angle_of_earth))*alb_co*E_s*np.cos(sat_earth_sun_angle)*view_factor_plate_sphere(h_for_vf, MZ_Panel.angle_of_earth)*MZ_Panel.alm_area_ratio + alpha_s_osr*MZ_Panel.area*max(0,np.cos(MZ_Panel.angle_of_earth))*alb_co*E_s*np.cos(sat_earth_sun_angle)*view_factor_plate_sphere(h_for_vf, MZ_Panel.angle_of_earth)*MZ_Panel.osr_area_ratio"
   ]
  },
  {
   "cell_type": "code",
   "execution_count": 87,
   "metadata": {},
   "outputs": [
    {
     "name": "stdout",
     "output_type": "stream",
     "text": [
      "69.34273762404251\n",
      "0.0\n",
      "69.34273762404251\n",
      "0.0\n",
      "4.50358227011163e-15\n",
      "5.601975377345616\n"
     ]
    }
   ],
   "source": [
    "print(PX_Panel.Q)\n",
    "print(MX_Panel.Q)\n",
    "print(PY_Panel.Q)\n",
    "print(MY_Panel.Q)\n",
    "print(PZ_Panel.Q)\n",
    "print(MZ_Panel.Q)"
   ]
  },
  {
   "cell_type": "markdown",
   "metadata": {},
   "source": [
    "## TEC(Thermal Electric Cooler)のモデル化"
   ]
  },
  {
   "cell_type": "markdown",
   "metadata": {},
   "source": [
    "### 参考ホームページ\n",
    "https://fluffyandflakey.blog/2019/08/29/cooling-a-cpu-with-tecs/\n",
    "https://www.qats.com/DataSheet/TEC_Modules (このファイルはこっちの式を採用)\n",
    "https://www.meerstetter.ch/compendium/tec-peltier-element-design-guide (TECのスペック選びに使った)"
   ]
  },
  {
   "cell_type": "markdown",
   "metadata": {},
   "source": [
    "\\begin{align}\n",
    "Q_c &= 2N \\{S_{AB} I T_c - 2N \\frac{k \\rho}{R} (T_h - T_c) \\} - \\frac{1}{2} I^2 R \\\\\n",
    "Q_h &= 2N \\{S_{AB} I T_h - 2N \\frac{k \\rho}{R} (T_h - T_c) \\} + \\frac{1}{2} I^2 R \\\\\n",
    "V &= 2N\\{S_{AB} (T_h - T_c)\\} + IR \\\\\n",
    "COP &= \\frac{Q_c}{VI} = \\frac{2N\\{S_{AB} I T_c - 2N\\frac{k \\rho}{R}(T_h-T_c)\\}-\\frac{1}{2}I^2 R}{VI}\n",
    "\\end{align}"
   ]
  },
  {
   "cell_type": "markdown",
   "metadata": {},
   "source": [
    "\\begin{align}\n",
    "  & N : \\text{The number of couples} && [-] \\\\\n",
    "  & I : \\text{Electric current passing through the Peltier} && [A] \\\\\n",
    "  &V : \\text{The voltage across TEC module} &&[V]\\\\\n",
    "  &Q_c  : \\text{Absorbed power on the Peltier cold side} && [W] \\\\\n",
    "  &Q_h : \\text{Power rejected by the Peltier hot side} &&[W]\\\\\n",
    "  &S_{ab} : \\text{the Seebeck coefficient} &&[V/K]\\\\\n",
    "  &k : \\text{Thermal conductivity of the module} &&[W/m \\cdot K]\\\\\n",
    "  &R : \\text{Electric resistance of the module} &&[\\Omega]\\\\\n",
    "  &\\rho : \\text{Electrical resistivity} &&[\\Omega \\cdot m]\\\\\n",
    "  &T_c : \\text{Cold side temperature} &&[K] \\\\\n",
    "  &T_h : \\text{Hot side temperature} &&[K] \\\\\n",
    "  &\\Delta T = T_h - T_c : \\text{Temperature difference} &&[K]\\\\\n",
    "\\end{align}"
   ]
  },
  {
   "cell_type": "code",
   "execution_count": 107,
   "metadata": {},
   "outputs": [],
   "source": [
    "# ペルチェに関するクラス\n",
    "class Peltier: \n",
    "    def __init__(self, sm=200e-6, km=1.5, rm=3.02, n=127, rho=10e-6):\n",
    "        self.Sm_ab = sm\n",
    "        self.Km = km\n",
    "        self.Rm = rm\n",
    "        self.Nm = n\n",
    "        self.Rho = rho\n",
    "  \n",
    "    def cAlculate_Voltage(self, DT, I):\n",
    "        return 2 * self.Nm * self.Sm_ab * DT + self.Rm * I\n",
    "  \n",
    "    def cAlculate_QC(self, TC, DT, I):\n",
    "        return 2 * self.Nm * (self.Sm_ab*TC*I-2*self.Nm*self.Km*self.Rho/self.Rm*DT) - 0.5*self.Rm*I*I\n",
    "  \n",
    "    def cAlculate_QH(self, TH, DT, I):\n",
    "        return 2 * self.Nm * (self.Sm_ab*TH*I-2*self.Nm*self.Km*self.Rho/self.Rm*DT) + 0.5*self.Rm*I*I\n",
    "    \n",
    "    def cAlculate_COP(self, TC, DT, I):\n",
    "        V = self.cAlculate_Voltage(DT, I)\n",
    "        QC = self.cAlculate_QC(TC, DT, I)\n",
    "        return QC/(V*I)\n",
    "    # Qc = 0 とおいてDTについて解く\n",
    "    def cAlculate_DTmax(self, TH, I):\n",
    "        return (self.Sm_ab * I * TH - I * I * self.Rm / (4.0 * self.Nm))/(self.Sm_ab * I + 2.0 * self.Nm * self.Km * self.Rho / self.Rm)\n",
    "    def cAlculate_I_argmax_COP(self, TC, DT):\n",
    "        I_cop_max = (4.0*self.Rho*self.Km*self.Nm*DT/(self.Sm_ab*self.Rm*(TC+TC+DT))*(1.0+np.sqrt(1+self.Sm_ab**2/2.0/self.Rho/self.Km*(TC+TC+DT))))\n",
    "        return I_cop_max\n",
    "    def cAlculate_I_with_const_power(self, DT, P_tec):\n",
    "        I_const_power = (-self.Nm*self.Sm_ab*DT+np.sqrt((self.Nm*self.Sm_ab*DT)**2+P_tec*self.Rm))/self.Rm\n",
    "        return I_const_power"
   ]
  },
  {
   "cell_type": "code",
   "execution_count": 108,
   "metadata": {},
   "outputs": [],
   "source": [
    "# ペルチェクラスの初期化\n",
    "pel = Peltier()"
   ]
  },
  {
   "cell_type": "markdown",
   "metadata": {},
   "source": [
    "## TECの曲線のグラフ化"
   ]
  },
  {
   "cell_type": "markdown",
   "metadata": {},
   "source": [
    " ### $Q_C$ v.s. $\\Delta T$"
   ]
  },
  {
   "cell_type": "code",
   "execution_count": 90,
   "metadata": {},
   "outputs": [
    {
     "data": {
      "image/png": "[encoded data removed]",
      "text/plain": [
       "<Figure size 432x288 with 1 Axes>"
      ]
     },
     "metadata": {
      "needs_background": "light"
     },
     "output_type": "display_data"
    }
   ],
   "source": [
    "TH_graph = 300\n",
    "I_graph_list = np.linspace(1.0, 4.0, 5)\n",
    "\n",
    "for I_graph in I_graph_list:\n",
    "    DT_max = pel.cAlculate_DTmax(TH_graph, I_graph)\n",
    "    DT_graph = np.linspace(0.0, DT_max, 10)\n",
    "    QC_graph = pel.cAlculate_QC(TH_graph-DT_graph, DT_graph, I_graph)\n",
    "    pyplot.plot(DT_graph, QC_graph, '-o', label = 'I = {0}'.format(I_graph))\n",
    "\n",
    "pyplot.title('Q_c v.s. DT')\n",
    "pyplot.xlabel('DT [K]')\n",
    "pyplot.ylabel('Q_c [W]')\n",
    "pyplot.legend()\n",
    "pyplot.xlim(0,)\n",
    "pyplot.ylim(0,)\n",
    "pyplot.show()"
   ]
  },
  {
   "cell_type": "markdown",
   "metadata": {},
   "source": [
    " ### $V$ v.s. $\\Delta T$"
   ]
  },
  {
   "cell_type": "code",
   "execution_count": 91,
   "metadata": {},
   "outputs": [
    {
     "data": {
      "image/png": "[encoded data removed]",
      "text/plain": [
       "<Figure size 432x288 with 1 Axes>"
      ]
     },
     "metadata": {
      "needs_background": "light"
     },
     "output_type": "display_data"
    }
   ],
   "source": [
    "for I_graph in I_graph_list:\n",
    "    DT_max = pel.cAlculate_DTmax(TH_graph, I_graph)\n",
    "    DT_graph = np.linspace(0.0, DT_max, 10)\n",
    "    V_graph = pel.cAlculate_Voltage(DT_graph, I_graph)\n",
    "    pyplot.plot(DT_graph, V_graph, '-o', label = 'I = {0}'.format(I_graph))\n",
    "\n",
    "pyplot.title('V v.s. DT')\n",
    "pyplot.xlabel('DT [K]')\n",
    "pyplot.ylabel('Voltage [A]')\n",
    "pyplot.legend()\n",
    "pyplot.xlim(0,)\n",
    "pyplot.ylim(0,)\n",
    "pyplot.show()"
   ]
  },
  {
   "cell_type": "markdown",
   "metadata": {},
   "source": [
    "### $COP$ v.s. $I$"
   ]
  },
  {
   "cell_type": "code",
   "execution_count": 92,
   "metadata": {},
   "outputs": [
    {
     "data": {
      "image/png": "[encoded data removed]",
      "text/plain": [
       "<Figure size 432x288 with 1 Axes>"
      ]
     },
     "metadata": {
      "needs_background": "light"
     },
     "output_type": "display_data"
    }
   ],
   "source": [
    "I_max = 4.0\n",
    "DT_COP_list = np.linspace(0, 70, 8)\n",
    "I_COP_graph = np.linspace(1.0e-4, 1, 100) * I_max\n",
    "\n",
    "# DTによってCOPが最大になるIを格納\n",
    "COP_max_value_list = []\n",
    "I_max_by_COP_list = []\n",
    "\n",
    "# COPとIをそれぞれfor文で回してリストを作成\n",
    "for DT_COP_graph in DT_COP_list:\n",
    "    COP_graph = []\n",
    "    for I_COP in I_COP_graph:\n",
    "        COP_graph.append(pel.cAlculate_COP(TH_graph - DT_COP_graph, DT_COP_graph, I_COP))\n",
    "    COP_max_value = max(COP_graph)\n",
    "    I_max_by_COP = I_COP_graph[COP_graph.index(COP_max_value)]\n",
    "    COP_max_value_list.append(COP_max_value)\n",
    "    I_max_by_COP_list.append(I_max_by_COP)\n",
    "    pyplot.plot(I_COP_graph/I_max, COP_graph, '-', label = 'DT = {0}'.format(DT_COP_graph))\n",
    "\n",
    "pyplot.plot(np.array(I_max_by_COP_list)/I_max, COP_max_value_list, 'ok')\n",
    "for I_max_by_COP, COP_max_value in zip(I_max_by_COP_list, COP_max_value_list):\n",
    "    if COP_max_value < 4.0:\n",
    "        pyplot.text(I_max_by_COP/I_max, COP_max_value, 'I={0:.2f} A COP={1:.2f}'.format(I_max_by_COP,COP_max_value))\n",
    "pyplot.title('COP v.s. DT')\n",
    "pyplot.xlabel('I/I_max [-]')\n",
    "pyplot.ylabel('COP [-]')\n",
    "pyplot.legend()\n",
    "pyplot.xlim(0,1.0)\n",
    "pyplot.ylim(0,4)\n",
    "pyplot.show()"
   ]
  },
  {
   "cell_type": "markdown",
   "metadata": {},
   "source": [
    "### $COP$ v.s. $I$ 微分が正しいかどうかの確認"
   ]
  },
  {
   "cell_type": "markdown",
   "metadata": {},
   "source": [
    "\\begin{align}\n",
    "COP &= \\frac{Q_c}{VI} = \\frac{2N\\{S_{AB} I T_c - 2N\\frac{k \\rho}{R}(T_h-T_c)\\}-\\frac{1}{2}I^2 R}{\\{2N\\{S_{AB} (T_h - T_c)\\} + IR\\}I} \\\\\n",
    "&= \\frac{a_2I^2+a_1I+a_0}{b_2I^2+b_1I}\n",
    "\\end{align}"
   ]
  },
  {
   "cell_type": "code",
   "execution_count": 93,
   "metadata": {},
   "outputs": [
    {
     "name": "stdout",
     "output_type": "stream",
     "text": [
      "a2=-1.51\n",
      "a1=14.224000000000002\n",
      "a0=-6.40887417218543\n",
      "b2=3.02\n",
      "b1=1.016\n"
     ]
    }
   ],
   "source": [
    "# DT=20のとき\n",
    "a2 = -0.5*pel.Rm\n",
    "a1 = 2.0*pel.Nm*pel.Sm_ab*(TH_graph-20)\n",
    "a0 = -4*pel.Nm**2*pel.Km*pel.Rho/pel.Rm*20\n",
    "b2 = pel.Rm\n",
    "b1 = 2.0*pel.Sm_ab*pel.Nm*20\n",
    "print(\"a2={0}\\na1={1}\\na0={2}\\nb2={3}\\nb1={4}\".format(a2,a1,a0,b2,b1))"
   ]
  },
  {
   "cell_type": "code",
   "execution_count": 94,
   "metadata": {},
   "outputs": [
    {
     "data": {
      "image/png": "[encoded data removed]",
      "text/plain": [
       "<Figure size 432x288 with 1 Axes>"
      ]
     },
     "metadata": {
      "needs_background": "light"
     },
     "output_type": "display_data"
    }
   ],
   "source": [
    "COP_graph_confirm=(a2*I_COP_graph**2+a1*I_COP_graph+a0)/(b2*I_COP_graph**2+b1*I_COP_graph)\n",
    "pyplot.plot(I_COP_graph/I_max, COP_graph_confirm, '-')\n",
    "pyplot.xlim(0,1.0)\n",
    "pyplot.ylim(0,4)\n",
    "pyplot.show()"
   ]
  },
  {
   "cell_type": "markdown",
   "metadata": {},
   "source": [
    "$COP$が最大になる$I$は以下の式"
   ]
  },
  {
   "cell_type": "markdown",
   "metadata": {},
   "source": [
    "\\begin{align}\n",
    "    I_{@maxCOP}=\\frac{4\\rho k N (T_h-T_c)}{S_{AB} R (T_h-T_c)} \\{ 1+\\sqrt{1+\\frac{{S_{AB}}^2}{2 \\rho k}(T_h+T_c)} \\}\n",
    "\\end{align}"
   ]
  },
  {
   "cell_type": "code",
   "execution_count": 95,
   "metadata": {},
   "outputs": [
    {
     "name": "stdout",
     "output_type": "stream",
     "text": [
      "[0.         0.49964554 1.01434643 1.54488257 2.09208936 2.65686276\n",
      " 3.24016488 3.84303024]\n"
     ]
    }
   ],
   "source": [
    "# I_max_COP = 4.0*pel.Rho*pel.Km*pel.Nm*20/(pel.Sm_ab*pel.Rm*(TH_graph+TH_graph-20))*(1.0+np.sqrt(1+pel.Sm_ab**2/2.0/pel.Rho/pel.Km*(TH_graph+TH_graph-20)))\n",
    "I_max_COP = pel.cAlculate_I_argmax_COP(TH_graph-DT_COP_list, DT_COP_list)\n",
    "print(I_max_COP)"
   ]
  },
  {
   "cell_type": "markdown",
   "metadata": {},
   "source": [
    "# TEC制御"
   ]
  },
  {
   "cell_type": "markdown",
   "metadata": {},
   "source": [
    "\\begin{align}\n",
    "  &C_o = 29.48 : \\text{Capacity of the object} && [J/K] \\\\\n",
    "  &C_{s1} = 3.6 : \\text{Capacity of the cold side of the Peltier} && [J/K] \\\\\n",
    "  &C_{s2} = 3.6 : \\text{Capacity of the cold side of the Peltier} &&[J/K]\\\\\n",
    "  &K_{o,s1} = 1.8 : \\text{Conductivity between the object and the cold side of the Peltier} &&[W/K]\\\\\n",
    "  &R_{s2,a} = 1.53e-10 : \\text{Conductivity of the cold side of the Peltier} &&[W/K^4]\\\\\n",
    "\\end{align}"
   ]
  },
  {
   "cell_type": "code",
   "execution_count": 96,
   "metadata": {},
   "outputs": [],
   "source": [
    "# # 初期状態\n",
    "# T0 = [263, 263, 263, 3]\n",
    "# C = [29.48, 3.6, 3.6, 1e+10]\n",
    "# Qg = [1, 0, 0, 0]\n",
    "# I = 0\n",
    "# 消費電力\n",
    "P_gen = 50\n",
    "\n",
    "# TECに供給する電力\n",
    "P_tec_ratio = 0.08\n",
    "P_tec = P_tec_ratio * P_gen\n",
    "# COPはとりあえず2くらい\n",
    "COP_tec = 2\n",
    "# QcはCOP*供給電力\n",
    "Qc_tec = P_tec * COP_tec\n",
    "# ステファンボルツマン定数\n",
    "sigma = 5.669E-8\n",
    "\n",
    "T0 = [273, 273, 273, 273, 273, 273, 273]\n",
    "T_obj_list = np.linspace(200, 270, 100)\n",
    "P_gen_list = np.linspace(10, 50, 100)\n",
    "# C=[1000, 1000, 1000, 1000, 1000, 1000, 1000]\n",
    "C =  [18.3, 15.0, 15.0, 976.8, 29191.7, 2043.4, 2043.4]\n",
    "Qg = [1.0, 0, 0, 0, 0, 0, 0]"
   ]
  },
  {
   "cell_type": "code",
   "execution_count": 97,
   "metadata": {},
   "outputs": [],
   "source": [
    "# 制御パラメータ\n",
    "# Kp = 0.0001\n",
    "# Kd = 0.0001"
   ]
  },
  {
   "cell_type": "code",
   "execution_count": 98,
   "metadata": {},
   "outputs": [],
   "source": [
    "# 目標値\n",
    "# T_obj_d = 213"
   ]
  },
  {
   "cell_type": "code",
   "execution_count": 103,
   "metadata": {},
   "outputs": [],
   "source": [
    "# 熱伝導方程式\n",
    "def dT_dt(T, Cond_N, C, Qg):\n",
    "    dTdt=[]\n",
    "    for T_i, Cond_N_i, C_i, Qg_i in zip(T, Cond_N, C, Qg):\n",
    "        Q_cond_i = 0\n",
    "        for Cond_N_ij, T_j in zip(Cond_N_i,T):\n",
    "            Q_cond_i += Cond_N_ij.K_ij*(T_i - T_j) + Cond_N_ij.R_ij*(T_i**4 - T_j**4)\n",
    "        dTdt.append((Qg_i - Q_cond_i)/C_i)\n",
    "    return dTdt"
   ]
  },
  {
   "cell_type": "code",
   "execution_count": 108,
   "metadata": {},
   "outputs": [],
   "source": [
    "# dT_dt(T0, Cond_N, C, Qg)"
   ]
  },
  {
   "cell_type": "code",
   "execution_count": 109,
   "metadata": {},
   "outputs": [],
   "source": [
    "# def system(t, x):\n",
    "#     global I\n",
    "#     dI = - Kp * (T_obj_d - x[1]) - Kd * dT_dt(x, Cond_N, C, Qg)[1]\n",
    "#     I = I + dI\n",
    "#     if I>0:\n",
    "#         I = min(I_max, I)\n",
    "#     else:\n",
    "#         I = 0\n",
    "#     Qg[1] = pel.cAlculate_QC(x[1], x[2]-x[1], I)\n",
    "#     Qg[2] = pel.cAlculate_QH(x[2], x[2]-x[1], I)\n",
    "    \n",
    "#     y = dT_dt(x, Cond_N, C, Qg)\n",
    "#     return y"
   ]
  },
  {
   "cell_type": "code",
   "execution_count": 110,
   "metadata": {},
   "outputs": [],
   "source": [
    "# def simulation(x0, end, step):\n",
    "#     T_obj = []\n",
    "#     t = []\n",
    "#     I_rec = []\n",
    "#     ode =  scp.ode(system)\n",
    "#     ode.set_integrator('dopri5', method='bdf', atol=1.0e-2)\n",
    "#     ode.set_initial_value(x0, 0)\n",
    "#     t.append(0)\n",
    "#     T_obj.append(x0[0])\n",
    "#     I_rec.append(0)\n",
    "#     while ode.successful() and ode.t < end - step:\n",
    "#         ode.integrate(ode.t + step)\n",
    "#         t.append(ode.t)\n",
    "#         T_obj.append(ode.y[1])\n",
    "#         I_rec.append(I)\n",
    "#     return T_obj, I_rec, t"
   ]
  },
  {
   "cell_type": "code",
   "execution_count": 111,
   "metadata": {},
   "outputs": [],
   "source": [
    "# def Q_generated(T):\n",
    "#     Gg="
   ]
  },
  {
   "cell_type": "code",
   "execution_count": null,
   "metadata": {},
   "outputs": [],
   "source": []
  },
  {
   "cell_type": "code",
   "execution_count": 112,
   "metadata": {},
   "outputs": [],
   "source": [
    "def system(t, x):\n",
    "    Qg[1]= -Qc_tec\n",
    "    Qg[2]= P_tec+Qc_tec\n",
    "    Qg[4]= P_gen\n",
    "    Qg[5]= -eps_osr*1.0*sigma*A_rad*(x[5]**4 - 4**4)\n",
    "    Qg[6]= Q_in - eps_sap*1.0*sigma*(A_all-A_rad)*(x[6]**4 - 4**4)\n",
    "    \n",
    "    y = dT_dt(x, Cond_N, C, Qg)\n",
    "    return y"
   ]
  },
  {
   "cell_type": "code",
   "execution_count": 124,
   "metadata": {},
   "outputs": [],
   "source": [
    "# TEC制御なしバージョン\n",
    "def simulation(x0, end, step):\n",
    "    T_obj = []\n",
    "    T_tec_c = []\n",
    "    T_tec_h = []\n",
    "    T_ins = []\n",
    "    T_pgen = []\n",
    "    T_out = []\n",
    "    T_in = []\n",
    "    t = []\n",
    "    ode =  scp.ode(system)\n",
    "    ode.set_integrator('dopri5', method='bdf', atol=1.0e-2)\n",
    "    # 最小値は0(絶対零度)にクリッピングさせる\n",
    "    x0=np.clip(x0, 0.0, None)\n",
    "    ode.set_initial_value(x0, 0)\n",
    "    t.append(0)\n",
    "    T_obj.append(x0[0])\n",
    "    T_tec_c.append(x0[1])\n",
    "    T_tec_h.append(x0[2])\n",
    "    T_ins.append(x0[3])\n",
    "    T_pgen.append(x0[4])\n",
    "    T_out.append(x0[5])\n",
    "    T_in.append(x0[6])\n",
    "    while ode.successful() and ode.t < end - step:\n",
    "        # 最小値をゼロにクリッピングさせる\n",
    "        ode.y[0:6]=np.clip(ode.y[0:6], 0.0, None)\n",
    "        ode.integrate(ode.t + step)\n",
    "        t.append(ode.t)\n",
    "        T_obj.append(ode.y[0])\n",
    "        T_tec_c.append(ode.y[1])\n",
    "        T_tec_h.append(ode.y[2])\n",
    "        T_ins.append(ode.y[3])\n",
    "        T_pgen.append(ode.y[4])\n",
    "        T_out.append(ode.y[5])\n",
    "        T_in.append(ode.y[6])\n",
    "    return T_obj, T_tec_c, T_tec_h, T_ins, T_pgen, T_out, T_in, t"
   ]
  },
  {
   "cell_type": "markdown",
   "metadata": {},
   "source": [
    "### シミュレーション開始"
   ]
  },
  {
   "cell_type": "code",
   "execution_count": 125,
   "metadata": {},
   "outputs": [
    {
     "data": {
      "image/png": "[encoded data removed]",
      "text/plain": [
       "<Figure size 432x288 with 1 Axes>"
      ]
     },
     "metadata": {
      "needs_background": "light"
     },
     "output_type": "display_data"
    }
   ],
   "source": [
    "I = 0\n",
    "end = 10000\n",
    "step = 1\n",
    "\n",
    "T_obj, T_tec_c, T_tec_h, T_ins, T_pgen, T_out, T_in, t = simulation(T0, end, step)\n",
    "\n",
    "# \n",
    "pyplot.title('Tobj record')\n",
    "pyplot.xlabel('t [s]')\n",
    "pyplot.ylabel('T [K]')\n",
    "pyplot.plot(t, T_obj,'-', label = \"T_obj\")\n",
    "pyplot.plot(t, T_tec_c,'-', label = \"T_tec_c\")\n",
    "pyplot.plot(t, T_tec_h,'-', label = \"T_tec_h\")\n",
    "pyplot.plot(t, T_ins,'-', label = \"T_ins\")\n",
    "pyplot.plot(t, T_pgen,'-', label = \"T_pgen\")\n",
    "pyplot.plot(t, T_out,'-', label = \"T_out\")\n",
    "pyplot.plot(t, T_in,'-', label = \"T_in\")\n",
    "pyplot.legend()\n",
    "pyplot.show()\n",
    "\n",
    "# pyplot.title('I record')\n",
    "# pyplot.xlabel('t [s]')\n",
    "# pyplot.ylabel('I [A]')\n",
    "# pyplot.plot(t, I_record,'-')\n",
    "# pyplot.show()"
   ]
  },
  {
   "cell_type": "code",
   "execution_count": 126,
   "metadata": {},
   "outputs": [
    {
     "data": {
      "text/plain": [
       "-0.18041015788480919"
      ]
     },
     "execution_count": 126,
     "metadata": {},
     "output_type": "execute_result"
    }
   ],
   "source": [
    "T_tec_c[-1]"
   ]
  },
  {
   "cell_type": "code",
   "execution_count": 296,
   "metadata": {},
   "outputs": [],
   "source": [
    "# 定常状態を非線形連立方程式で解く\n",
    "# def func(x):\n",
    "#     y = []\n",
    "#     y.append(200 + 50*(x[0]-x[1])+100*(x[0]**4-x[1]**4))\n",
    "#     y.append(100 + 10*(x[1]-x[1])+50*(x[1]**4-x[0]**4))\n",
    "#     return y"
   ]
  },
  {
   "cell_type": "code",
   "execution_count": 297,
   "metadata": {},
   "outputs": [],
   "source": [
    "# def func(x):\n",
    "#     return [200 + 50*(x[0]-x[1])+100*(x[0]**4-x[1]**4),\n",
    "#             100 + 10*(x[1]-x[1])+50*(x[1]**4-x[0]**4)]"
   ]
  },
  {
   "cell_type": "code",
   "execution_count": 298,
   "metadata": {},
   "outputs": [],
   "source": [
    "# result = optimize.root(func, [0.0, 0.0], method=\"broyden1\")\n",
    "# print(result)"
   ]
  },
  {
   "cell_type": "code",
   "execution_count": 127,
   "metadata": {},
   "outputs": [],
   "source": [
    "# 定常状態を非線形連立方程式で解く（dT/dtを利用した場合）\n",
    "# TECを動かす前\n",
    "def func1(x):\n",
    "#     Qg[1]= -Qc_tec\n",
    "#     Qg[2]= P_tec+Qc_tec\n",
    "#     Qg[1] = (4.0*pel.Rho*pel.Km*pel.Nm*(x[2]-x[1])/(pel.Sm_ab*pel.Rm*(x[1]+x[2]))*(1.0+np.sqrt(1+pel.Sm_ab**2/2.0/pel.Rho/pel.Km*(x[1]+x[2]))))\n",
    "#     I_cpmax = pel.cAlculate_I_argmax_COP(x[1], x[2]-x[1])\n",
    "#     Qg[1]= - pel.cAlculate_QC(x[1], x[2]-x[1], I_cpmax)\n",
    "#     Qg[2]= pel.cAlculate_QH(x[1], x[2]-x[1], I_cpmax)\n",
    "    Qg[4]= P_gen\n",
    "    Qg[5]= -eps_osr*1.0*sigma*A_rad*(x[5]**4 - 4**4)\n",
    "    Qg[6]= Q_in - eps_sap*1.0*sigma*(A_all-A_rad)*(x[6]**4 - 4**4)\n",
    "    y = dT_dt(x, Cond_N, C, Qg)\n",
    "    return y"
   ]
  },
  {
   "cell_type": "code",
   "execution_count": 128,
   "metadata": {},
   "outputs": [
    {
     "name": "stdout",
     "output_type": "stream",
     "text": [
      "[273, 273, 273, 273, 273, 273, 273]\n",
      "     fun: array([ 1.22550313e-07, -1.49013195e-07,  7.75932914e-07,  2.12425740e-08,\n",
      "        6.79537545e-09,  1.17674113e-08,  4.64416668e-09])\n",
      " message: 'A solution was found at the specified tolerance.'\n",
      "     nit: 72\n",
      "  status: 1\n",
      " success: True\n",
      "       x: array([-1052.03327126, -1052.06616572,   154.08571176,    -2.94697248,\n",
      "         336.90546172,   153.24334666,   317.72640471])\n"
     ]
    }
   ],
   "source": [
    "# 非線形連立方程式を解く（引数は初期値を入れる）\n",
    "# TECを動かす前\n",
    "print(T0)\n",
    "result = optimize.root(func1, T0, method=\"broyden1\")\n",
    "T1 = result.x\n",
    "print(result)"
   ]
  },
  {
   "cell_type": "code",
   "execution_count": 52,
   "metadata": {},
   "outputs": [
    {
     "data": {
      "text/plain": [
       "72"
      ]
     },
     "execution_count": 52,
     "metadata": {},
     "output_type": "execute_result"
    }
   ],
   "source": [
    "# 非線形連立方程式のほかのステータスを見る\n",
    "result.nit"
   ]
  },
  {
   "cell_type": "code",
   "execution_count": 54,
   "metadata": {},
   "outputs": [],
   "source": [
    "# TECを動かす時にはTECの高熱・低熱ノード間のコンダクタンスを0にする\n",
    "Cond_N[1][2].K_ij=0.0\n",
    "Cond_N[2][1].K_ij=0.0\n",
    "pel.Nm = 500"
   ]
  },
  {
   "cell_type": "code",
   "execution_count": 230,
   "metadata": {},
   "outputs": [],
   "source": [
    "# 定常状態を非線形連立方程式で解く（dT/dtを利用した場合）\n",
    "# TECを動かす後\n",
    "def func2(x):\n",
    "#     Qg[1]= -Qc_tec\n",
    "#     Qg[2]= P_tec+Qc_tec\n",
    "    # 温度をクリッピングさせる\n",
    "    x = np.clip(x, 1.0e-2, None)\n",
    "    I_cpmax = min(I_max, (4.0*pel.Rho*pel.Km*pel.Nm*(x[2]-x[1])/(pel.Sm_ab*pel.Rm*(x[1]+x[2]))*(1.0+np.sqrt(1+pel.Sm_ab**2/2.0/pel.Rho/pel.Km*(x[1]+x[2])))))\n",
    "    Qg[1]= - (2 * pel.Nm * (pel.Sm_ab*x[1]*I_cpmax-2*pel.Nm*pel.Km*pel.Rho/pel.Rm*(x[2]-x[1])) - 0.5*pel.Rm*I_cpmax**2)\n",
    "    Qg[2]=  2 * pel.Nm * (pel.Sm_ab*x[2]*I_cpmax-2*pel.Nm*pel.Km*pel.Rho/pel.Rm*(x[2]-x[1])) + 0.5*pel.Rm*I_cpmax**2\n",
    "#     Qg[1]= - pel.cAlculate_QC(x[1], x[2]-x[1], I_cpmax)\n",
    "#     Qg[2]= pel.cAlculate_QH(x[1], x[2]-x[1], I_cpmax)\n",
    "    Qg[4]= P_gen\n",
    "    Qg[5]= -eps_osr*1.0*sigma*A_rad*(x[5]**4 - 4**4)\n",
    "    Qg[6]= Q_in - eps_sap*1.0*sigma*(A_all-A_rad)*(x[6]**4 - 4**4)\n",
    "    y = dT_dt(np.clip(x, 1.0e-2, None), Cond_N, C, Qg)\n",
    "    return y"
   ]
  },
  {
   "cell_type": "code",
   "execution_count": 127,
   "metadata": {},
   "outputs": [],
   "source": [
    "# 定常状態を非線形連立方程式で解く（dT/dtを利用した場合）\n",
    "# TECを動かす後\n",
    "# TEC電力が一定の場合\n",
    "def func_const_power_tec(x):\n",
    "    # 温度をクリッピングさせる\n",
    "    x = np.clip(x, 1.0e-2, None)\n",
    "    I_pconst = (-pel.Nm*pel.Sm_ab*(x[2]-x[1])+np.sqrt((pel.Nm*pel.Sm_ab*(x[2]-x[1]))**2+P_tec*pel.Rm))/pel.Rm\n",
    "    Qg[1]= - (2 * pel.Nm * (pel.Sm_ab*x[1]*I_pconst-2*pel.Nm*pel.Km*pel.Rho/pel.Rm*(x[2]-x[1])) - 0.5*pel.Rm*I_pconst**2)\n",
    "    Qg[2]=  2 * pel.Nm * (pel.Sm_ab*x[2]*I_pconst-2*pel.Nm*pel.Km*pel.Rho/pel.Rm*(x[2]-x[1])) + 0.5*pel.Rm*I_pconst**2\n",
    "#     Qg[4]= P_gen\n",
    "    Qg[5]= -eps_osr*1.0*sigma*A_rad*(x[5]**4 - 4**4)\n",
    "    Qg[6]= Q_in - eps_sap*1.0*sigma*(A_all-A_rad)*(x[6]**4 - 4**4)\n",
    "    y = dT_dt(np.clip(x, 1.0e-2, None), Cond_N, C, Qg)\n",
    "    return y"
   ]
  },
  {
   "cell_type": "code",
   "execution_count": 104,
   "metadata": {},
   "outputs": [
    {
     "name": "stdout",
     "output_type": "stream",
     "text": [
      "[278.56717457 299.79863763 161.61843092 234.04565887 321.16653267\n",
      " 133.06392002 258.5421811 ]\n",
      "     fun: array([ 8.35545399e-06,  2.89103855e-06,  1.98193868e-05,  1.36468561e-04,\n",
      "        3.60072233e-04,  1.36550603e-05, -6.45324876e-05])\n",
      " message: 'The maximum number of iterations allowed has been reached.'\n",
      "     nit: 800\n",
      "  status: 2\n",
      " success: False\n",
      "       x: array([209.94833896, 209.94002977, 234.01533566, 257.68617948,\n",
      "       359.11119573, 233.50212522, 343.96394626])\n"
     ]
    }
   ],
   "source": [
    "# 非線形連立方程式を解く（引数は初期値を入れる）\n",
    "T_max = 350\n",
    "T_min = 100\n",
    "T_random = (T_max - T_min)*np.random.rand(N_node)+T_min\n",
    "print(T_random)\n",
    "# TECを動かす後\n",
    "result = optimize.root(func_const_power_tec, T_random, method=\"broyden1\")\n",
    "T2 = result.x\n",
    "print(result)"
   ]
  },
  {
   "cell_type": "code",
   "execution_count": 114,
   "metadata": {},
   "outputs": [
    {
     "name": "stdout",
     "output_type": "stream",
     "text": [
      "[211.38457026 211.37605382 235.56476398 277.30613323 367.66815504\n",
      " 235.04874782 348.51887453]\n",
      "4.5893780349708185e-06\n",
      "[211.38457026 211.37605382 235.56476398 277.30613323 367.66815504\n",
      " 235.04874782 348.51887453]\n",
      "4.5893780349708185e-06\n"
     ]
    }
   ],
   "source": [
    "# 非線形連立方程式の初期解をfor文で探すパターン\n",
    "N_rand = 50\n",
    "T_max = 350\n",
    "T_min = 100\n",
    "T_rand_arr = (T_max - T_min)*np.random.rand(N_rand, N_node)+T_min\n",
    "# print(T_rand_arr[0])\n",
    "# ノルムで最小値をセットする（ありえないくらい大きな値でセット）\n",
    "min_norm=100\n",
    "# まずは候補となりそうな初期解をざっくり見つける\n",
    "for T_rand_arr_i in T_rand_arr:\n",
    "    result = optimize.root(func_const_power_tec, T_rand_arr_i, method=\"broyden1\")\n",
    "    T_rand_result = result.x\n",
    "    norm = np.linalg.norm(func_const_power_tec(T_rand_result), ord=2)\n",
    "#     print('Error: {}'.format(norm))\n",
    "    if norm < min_norm:\n",
    "        min_norm = norm\n",
    "        result_min_norm = result\n",
    "#     print(np.linalg.norm(func2(T_rand_result), ord=2))\n",
    "#     print(T_rand_result)\n",
    "print(result_min_norm.x)\n",
    "print(np.linalg.norm(func_const_power_tec(result_min_norm.x), ord=2))\n",
    "\n",
    "# そのあとでその候補回りでちゃんと探す\n",
    "result_det = optimize.root(func_const_power_tec, result_min_norm.x, method=\"broyden1\")\n",
    "print(result_det.x)\n",
    "print(np.linalg.norm(func_const_power_tec(result_det.x), ord=2))"
   ]
  },
  {
   "cell_type": "code",
   "execution_count": 113,
   "metadata": {},
   "outputs": [
    {
     "name": "stdout",
     "output_type": "stream",
     "text": [
      "[211.39081702 211.38230678 235.57396128 276.76699621 367.73220616\n",
      " 235.0580251  348.55222617]\n",
      "     fun: array([ 9.51408714e+01, -1.11421522e+02, -1.53025255e+02,  3.06339382e-04,\n",
      "        5.87975473e-02,  1.28520907e+00, -5.01710566e+00])\n",
      " message: 'The maximum number of iterations allowed has been reached.'\n",
      "     nit: 800\n",
      "  status: 2\n",
      " success: False\n",
      "       x: array([ -29.35605844,   13.06986972,  224.24387106,  335.54307756,\n",
      "        275.06536015, -724.63488869,  914.26764742])\n"
     ]
    }
   ],
   "source": [
    "print(result_min_norm.x)\n",
    "print(optimize.root(func_const_power_tec, result_min_norm.x, method=\"broyden1\"))\n",
    "T2=result_min_norm.x"
   ]
  },
  {
   "cell_type": "code",
   "execution_count": 109,
   "metadata": {},
   "outputs": [
    {
     "name": "stdout",
     "output_type": "stream",
     "text": [
      "1.5454857315165151\n"
     ]
    }
   ],
   "source": [
    "# TECの電流\n",
    "I_cpmax=(4.0*pel.Rho*pel.Km*pel.Nm*(T2[2]-T2[1])/(pel.Sm_ab*pel.Rm*(T2[1]+T2[2]))*(1.0+np.sqrt(1+pel.Sm_ab**2/2.0/pel.Rho/pel.Km*(T2[1]+T2[2]))))\n",
    "print(I_cpmax)"
   ]
  },
  {
   "cell_type": "code",
   "execution_count": 111,
   "metadata": {},
   "outputs": [
    {
     "name": "stdout",
     "output_type": "stream",
     "text": [
      "0.9652513262002033\n"
     ]
    }
   ],
   "source": [
    "I_const_power = pel.cAlculate_I_with_const_power(T2[2]-T2[1], P_tec)\n",
    "print(I_const_power)"
   ]
  },
  {
   "cell_type": "code",
   "execution_count": 160,
   "metadata": {},
   "outputs": [
    {
     "name": "stdout",
     "output_type": "stream",
     "text": [
      "[0.06720491912491981, 4.9328525077918774, -0.1830757144462795, 0.0015910464573215162, 6.795375448414445e-09, 0.0007770612516487541, 4.780023044756297e-06]\n",
      "4.936706413924073\n"
     ]
    }
   ],
   "source": [
    "# 本当に収束しているのかを検算する\n",
    "print(func2(T1))\n",
    "print(np.linalg.norm(func2(T1), ord=2))"
   ]
  },
  {
   "cell_type": "code",
   "execution_count": 121,
   "metadata": {},
   "outputs": [
    {
     "name": "stdout",
     "output_type": "stream",
     "text": [
      "===MAX COP===\n",
      "I_tec : 1.545\n",
      "Qc_tec : 5.237\n",
      "Qh_tec : 14.349\n",
      "\n",
      "\n",
      "===CONST TEC POWER===\n",
      "I_tec : 0.965\n",
      "Qc_tec : 1.206\n",
      "Qh_tec : 5.206\n"
     ]
    }
   ],
   "source": [
    "# 定常状態のTEC情報\n",
    "print(\"===MAX COP===\")\n",
    "I_tec = pel.cAlculate_I_argmax_COP(T2[1], T2[2]-T2[1])\n",
    "Qc_tec = pel.cAlculate_QC(T2[1], T2[2]-T2[1], I_tec)\n",
    "Qh_tec = pel.cAlculate_QH(T2[2], T2[2]-T2[1], I_tec)\n",
    "print(\"I_tec : %4.3f\" % I_tec)\n",
    "print(\"Qc_tec : %4.3f\" % Qc_tec)\n",
    "print(\"Qh_tec : %4.3f\" % Qh_tec)\n",
    "\n",
    "print(\"\\n\")\n",
    "print(\"===CONST TEC POWER===\")\n",
    "I_const_power = pel.cAlculate_I_with_const_power(T2[2]-T2[1], P_tec)\n",
    "Qc_tec = pel.cAlculate_QC(T2[1], T2[2]-T2[1], I_const_power)\n",
    "Qh_tec = pel.cAlculate_QH(T2[2], T2[2]-T2[1], I_const_power)\n",
    "print(\"I_tec : %4.3f\" % I_const_power)\n",
    "print(\"Qc_tec : %4.3f\" % Qc_tec)\n",
    "print(\"Qh_tec : %4.3f\" % Qh_tec)"
   ]
  },
  {
   "cell_type": "markdown",
   "metadata": {},
   "source": [
    "# 合計消費電力と光学機器発熱とTEC使用電力を振って、低温到達温度をプロットする"
   ]
  },
  {
   "cell_type": "code",
   "execution_count": 122,
   "metadata": {},
   "outputs": [],
   "source": [
    "# 合計電力の最大値\n",
    "P_total_max = 100\n",
    "\n",
    "# 衛星の合計消費電力\n",
    "P_total = np.linspace(0, P_total_max, 8)\n",
    "\n",
    "# 合計消費電力のうち、光学機器で消費される電力の比（最初はこの値のうち一つで計算する）\n",
    "optics_power_ratio = np.linspace(0.0, 1.0 , 8)\n",
    "\n",
    "# TEC使用電力の比 P_tec = ((1-optics_pow_ratio)*P_total)*tec_power_ratio（この値も固定する）\n",
    "tec_power_ratio = np.linspace(0.0, 1.0, 8)"
   ]
  },
  {
   "cell_type": "code",
   "execution_count": 141,
   "metadata": {},
   "outputs": [
    {
     "name": "stdout",
     "output_type": "stream",
     "text": [
      "==== Optics Ratio: 0.000000 ====\n",
      "=== Total Power: 0.000000 ===\n",
      " P_optics: 0.000000\n",
      " P_tec: 0.000000\n"
     ]
    },
    {
     "name": "stderr",
     "output_type": "stream",
     "text": [
      "C:\\Users\\lotus\\anaconda3\\lib\\site-packages\\scipy\\optimize\\nonlin.py:1001: RuntimeWarning: divide by zero encountered in true_divide\n",
      "  d = v / vdot(df, v)\n",
      "C:\\Users\\lotus\\anaconda3\\lib\\site-packages\\scipy\\optimize\\nonlin.py:771: RuntimeWarning: invalid value encountered in multiply\n",
      "  self.collapsed += c[:,None] * d[None,:].conj()\n",
      "C:\\Users\\lotus\\anaconda3\\lib\\site-packages\\scipy\\optimize\\nonlin.py:1001: RuntimeWarning: invalid value encountered in true_divide\n",
      "  d = v / vdot(df, v)\n"
     ]
    },
    {
     "name": "stdout",
     "output_type": "stream",
     "text": [
      " Temperatures : \n",
      "[223.03572779 223.03526701 222.91582854 264.08577951 324.06062486\n",
      " 222.90965928 324.06702303]\n",
      " Error norm: 0.000001\n",
      "=== Total Power: 14.285714 ===\n",
      " P_optics: 0.000000\n",
      " P_tec: 8.163265\n",
      " Temperatures : \n",
      "[198.11541918 198.11430113 231.7949289  264.55457771 330.97485182\n",
      " 230.9595329  328.63478816]\n",
      " Error norm: 0.000001\n",
      "=== Total Power: 28.571429 ===\n",
      " P_optics: 0.000000\n",
      " P_tec: 16.326531\n",
      " Temperatures : \n",
      "[197.34422097 197.34294812 240.05341734 269.3223239  337.65348271\n",
      " 238.39552028 332.95550234]\n",
      " Error norm: 0.000001\n",
      "=== Total Power: 42.857143 ===\n",
      " P_optics: 0.000000\n",
      " P_tec: 24.489796\n",
      " Temperatures : \n",
      "[199.45647177 199.45511949 247.79223655 273.68317956 344.11119508\n",
      " 245.31284714 337.05137482]\n",
      " Error norm: 0.000004\n",
      "=== Total Power: 57.142857 ===\n",
      " P_optics: 0.000000\n",
      " P_tec: 32.653061\n",
      " Temperatures : \n",
      "[202.70618218 202.70477102 255.07662978 278.94715616 350.30294005\n",
      " 251.77602402 340.91210034]\n",
      " Error norm: 0.000001\n",
      "=== Total Power: 71.428571 ===\n",
      " P_optics: 0.000000\n",
      " P_tec: 40.816327\n",
      " Temperatures : \n",
      "[206.50578161 206.50433057 261.9815203  284.00374089 356.37773349\n",
      " 257.85995199 344.62954602]\n",
      " Error norm: 0.000003\n",
      "=== Total Power: 85.714286 ===\n",
      " P_optics: 0.000000\n",
      " P_tec: 48.979592\n",
      " Temperatures : \n",
      "[210.57894481 210.57746955 268.54198104 288.56229675 362.28196605\n",
      " 263.59965971 348.18281428]\n",
      " Error norm: 0.000003\n",
      "=== Total Power: 100.000000 ===\n",
      " P_optics: 0.000000\n",
      " P_tec: 57.142857\n",
      " Temperatures : \n",
      "[214.78166534 214.78018157 274.78673226 292.29834747 367.95258419\n",
      " 269.02386929 351.54713817]\n",
      " Error norm: 0.000004\n",
      "==== Optics Ratio: 0.142857 ====\n",
      "=== Total Power: 0.000000 ===\n",
      " P_optics: 0.000000\n",
      " P_tec: 0.000000\n"
     ]
    },
    {
     "name": "stderr",
     "output_type": "stream",
     "text": [
      "C:\\Users\\lotus\\anaconda3\\lib\\site-packages\\scipy\\optimize\\nonlin.py:1001: RuntimeWarning: invalid value encountered in true_divide\n",
      "  d = v / vdot(df, v)\n"
     ]
    },
    {
     "name": "stdout",
     "output_type": "stream",
     "text": [
      " Temperatures : \n",
      "[223.04048533 223.04002363 222.92037199 264.16601953 324.08190198\n",
      " 222.91419128 324.07930973]\n",
      " Error norm: 0.000000\n",
      "=== Total Power: 14.285714 ===\n",
      " P_optics: 2.040816\n",
      " P_tec: 6.997085\n",
      " Temperatures : \n",
      "[205.02918978 205.01288225 232.44301069 266.09662097 330.31920083\n",
      " 231.52148096 328.32732763]\n",
      " Error norm: 0.000004\n",
      "=== Total Power: 28.571429 ===\n",
      " P_optics: 4.081633\n",
      " P_tec: 13.994169\n",
      " Temperatures : \n",
      "[208.92103207 208.88934681 241.28301099 270.952554   336.36707619\n",
      " 239.45239336 332.35366674]\n",
      " Error norm: 0.000006\n",
      "=== Total Power: 42.857143 ===\n",
      " P_optics: 6.122449\n",
      " P_tec: 20.991254\n"
     ]
    },
    {
     "name": "stderr",
     "output_type": "stream",
     "text": [
      "C:\\Users\\lotus\\anaconda3\\lib\\site-packages\\scipy\\optimize\\nonlin.py:1001: RuntimeWarning: divide by zero encountered in true_divide\n",
      "  d = v / vdot(df, v)\n",
      "C:\\Users\\lotus\\anaconda3\\lib\\site-packages\\scipy\\optimize\\nonlin.py:771: RuntimeWarning: invalid value encountered in multiply\n",
      "  self.collapsed += c[:,None] * d[None,:].conj()\n"
     ]
    },
    {
     "name": "stdout",
     "output_type": "stream",
     "text": [
      " Temperatures : \n",
      "[215.20181692 215.15478787 249.56837832 278.11361389 342.2948593\n",
      " 246.82913537 336.21658804]\n",
      " Error norm: 0.000008\n",
      "=== Total Power: 57.142857 ===\n",
      " P_optics: 8.163265\n",
      " P_tec: 27.988338\n",
      " Temperatures : \n",
      "[222.26026193 222.19794248 257.31936769 282.63752026 347.82449461\n",
      " 253.67220293 339.76954217]\n",
      " Error norm: 0.000002\n",
      "=== Total Power: 71.428571 ===\n",
      " P_optics: 10.204082\n",
      " P_tec: 34.985423\n",
      " Temperatures : \n",
      "[229.64203529 229.56443228 264.66183817 287.60628149 353.29220046\n",
      " 260.10684982 343.21447336]\n",
      " Error norm: 0.000007\n",
      "=== Total Power: 85.714286 ===\n",
      " P_optics: 12.244898\n",
      " P_tec: 41.982507\n",
      " Temperatures : \n",
      "[237.11683612 237.02394528 271.62955928 293.50808517 358.55863352\n",
      " 266.16668823 346.48233523]\n",
      " Error norm: 0.000000\n",
      "=== Total Power: 100.000000 ===\n",
      " P_optics: 14.285714\n",
      " P_tec: 48.979592\n",
      " Temperatures : \n",
      "[244.57543075 244.4672706  278.26885344 298.06497492 363.72363659\n",
      " 271.89834837 349.63416125]\n",
      " Error norm: 0.000004\n",
      "==== Optics Ratio: 0.285714 ====\n",
      "=== Total Power: 0.000000 ===\n",
      " P_optics: 0.000000\n",
      " P_tec: 0.000000\n"
     ]
    },
    {
     "name": "stderr",
     "output_type": "stream",
     "text": [
      "C:\\Users\\lotus\\anaconda3\\lib\\site-packages\\scipy\\optimize\\nonlin.py:1001: RuntimeWarning: divide by zero encountered in true_divide\n",
      "  d = v / vdot(df, v)\n",
      "C:\\Users\\lotus\\anaconda3\\lib\\site-packages\\scipy\\optimize\\nonlin.py:771: RuntimeWarning: invalid value encountered in multiply\n",
      "  self.collapsed += c[:,None] * d[None,:].conj()\n",
      "C:\\Users\\lotus\\anaconda3\\lib\\site-packages\\scipy\\optimize\\nonlin.py:1001: RuntimeWarning: invalid value encountered in true_divide\n",
      "  d = v / vdot(df, v)\n"
     ]
    },
    {
     "name": "stdout",
     "output_type": "stream",
     "text": [
      " Temperatures : \n",
      "[223.04588698 223.04541977 222.92434228 264.66172046 324.08928639\n",
      " 222.91808785 324.08417413]\n",
      " Error norm: 0.000004\n",
      "=== Total Power: 14.285714 ===\n",
      " P_optics: 4.081633\n",
      " P_tec: 5.830904\n",
      " Temperatures : \n",
      "[212.275998   212.24451299 233.10968681 267.22950213 329.77574983\n",
      " 232.10217821 328.08049476]\n",
      " Error norm: 0.000003\n",
      "=== Total Power: 28.571429 ===\n",
      " P_optics: 8.163265\n",
      " P_tec: 11.661808\n",
      " Temperatures : \n",
      "[220.97624207 220.91413798 242.51880527 274.10306178 335.15402955\n",
      " 240.51538141 331.79170563]\n",
      " Error norm: 0.000001\n",
      "=== Total Power: 42.857143 ===\n",
      " P_optics: 12.244898\n",
      " P_tec: 17.492711\n",
      " Temperatures : \n",
      "[231.48521378 231.3925432  251.29115359 280.56067735 340.31716716\n",
      " 248.29251706 335.2851469 ]\n",
      " Error norm: 0.000001\n",
      "=== Total Power: 57.142857 ===\n",
      " P_optics: 16.326531\n",
      " P_tec: 23.323615\n",
      " Temperatures : \n",
      "[242.46790023 242.34468049 259.52527496 286.96277115 345.30651298\n",
      " 255.53165853 338.59868138]\n",
      " Error norm: 0.000000\n",
      "=== Total Power: 71.428571 ===\n",
      " P_optics: 20.408163\n",
      " P_tec: 29.154519\n",
      " Temperatures : \n",
      "[253.50780452 253.35404551 267.29736293 293.06148813 350.16690269\n",
      " 262.30890012 341.76745503]\n",
      " Error norm: 0.000001\n",
      "=== Total Power: 85.714286 ===\n",
      " P_optics: 24.489796\n",
      " P_tec: 34.985423\n",
      " Temperatures : \n",
      "[264.43848495 264.25418559 274.66113186 299.45105758 354.83855219\n",
      " 268.67780555 344.76938122]\n",
      " Error norm: 0.000005\n",
      "=== Total Power: 100.000000 ===\n",
      " P_optics: 28.571429\n",
      " P_tec: 40.816327\n",
      " Temperatures : \n",
      "[275.18574478 274.97092141 281.66542626 304.38003847 359.38779864\n",
      " 274.68745651 347.64608014]\n",
      " Error norm: 0.000001\n",
      "==== Optics Ratio: 0.428571 ====\n",
      "=== Total Power: 0.000000 ===\n",
      " P_optics: 0.000000\n",
      " P_tec: 0.000000\n"
     ]
    },
    {
     "name": "stderr",
     "output_type": "stream",
     "text": [
      "C:\\Users\\lotus\\anaconda3\\lib\\site-packages\\scipy\\optimize\\nonlin.py:1001: RuntimeWarning: divide by zero encountered in true_divide\n",
      "  d = v / vdot(df, v)\n",
      "C:\\Users\\lotus\\anaconda3\\lib\\site-packages\\scipy\\optimize\\nonlin.py:771: RuntimeWarning: invalid value encountered in multiply\n",
      "  self.collapsed += c[:,None] * d[None,:].conj()\n",
      "C:\\Users\\lotus\\anaconda3\\lib\\site-packages\\scipy\\optimize\\nonlin.py:1001: RuntimeWarning: invalid value encountered in true_divide\n",
      "  d = v / vdot(df, v)\n"
     ]
    },
    {
     "name": "stdout",
     "output_type": "stream",
     "text": [
      " Temperatures : \n",
      "[223.04440414 223.0439379  222.92317757 264.56466464 324.08821379\n",
      " 222.91694026 324.08321675]\n",
      " Error norm: 0.000004\n",
      "=== Total Power: 14.285714 ===\n",
      " P_optics: 6.122449\n",
      " P_tec: 4.664723\n",
      " Temperatures : \n",
      "[219.7844522  219.73784388 233.61819795 264.2305574  328.48382218\n",
      " 232.52543892 327.40492639]\n",
      " Error norm: 0.000045\n",
      "=== Total Power: 28.571429 ===\n",
      " P_optics: 12.244898\n",
      " P_tec: 9.329446\n",
      " Temperatures : \n",
      "[233.60849443 233.51599112 243.73049302 276.69068185 333.87377554\n",
      " 241.5545245  331.18955798]\n",
      " Error norm: 0.000001\n",
      "=== Total Power: 42.857143 ===\n",
      " P_optics: 18.367347\n",
      " P_tec: 13.994169\n",
      " Temperatures : \n",
      "[248.49838819 248.36008168 253.00024399 283.97439952 338.36277833\n",
      " 249.74229467 334.36359867]\n",
      " Error norm: 0.000002\n",
      "=== Total Power: 57.142857 ===\n",
      " P_optics: 24.489796\n",
      " P_tec: 18.658892\n",
      " Temperatures : \n",
      "[263.5009853  263.31688787 261.70206759 290.95582156 342.82803595\n",
      " 257.36230489 337.4411273 ]\n",
      " Error norm: 0.000003\n",
      "=== Total Power: 71.428571 ===\n",
      " P_optics: 30.612245\n",
      " P_tec: 23.323615\n",
      " Temperatures : \n",
      "[278.27902568 278.04913766 269.89185716 297.97607339 347.08132696\n",
      " 264.47028187 340.33153162]\n",
      " Error norm: 0.000004\n",
      "=== Total Power: 85.714286 ===\n",
      " P_optics: 36.734694\n",
      " P_tec: 27.988338\n",
      " Temperatures : \n",
      "[292.7157955  292.44012804 277.62522895 303.78655868 351.0731539\n",
      " 271.12198832 343.01575216]\n",
      " Error norm: 0.000005\n",
      "=== Total Power: 100.000000 ===\n",
      " P_optics: 42.857143\n",
      " P_tec: 32.653061\n",
      " Temperatures : \n",
      "[306.81487228 306.49340977 284.99675585 310.66144927 355.08831578\n",
      " 277.41164349 345.65768269]\n",
      " Error norm: 0.000003\n",
      "==== Optics Ratio: 0.571429 ====\n",
      "=== Total Power: 0.000000 ===\n",
      " P_optics: 0.000000\n",
      " P_tec: 0.000000\n"
     ]
    },
    {
     "name": "stderr",
     "output_type": "stream",
     "text": [
      "C:\\Users\\lotus\\anaconda3\\lib\\site-packages\\scipy\\optimize\\nonlin.py:1001: RuntimeWarning: invalid value encountered in true_divide\n",
      "  d = v / vdot(df, v)\n",
      "C:\\Users\\lotus\\anaconda3\\lib\\site-packages\\scipy\\optimize\\nonlin.py:1001: RuntimeWarning: divide by zero encountered in true_divide\n",
      "  d = v / vdot(df, v)\n",
      "C:\\Users\\lotus\\anaconda3\\lib\\site-packages\\scipy\\optimize\\nonlin.py:771: RuntimeWarning: invalid value encountered in multiply\n",
      "  self.collapsed += c[:,None] * d[None,:].conj()\n"
     ]
    },
    {
     "name": "stdout",
     "output_type": "stream",
     "text": [
      " Temperatures : \n",
      "[223.03037873 223.02991468 222.90965706 264.3634125  324.02039177\n",
      " 222.90344416 324.04412219]\n",
      " Error norm: 0.000003\n",
      "=== Total Power: 14.285714 ===\n",
      " P_optics: 8.163265\n",
      " P_tec: 3.498542\n",
      " Temperatures : \n",
      "[228.09838043 228.03656234 234.36836901 270.27731684 328.33832164\n",
      " 233.18920201 327.39093379]\n",
      " Error norm: 0.000007\n",
      "=== Total Power: 28.571429 ===\n",
      " P_optics: 16.326531\n",
      " P_tec: 6.997085\n",
      " Temperatures : \n",
      "[247.03399633 246.91110519 244.9253695  279.86873301 332.55051855\n",
      " 242.57700948 330.56219303]\n",
      " Error norm: 0.000006\n",
      "=== Total Power: 42.857143 ===\n",
      " P_optics: 24.489796\n",
      " P_tec: 10.495627\n",
      " Temperatures : \n",
      "[266.48830911 266.30438884 254.70798913 287.38032706 336.52773764\n",
      " 251.19102102 333.50367683]\n",
      " Error norm: 0.000002\n",
      "=== Total Power: 57.142857 ===\n",
      " P_optics: 32.653061\n",
      " P_tec: 13.994169\n",
      " Temperatures : \n",
      "[285.61351871 285.36855963 263.83637696 295.73582262 340.2326392\n",
      " 259.15067657 336.2141163 ]\n",
      " Error norm: 0.000002\n",
      "=== Total Power: 71.428571 ===\n",
      " P_optics: 40.816327\n",
      " P_tec: 17.492711\n",
      " Temperatures : \n",
      "[304.20896587 303.902969   272.41377939 303.49661104 343.74695331\n",
      " 266.55935775 338.74974987]\n",
      " Error norm: 0.000006\n",
      "=== Total Power: 85.714286 ===\n",
      " P_optics: 48.979592\n",
      " P_tec: 20.991254\n",
      " Temperatures : \n",
      "[322.24609319 321.87906282 280.53310257 310.2236233  347.23873159\n",
      " 273.51001492 341.21238798]\n",
      " Error norm: 0.000003\n",
      "=== Total Power: 100.000000 ===\n",
      " P_optics: 57.142857\n",
      " P_tec: 24.489796\n",
      " Temperatures : \n",
      "[339.72616912 339.2980984  288.23710955 316.84900058 350.57826736\n",
      " 280.04526877 343.53756449]\n",
      " Error norm: 0.000001\n",
      "==== Optics Ratio: 0.714286 ====\n",
      "=== Total Power: 0.000000 ===\n",
      " P_optics: 0.000000\n",
      " P_tec: 0.000000\n"
     ]
    },
    {
     "name": "stderr",
     "output_type": "stream",
     "text": [
      "C:\\Users\\lotus\\anaconda3\\lib\\site-packages\\scipy\\optimize\\nonlin.py:1001: RuntimeWarning: divide by zero encountered in true_divide\n",
      "  d = v / vdot(df, v)\n",
      "C:\\Users\\lotus\\anaconda3\\lib\\site-packages\\scipy\\optimize\\nonlin.py:771: RuntimeWarning: invalid value encountered in multiply\n",
      "  self.collapsed += c[:,None] * d[None,:].conj()\n",
      "C:\\Users\\lotus\\anaconda3\\lib\\site-packages\\scipy\\optimize\\nonlin.py:1001: RuntimeWarning: invalid value encountered in true_divide\n",
      "  d = v / vdot(df, v)\n"
     ]
    },
    {
     "name": "stdout",
     "output_type": "stream",
     "text": [
      " Temperatures : \n",
      "[223.04851917 223.0480506  222.92662306 264.78474243 324.0975179\n",
      " 222.92035046 324.08911104]\n",
      " Error norm: 0.000005\n",
      "=== Total Power: 14.285714 ===\n",
      " P_optics: 10.204082\n",
      " P_tec: 2.332362\n",
      " Temperatures : \n",
      "[237.16068107 237.0837213  235.01664624 271.87541537 327.75866669\n",
      " 233.75198257 327.12138067]\n",
      " Error norm: 0.000005\n",
      "=== Total Power: 28.571429 ===\n",
      " P_optics: 20.408163\n",
      " P_tec: 4.664723\n",
      " Temperatures : \n",
      "[261.63731007 261.48406814 246.12384632 282.11270783 331.32847435\n",
      " 243.60359014 329.98772801]\n",
      " Error norm: 0.000000\n",
      "=== Total Power: 42.857143 ===\n",
      " P_optics: 30.612245\n",
      " P_tec: 6.997085\n",
      " Temperatures : \n",
      "[285.85280806 285.62329594 256.38476636 291.60957569 334.61622643\n",
      " 252.60907812 332.59777704]\n",
      " Error norm: 0.000002\n",
      "=== Total Power: 57.142857 ===\n",
      " P_optics: 40.816327\n",
      " P_tec: 9.329446\n",
      " Temperatures : \n",
      "[309.24656398 308.94078101 265.93207843 300.22335086 337.58940681\n",
      " 260.90094843 334.95241383]\n",
      " Error norm: 0.000005\n",
      "=== Total Power: 71.428571 ===\n",
      " P_optics: 51.020408\n",
      " P_tec: 11.661808\n",
      " Temperatures : \n",
      "[331.78569877 331.40363888 274.91863742 308.25239781 340.62646419\n",
      " 268.63198586 337.27214221]\n",
      " Error norm: 0.000001\n",
      "=== Total Power: 85.714286 ===\n",
      " P_optics: 61.224490\n",
      " P_tec: 13.994169\n",
      " Temperatures : \n",
      "[353.47583813 353.01749058 283.38816766 316.04090409 343.42748498\n",
      " 275.84585063 339.4040775 ]\n",
      " Error norm: 0.000001\n",
      "=== Total Power: 100.000000 ===\n",
      " P_optics: 71.428571\n",
      " P_tec: 16.326531\n",
      " Temperatures : \n",
      "[374.38175174 373.84710761 291.40991538 323.50316512 346.01333606\n",
      " 282.61181147 341.36832016]\n",
      " Error norm: 0.000005\n",
      "==== Optics Ratio: 0.857143 ====\n",
      "=== Total Power: 0.000000 ===\n",
      " P_optics: 0.000000\n",
      " P_tec: 0.000000\n"
     ]
    },
    {
     "name": "stderr",
     "output_type": "stream",
     "text": [
      "C:\\Users\\lotus\\anaconda3\\lib\\site-packages\\scipy\\optimize\\nonlin.py:1001: RuntimeWarning: invalid value encountered in true_divide\n",
      "  d = v / vdot(df, v)\n"
     ]
    },
    {
     "name": "stdout",
     "output_type": "stream",
     "text": [
      " Temperatures : \n",
      "[223.03745768 223.03699944 222.91828872 263.84000472 324.07612644\n",
      " 222.91215448 324.07548669]\n",
      " Error norm: 0.000004\n",
      "=== Total Power: 14.285714 ===\n",
      " P_optics: 12.244898\n",
      " P_tec: 1.166181\n"
     ]
    },
    {
     "name": "stderr",
     "output_type": "stream",
     "text": [
      "C:\\Users\\lotus\\anaconda3\\lib\\site-packages\\scipy\\optimize\\nonlin.py:1001: RuntimeWarning: divide by zero encountered in true_divide\n",
      "  d = v / vdot(df, v)\n",
      "C:\\Users\\lotus\\anaconda3\\lib\\site-packages\\scipy\\optimize\\nonlin.py:771: RuntimeWarning: invalid value encountered in multiply\n",
      "  self.collapsed += c[:,None] * d[None,:].conj()\n"
     ]
    },
    {
     "name": "stdout",
     "output_type": "stream",
     "text": [
      " Temperatures : \n",
      "[247.77548104 247.68339792 235.68636667 274.93175705 327.28595381\n",
      " 234.33645126 326.91586677]\n",
      " Error norm: 0.000005\n",
      "=== Total Power: 28.571429 ===\n",
      " P_optics: 24.489796\n",
      " P_tec: 2.332362\n",
      " Temperatures : \n",
      "[278.2231172  278.03956596 247.30123726 284.67459116 330.05426657\n",
      " 244.60964063 329.38211413]\n",
      " Error norm: 0.000007\n",
      "=== Total Power: 42.857143 ===\n",
      " P_optics: 36.734694\n",
      " P_tec: 3.498542\n",
      " Temperatures : \n",
      "[307.45578463 307.18072971 258.02582952 295.99213255 332.587352\n",
      " 253.99207098 331.62231964]\n",
      " Error norm: 0.000007\n",
      "=== Total Power: 57.142857 ===\n",
      " P_optics: 48.979592\n",
      " P_tec: 4.664723\n",
      " Temperatures : \n",
      "[335.30547872 334.93891723 268.02180411 305.56641536 335.10981618\n",
      " 262.64585327 333.77337746]\n",
      " Error norm: 0.000004\n",
      "=== Total Power: 71.428571 ===\n",
      " P_optics: 61.224490\n",
      " P_tec: 5.830904\n",
      " Temperatures : \n",
      "[361.86167305 361.40359612 277.39081751 313.95692906 337.54285502\n",
      " 270.67255136 335.80551345]\n",
      " Error norm: 0.000006\n",
      "=== Total Power: 85.714286 ===\n",
      " P_optics: 73.469388\n",
      " P_tec: 6.997085\n",
      " Temperatures : \n",
      "[387.2336172  386.68399743 286.18646241 322.98447442 339.55329023\n",
      " 278.12551461 337.54722329]\n",
      " Error norm: 0.000004\n",
      "=== Total Power: 100.000000 ===\n",
      " P_optics: 85.714286\n",
      " P_tec: 8.163265\n",
      " Temperatures : \n",
      "[411.58612328 410.94495978 294.53695753 330.49965399 341.58487596\n",
      " 285.13331535 339.25065541]\n",
      " Error norm: 0.000002\n",
      "==== Optics Ratio: 1.000000 ====\n",
      "=== Total Power: 0.000000 ===\n",
      " P_optics: 0.000000\n",
      " P_tec: 0.000000\n"
     ]
    },
    {
     "name": "stderr",
     "output_type": "stream",
     "text": [
      "C:\\Users\\lotus\\anaconda3\\lib\\site-packages\\scipy\\optimize\\nonlin.py:1001: RuntimeWarning: divide by zero encountered in true_divide\n",
      "  d = v / vdot(df, v)\n",
      "C:\\Users\\lotus\\anaconda3\\lib\\site-packages\\scipy\\optimize\\nonlin.py:771: RuntimeWarning: invalid value encountered in multiply\n",
      "  self.collapsed += c[:,None] * d[None,:].conj()\n"
     ]
    },
    {
     "name": "stdout",
     "output_type": "stream",
     "text": [
      " Temperatures : \n",
      "[223.03080205 223.0303474  222.91252198 263.52718276 324.0581765\n",
      " 222.9064367  324.06489014]\n",
      " Error norm: 0.000005\n",
      "=== Total Power: 14.285714 ===\n",
      " P_optics: 14.285714\n",
      " P_tec: 0.000000\n"
     ]
    },
    {
     "name": "stderr",
     "output_type": "stream",
     "text": [
      "C:\\Users\\lotus\\anaconda3\\lib\\site-packages\\scipy\\optimize\\nonlin.py:1001: RuntimeWarning: invalid value encountered in true_divide\n",
      "  d = v / vdot(df, v)\n"
     ]
    },
    {
     "name": "stdout",
     "output_type": "stream",
     "text": [
      " Temperatures : \n",
      "[263.00918338 262.90208474 236.3241474  277.68632414 326.70881499\n",
      " 234.89042896 326.64982778]\n",
      " Error norm: 0.000006\n",
      "=== Total Power: 28.571429 ===\n",
      " P_optics: 28.571429\n",
      " P_tec: 0.000000\n",
      " Temperatures : \n",
      "[299.74941512 299.5356467  248.46891259 288.90765454 328.7739533\n",
      " 245.60720907 328.77280201]\n",
      " Error norm: 0.000005\n",
      "=== Total Power: 42.857143 ===\n",
      " P_optics: 42.857143\n",
      " P_tec: 0.000000\n",
      " Temperatures : \n",
      "[333.97896621 333.65846874 259.66496106 301.32945542 330.70488258\n",
      " 255.3744822  330.72407311]\n",
      " Error norm: 0.000006\n",
      "=== Total Power: 57.142857 ===\n",
      " P_optics: 57.142857\n",
      " P_tec: 0.000000\n",
      " Temperatures : \n",
      "[366.11100908 365.68377869 270.05243359 310.70937947 332.45370324\n",
      " 264.333128   332.48857004]\n",
      " Error norm: 0.000004\n",
      "=== Total Power: 71.428571 ===\n",
      " P_optics: 71.428571\n",
      " P_tec: 0.000000\n",
      " Temperatures : \n",
      "[396.51183794 395.977831   279.7848635  321.15511602 334.14876885\n",
      " 272.6361475  334.15700428]\n",
      " Error norm: 0.000004\n",
      "=== Total Power: 85.714286 ===\n",
      " P_optics: 85.714286\n",
      " P_tec: 0.000000\n",
      " Temperatures : \n",
      "[425.40491943 424.76412943 288.93280769 329.75008019 335.63822897\n",
      " 280.3545939  335.65227843]\n",
      " Error norm: 0.000001\n",
      "=== Total Power: 100.000000 ===\n",
      " P_optics: 100.000000\n",
      " P_tec: 0.000000\n",
      " Temperatures : \n",
      "[453.00907105 452.26147553 297.59256559 338.24914542 337.02865816\n",
      " 287.58455307 337.04484284]\n",
      " Error norm: 0.000003\n"
     ]
    },
    {
     "data": {
      "image/png": "[encoded data removed]",
      "text/plain": [
       "<Figure size 432x288 with 1 Axes>"
      ]
     },
     "metadata": {
      "needs_background": "light"
     },
     "output_type": "display_data"
    }
   ],
   "source": [
    "# 光学機器電力の比をとりあえず固定\n",
    "optics_power_ratio_4 = optics_power_ratio[4]\n",
    "# TECの比をとりあえず固定\n",
    "tec_power_ratio_4 = tec_power_ratio[4]\n",
    "\n",
    "# 光学機器の温度を格納するための配列\n",
    "T_opt = np.zeros((len(optics_power_ratio), len(P_total)))\n",
    "\n",
    "# グラフの準備\n",
    "pyplot.title('Total Power vs Reachable Temperature')\n",
    "pyplot.xlabel('Total Power [W]')\n",
    "pyplot.ylabel('T [K]')\n",
    "\n",
    "# 光学機器の電力割合を振る\n",
    "for i in range(len(optics_power_ratio)):\n",
    "    print(\"==== Optics Ratio: %f ====\" % optics_power_ratio[i])\n",
    "    # 合計消費電力を振る\n",
    "    for j in range(len(P_total)):\n",
    "\n",
    "        # 光学機器電力\n",
    "        P_optics = optics_power_ratio[i] * P_total[j]\n",
    "        # TEC使用電力\n",
    "        P_tec = tec_power_ratio_4 * (P_total[j]-P_optics)\n",
    "        # 計算で使うためにQgの0要素目にセットする\n",
    "        Qg[0] = P_optics\n",
    "        Qg[4] = P_total[j]-P_optics-P_tec\n",
    "\n",
    "        # 条件をアウトプット\n",
    "        print(\"=== Total Power: %f ===\" % P_total[j])\n",
    "        print(\" P_optics: %f\" % P_optics)\n",
    "        print(\" P_tec: %f\" % P_tec)\n",
    "\n",
    "        # 非線形連立方程式の初期解をfor文で探すパターン\n",
    "        N_rand = 20\n",
    "        T_max = 350\n",
    "        T_min = 100\n",
    "        T_rand_arr = (T_max - T_min)*np.random.rand(N_rand, N_node)+T_min\n",
    "        # print(T_rand_arr[0])\n",
    "        # ノルムで最小値をセットする（ありえないくらい大きな値でセット）\n",
    "        min_norm=100\n",
    "        # まずは候補となりそうな初期解をざっくり見つける\n",
    "        for T_rand_arr_i in T_rand_arr:\n",
    "            result = optimize.root(func_const_power_tec, T_rand_arr_i, method=\"broyden1\")\n",
    "            T_rand_result = result.x\n",
    "            norm = np.linalg.norm(func_const_power_tec(T_rand_result), ord=2)\n",
    "        #     print('Error: {}'.format(norm))\n",
    "            if norm < min_norm:\n",
    "                min_norm = norm\n",
    "                result_min_norm = result\n",
    "        #     print(np.linalg.norm(func2(T_rand_result), ord=2))\n",
    "        #     print(T_rand_result)\n",
    "    #     print(result_min_norm.x)\n",
    "        T_opt[i][j]=result_min_norm.x[0]\n",
    "        print(\" Temperatures : \")\n",
    "        print(result_min_norm.x)\n",
    "        print(\" Error norm: %f\" % np.linalg.norm(func_const_power_tec(result_min_norm.x), ord=2))\n",
    "\n",
    "    # P vs Tのグラフを出力する\n",
    "    pyplot.plot(P_total, T_opt[i],'o-', label = 'optics power ratio = {0}'.format(optics_power_ratio[i]))\n",
    "    \n",
    "# 最後にグラフに出力する\n",
    "pyplot.legend()\n",
    "pyplot.show()"
   ]
  },
  {
   "cell_type": "code",
   "execution_count": 136,
   "metadata": {},
   "outputs": [
    {
     "name": "stderr",
     "output_type": "stream",
     "text": [
      "No handles with labels found to put in legend.\n"
     ]
    },
    {
     "data": {
      "image/png": "[encoded data removed]",
      "text/plain": [
       "<Figure size 432x288 with 1 Axes>"
      ]
     },
     "metadata": {
      "needs_background": "light"
     },
     "output_type": "display_data"
    }
   ],
   "source": []
  },
  {
   "cell_type": "code",
   "execution_count": null,
   "metadata": {},
   "outputs": [],
   "source": []
  }
 ],
 "metadata": {
  "kernelspec": {
   "display_name": "Python 3",
   "language": "python",
   "name": "python3"
  },
  "language_info": {
   "codemirror_mode": {
    "name": "ipython",
    "version": 3
   },
   "file_extension": ".py",
   "mimetype": "text/x-python",
   "name": "python",
   "nbconvert_exporter": "python",
   "pygments_lexer": "ipython3",
   "version": "3.8.3"
  }
 },
 "nbformat": 4,
 "nbformat_minor": 4
}
